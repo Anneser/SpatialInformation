{
 "cells": [
  {
   "cell_type": "code",
   "execution_count": 1,
   "id": "de5ea6b3",
   "metadata": {},
   "outputs": [
    {
     "ename": "ModuleNotFoundError",
     "evalue": "No module named 'spatialinfo'",
     "output_type": "error",
     "traceback": [
      "\u001b[1;31m---------------------------------------------------------------------------\u001b[0m",
      "\u001b[1;31mModuleNotFoundError\u001b[0m                       Traceback (most recent call last)",
      "Cell \u001b[1;32mIn[1], line 16\u001b[0m\n\u001b[0;32m     13\u001b[0m \u001b[38;5;28;01mfrom\u001b[39;00m\u001b[38;5;250m \u001b[39m\u001b[38;5;21;01mtensorflow\u001b[39;00m\u001b[38;5;21;01m.\u001b[39;00m\u001b[38;5;21;01mkeras\u001b[39;00m\u001b[38;5;250m \u001b[39m\u001b[38;5;28;01mimport\u001b[39;00m layers, models\n\u001b[0;32m     14\u001b[0m \u001b[38;5;28;01mfrom\u001b[39;00m\u001b[38;5;250m \u001b[39m\u001b[38;5;21;01mkeras_tuner\u001b[39;00m\u001b[38;5;250m \u001b[39m\u001b[38;5;28;01mimport\u001b[39;00m HyperModel, RandomSearch\n\u001b[1;32m---> 16\u001b[0m \u001b[38;5;28;01mfrom\u001b[39;00m\u001b[38;5;250m \u001b[39m\u001b[38;5;21;01mspatialinfo\u001b[39;00m\u001b[38;5;250m \u001b[39m\u001b[38;5;28;01mimport\u001b[39;00m spatial_information \u001b[38;5;28;01mas\u001b[39;00m si\n",
      "\u001b[1;31mModuleNotFoundError\u001b[0m: No module named 'spatialinfo'"
     ]
    }
   ],
   "source": [
    "import pandas as pd\n",
    "import numpy as np\n",
    "import matplotlib.pyplot as plt\n",
    "from pathlib import Path\n",
    "import scipy.ndimage\n",
    "import seaborn as sns\n",
    "from PIL import Image\n",
    "from sklearn.preprocessing import MinMaxScaler\n",
    "from sklearn.model_selection import train_test_split\n",
    "from sklearn.metrics import accuracy_score, confusion_matrix, classification_report\n",
    "from sklearn.feature_selection import mutual_info_classif\n",
    "import tensorflow as tf\n",
    "from tensorflow.keras import layers, models\n",
    "from keras_tuner import HyperModel, RandomSearch\n",
    "\n",
    "from spatialinfo import spatial_information as si"
   ]
  },
  {
   "cell_type": "code",
   "execution_count": 2,
   "id": "6b09eb8c",
   "metadata": {},
   "outputs": [
    {
     "name": "stdout",
     "output_type": "stream",
     "text": [
      "Obtaining file:///D:/projects/SpatialInformation\n",
      "  Installing build dependencies: started\n",
      "  Installing build dependencies: finished with status 'done'\n",
      "  Checking if build backend supports build_editable: started\n",
      "  Checking if build backend supports build_editable: finished with status 'done'\n",
      "  Getting requirements to build editable: started\n",
      "  Getting requirements to build editable: finished with status 'done'\n",
      "  Preparing editable metadata (pyproject.toml): started\n",
      "  Preparing editable metadata (pyproject.toml): finished with status 'done'\n",
      "Building wheels for collected packages: spatialinfo\n",
      "  Building editable for spatialinfo (pyproject.toml): started\n",
      "  Building editable for spatialinfo (pyproject.toml): finished with status 'done'\n",
      "  Created wheel for spatialinfo: filename=spatialinfo-0.0.0-0.editable-py3-none-any.whl size=5390 sha256=b71bfa17346140e6441840b9ac73d074c104c53902b6736ba6a7f9caa492809e\n",
      "  Stored in directory: C:\\Users\\lukas\\AppData\\Local\\Temp\\pip-ephem-wheel-cache-0w1stkrg\\wheels\\a8\\a3\\da\\60b2de75965afc4c2168f79a3162ef8bb7730e84077f22a0d7\n",
      "Successfully built spatialinfo\n",
      "Installing collected packages: spatialinfo\n",
      "Successfully installed spatialinfo-0.0.0\n",
      "Note: you may need to restart the kernel to use updated packages.\n"
     ]
    }
   ],
   "source": [
    "%pip install -e ../."
   ]
  },
  {
   "cell_type": "markdown",
   "id": "e2d893c1",
   "metadata": {},
   "source": [
    "[Introduction](#location-decoding-from-population-activity)\n",
    "\n",
    "\n",
    "\n",
    "[ANN](#build-and-run-the-model)"
   ]
  },
  {
   "cell_type": "markdown",
   "id": "94cd55c8",
   "metadata": {},
   "source": [
    "# Location Decoding From Population Activity\n",
    "\n",
    "This notebook extends the analysis of neural activity data (2P calcium imaging) of adult zebrafish moving through a virtual reality (1D corridors). Here, the amount of information encoded in the population activity will be measured. Secondly, the position of the fish within the VR will be decoded from activity data by different statistical procedures. \n",
    "\n",
    "1. Mututal information between single neuron activity and location of the animal\n",
    "2. Logistic classifier for the corridors based on neural activity\n",
    "\n",
    "Regarding the first point, one approach would be to calculate the information gain for each feature (i.e., activity of each neuron). One could construct the problem at hand as a classification problem, where our input vector is\n",
    "\n",
    "$X_i = \\begin{bmatrix} \\lambda_1 \\\\\\ \\lambda_2 \\\\\\ \\lambda_3 \\\\\\ \\lambda_{...} \\\\\\ \\lambda_j \\end{bmatrix}$, with $\\lambda_{1-j}$ being the averaged activity of each neuron for space bin i. The output vector might then take the form of \n",
    "\n",
    "$Y_i = \\begin{bmatrix} corridor \\\\\\ bin_i \\end{bmatrix}$ or $Y_i =  bin_i^{corridor}$\n",
    "\n",
    "### Input Files\n",
    "We are using the following data structure: \n",
    "```\n",
    "processed_datasets/\n",
    "├── yyyymmdd_Area_AcqNr/\n",
    "│   ├── yyyymmdd_Area_AcqNr_dff.pkl\n",
    "│   ├── yyyymmdd_Area_AcqNr_behavior.pkl\n",
    "```\n",
    "\n",
    "These .pkl files contain activity data for all neurons in a given dataset ($\\Delta F/F_0$ normalized) and the position of the fish in the virtual reality (X and Y columns for spatial information and frdIn for tailbeat intensity).\n",
    "\n",
    "\n",
    "### Pre-processing\n",
    "Initially, we follow the steps outlined in the notebook on [spatial information coding](SpatialInformationCoding.ipynb). \n",
    "\n",
    "1. We discretize the behavioral data into spatial bins tiling the two corridors.\n",
    "2. We compute the average activity matrix that contains the average activity per neuron per spatial bin.\n",
    "3. This dataset will be min/max normalized for each neuron.\n",
    "4. From here, we obtain the input/output pairs with an activity vector of all neurons for a given space bin as the input and the identity of the space bin as the output.\n",
    "\n",
    "\n",
    "\n",
    "\n",
    "\n",
    "### References\n",
    "\n",
    "https://www.geeksforgeeks.org/information-gain-and-mutual-information-for-machine-learning/"
   ]
  },
  {
   "cell_type": "code",
   "execution_count": 45,
   "id": "faed2277",
   "metadata": {},
   "outputs": [],
   "source": [
    "# functions for loading and pre-processing the data\n",
    "\n",
    "def load_data(file_path: Path):\n",
    "    dff = pd.read_pickle(sorted(file_path.glob(\"*dff.pkl\"))[0])\n",
    "    behavior = pd.read_pickle(sorted(file_path.glob(\"*behavior.pkl\"))[0])\n",
    "    return dff, behavior\n",
    "\n",
    "def remove_interpolated_values(behavior, n_corr=2):\n",
    "    '''\n",
    "    Cleans up interpolated X values by reassigning them to the nearest valid corridor value in time order.\n",
    "\n",
    "            Parameters:\n",
    "                    behavior (pandas.core.frame.DataFrame): contains X, Y columns with spatial information\n",
    "                    n_corr (int): number of corridors to consider (defaults to 2)\n",
    "\n",
    "            Returns:\n",
    "                    behavior (pandas.core.frame.DataFrame): cleaned behavior data with X values reassigned\n",
    "    '''\n",
    "    # Get the most common corridor values\n",
    "    corr_val = behavior['X'].value_counts().head(n_corr).index.values\n",
    "\n",
    "    # Replace invalid X values with the next valid value in the time sequence\n",
    "    last_valid_value = None\n",
    "    for i in range(len(behavior)):\n",
    "        if behavior.loc[i, 'X'] not in corr_val:\n",
    "            if last_valid_value is not None:\n",
    "                behavior.loc[i, 'X'] = last_valid_value\n",
    "        else:\n",
    "            last_valid_value = behavior.loc[i, 'X']\n",
    "    \n",
    "    return behavior\n",
    "\n",
    "    \n",
    "def binning2(dff, behavior, n_bins=10, n_corr=2, fps=30, bin_edges=None):\n",
    "    \"\"\"\n",
    "    Bins occupancy and activity data using predefined bin edges when available.\n",
    "\n",
    "    Parameters:\n",
    "        dff (DataFrame): df/f calcium imaging data (rows: time; columns: neurons)\n",
    "        behavior (DataFrame): Behavioral data with 'X' (corridor) and 'Y' (position)\n",
    "        n_bins (int): Number of bins, defaults to 10\n",
    "        n_corr (int): Number of corridors, defaults to 2\n",
    "        fps (int): Frames per second, defaults to 30\n",
    "        bin_edges (array-like, optional): Precomputed bin edges for Y-position\n",
    "\n",
    "    Returns:\n",
    "        time_per_bin (DataFrame): Time spent in each bin, n_bins x n_corridors\n",
    "        summed_traces (DataFrame): Summed activity for each bin, n_bins x n_corridors x n_neurons\n",
    "        y_bin_edges (array): Bin edges used for binning (can be reused for test data)\n",
    "    \"\"\"\n",
    "    if bin_edges is None:\n",
    "        # Create bin edges from behavioral data\n",
    "        bin_edges = np.linspace(behavior[\"Y\"].min(), behavior[\"Y\"].max(), n_bins + 1)\n",
    "\n",
    "    # Assign bins based on predefined bin edges\n",
    "    behavior[\"Y_bin\"] = np.digitize(behavior[\"Y\"], bins=bin_edges, right=False) - 1\n",
    "\n",
    "    # Group by corridor and Y-bin, then compute time spent per bin\n",
    "    time_per_bin = behavior.groupby([\"X\", \"Y_bin\"]).size().unstack(fill_value=0).T\n",
    "    time_per_bin = time_per_bin / fps  # Convert to seconds\n",
    "\n",
    "    # Sum calcium traces for each bin\n",
    "    summed_traces = (\n",
    "        behavior[[\"X\", \"Y_bin\"]]\n",
    "        .join(dff, how=\"left\")\n",
    "        .groupby([\"X\", \"Y_bin\"])\n",
    "        .sum()\n",
    "        .unstack(level=0, fill_value=0)\n",
    "    )\n",
    "\n",
    "    # Ensure binning structure remains consistent\n",
    "    summed_traces.rename_axis(\"Space bin\", inplace=True)\n",
    "    summed_traces.columns.set_names([\"Neuron\", \"Corridor\"], inplace=True)\n",
    "\n",
    "    return time_per_bin, summed_traces, bin_edges\n",
    "\n",
    "def binning(dff, behavior, n_bins = 30, n_corr = 2, fps = 30, bins = None):\n",
    "    '''\n",
    "    Bins occupancy and activity data. Assumes that corridors have been completely sampled by the animal. \n",
    "    Assumes that distinct corridors are characterized by X position.\n",
    "\n",
    "            Parameters:\n",
    "                    dff (pandas.core.frame.DataFrame): df/f calcium imaging data (rows: time; columns: neurons)\n",
    "                    behavior (pandas.core.frame.DataFrame): contains X, Y columns with spatial information and frdIn with tail vigor\n",
    "                    n_bins (int): number of bins, defaults to 30 \n",
    "                    n_corr (int): number of corridors, defaults to 2\n",
    "                    fps (int): frames per second, defaults to 30\n",
    "                    bins (numpy.ndarray): edges for bins can optionally be provided\n",
    "\n",
    "            Returns:\n",
    "                    time_per_bin (pandas.core.frame.DataFrame): time spent in each bin, n_bins x n_corridors\n",
    "                    summed_traces (pandas.core.frame.DataFrame): summed activity for each bin, n_bins x n_corridors x n_neurons\n",
    "                    bins (numpy.ndarray or IntervalIndex): returns the computed bins\n",
    "    '''\n",
    "    if bins == None:\n",
    "        # Create bin labels, cut the Y positions into bins and X into corridor values.\n",
    "        behavior['Y_bin'], bins = pd.cut(behavior['Y'], bins=n_bins, labels=False, retbins=True)        \n",
    "    else:\n",
    "        behavior['Y_bin'] = pd.cut(behavior['Y'], bins=bins, labels=False)\n",
    "    behavior['X_bin'] = pd.cut(behavior['X'], bins = len(behavior.X.unique()))\n",
    "    \n",
    "    # Group by the corridor ID (X position) and Y-bin, and calculate the time per bin\n",
    "    time_per_bin = behavior.groupby(['X_bin', 'Y_bin'], observed=False).size().unstack(fill_value=0)\n",
    "    \n",
    "    # Automatically generate column names based on the number of corridors\n",
    "    num_corridors = time_per_bin.shape[0]\n",
    "    column_names = [f\"Corridor_{i+1}\" for i in range(num_corridors)]\n",
    "    time_per_bin = pd.DataFrame(time_per_bin.T.values, columns=column_names) / fps\n",
    "    \n",
    "    # Sum calcium traces for each bin and corridor\n",
    "    summed_traces = (\n",
    "        behavior[['X', 'Y_bin']]\n",
    "        .join(dff, how='left')\n",
    "        .groupby(['X', 'Y_bin'])\n",
    "        .sum()\n",
    "        .unstack(level=0, fill_value=0)\n",
    "    )\n",
    "    \n",
    "    # Make column and row names intuitive:\n",
    "    summed_traces.rename_axis(\"Space bin\", inplace=True)\n",
    "    summed_traces.columns.set_names([\"Neuron\", \"Corridor\"], inplace=True)\n",
    "    #summed_traces.convert_dtypes().dtypes # hard conversion\n",
    "    summed_traces.apply(pd.to_numeric).dtypes\n",
    "    \n",
    "    return time_per_bin, summed_traces, bins\n",
    "    \n",
    "def avg_activity(time_per_bin, summed_traces):\n",
    "    '''\n",
    "    Devides summed neural activity matrix by the occupancy matrix to obtain the average activity in each spatial bin.\n",
    "    \n",
    "            Parameters:\n",
    "                    time_per_bin (pandas.core_frame.DataFrame): time spent in each bin, n_bins x n_corridors\n",
    "                    summed_traces (pandas.core.frame.DataFrame): summed activity for each bin, n_bins x n_corridors x n_neurons\n",
    "            Returns:\n",
    "                    avg_activity_mtx (pandas.core_frame.DataFrame): average activity in each spatial bin.\n",
    "    '''\n",
    "    # Create an empty DataFrame with the same structure as summed_traces\n",
    "    avg_activity_mtx = pd.DataFrame(index=summed_traces.index, columns=summed_traces.columns)\n",
    "\n",
    "    # Iterate through each neuron column group (level 1 in the MultiIndex)\n",
    "    for neuron in summed_traces.columns.get_level_values(\"Neuron\").unique():\n",
    "        trace = summed_traces[neuron].apply(pd.to_numeric)\n",
    "        # Apply the division by the time occupancy for each neuron and assign to the new DataFrame\n",
    "        avg_activity_mtx[neuron] = (\n",
    "            trace.div(time_per_bin.values, axis=0)\n",
    "        )\n",
    "    \n",
    "    return avg_activity_mtx\n",
    "\n",
    "def add_trial_column(behavior):\n",
    "    '''\n",
    "    Adds a \"trial\" column to the behavior DataFrame based on Y-position resets (teleports).\n",
    "    \n",
    "    Parameters:\n",
    "        behavior (DataFrame): Behavioral data containing the Y column (position).\n",
    "    \n",
    "    Returns:\n",
    "        behavior (DataFrame): Updated DataFrame with a new \"trial\" column.\n",
    "    '''\n",
    "    # Initialize the trial counter and create an empty list for trial numbers\n",
    "    trial_counter = 0\n",
    "    trial_numbers = []\n",
    "\n",
    "    # Iterate through the Y-position data\n",
    "    for i in range(len(behavior)):\n",
    "        # Check if the current Y position is 0 and the previous Y position was non-zero\n",
    "        if i > 0 and behavior.loc[i, 'Y'] == 0 and behavior.loc[i - 1, 'Y'] != 0:\n",
    "            # Increment the trial counter\n",
    "            trial_counter += 1\n",
    "\n",
    "        # Assign the current trial number\n",
    "        trial_numbers.append(trial_counter)\n",
    "\n",
    "    # Add the trial column to the DataFrame\n",
    "    behavior['trial'] = trial_numbers\n",
    "\n",
    "    return behavior\n",
    "\n",
    "def add_trial_column(behavior):\n",
    "    \"\"\"\n",
    "    Adds a 'trial' column to the behavior DataFrame.\n",
    "    \n",
    "    A trial starts when:\n",
    "    1. The animal moves backward (Y-position decreases by being teleported to starting position).\n",
    "    2. The corridor changes (X-position changes).\n",
    "\n",
    "    Parameters:\n",
    "        behavior (DataFrame): Must contain 'X' (corridor) and 'Y' (position in corridor).\n",
    "\n",
    "    Returns:\n",
    "        behavior (DataFrame): Updated DataFrame with a new 'trial' column.\n",
    "    \"\"\"\n",
    "    trial_counter = 0\n",
    "    trial_numbers = [0]  # First trial is always 0\n",
    "\n",
    "    # Iterate through the behavior data (starting from index 1)\n",
    "    for i in range(1, len(behavior)):\n",
    "        # Get change in Y and change in X\n",
    "        y_diff = behavior.loc[i, \"Y\"] - behavior.loc[i - 1, \"Y\"]\n",
    "        x_diff = behavior.loc[i, \"X\"] - behavior.loc[i - 1, \"X\"]\n",
    "\n",
    "        # Check if a new trial should start\n",
    "        if y_diff < -1 or x_diff != 0: # -1 protects against positional jitter\n",
    "            trial_counter += 1  # Increment trial counter\n",
    "\n",
    "        # Append the trial number for the current row\n",
    "        trial_numbers.append(trial_counter)\n",
    "\n",
    "    # Assign trial numbers to the DataFrame\n",
    "    behavior[\"trial\"] = trial_numbers\n",
    "\n",
    "    return behavior\n",
    "\n",
    "\n",
    "def trials_over_time(dff, behavior, n_bins=30):\n",
    "    \"\"\"\n",
    "    Returns a multi-index DataFrame containing the average activity per spatial bin \n",
    "    per corridor per trial for each neuron.\n",
    "\n",
    "    Parameters:\n",
    "        dff (DataFrame): dF/F activity data in timepoints (rows) x neurons (columns).\n",
    "        behavior (DataFrame): Behavioral data in timepoints (rows) x behavior (column).\n",
    "        n_bins (int): Number of spatial bins to divide the Y-position.\n",
    "\n",
    "    Returns:\n",
    "        DataFrame: Multi-index DataFrame with (neuron, trial, corridor, Y_bin) as indices.\n",
    "    \"\"\"\n",
    "\n",
    "    # Step 1: Extract metadata\n",
    "    n_neurons = dff.shape[1]\n",
    "    \n",
    "    # Step 2: Create spatial bins for Y-position\n",
    "    behavior['Y_bin'] = pd.cut(behavior['Y'], bins=n_bins, labels=False)\n",
    "\n",
    "    # Step 3: Identify unique trials and corridors\n",
    "    trials = behavior['trial'].unique()\n",
    "    corridors = behavior['X'].unique()\n",
    "\n",
    "    # Step 4: Initialize storage for results\n",
    "    results = []\n",
    "\n",
    "    # Step 5: Iterate over neurons, trials, and corridors\n",
    "    for neuron in range(n_neurons):\n",
    "        neuron_activity = dff.iloc[:, neuron]  # Select the neuron\n",
    "\n",
    "        for trial in trials:\n",
    "            trial_data = behavior[behavior['trial'] == trial]\n",
    "            trial_activity = neuron_activity.loc[trial_data.index]  # Activity for this trial\n",
    "            \n",
    "            for corridor in corridors:\n",
    "                corridor_data = trial_data[trial_data['X'] == corridor]\n",
    "                corridor_activity = trial_activity.loc[corridor_data.index]\n",
    "\n",
    "                # Compute average activity per spatial bin\n",
    "                avg_activity_per_bin = corridor_activity.groupby(corridor_data['Y_bin']).mean()\n",
    "\n",
    "                # Ensure all bins are represented (fill missing bins with NaN)\n",
    "                avg_activity_per_bin = avg_activity_per_bin.reindex(range(n_bins), fill_value=np.nan)\n",
    "\n",
    "                # Store results\n",
    "                for y_bin, activity in avg_activity_per_bin.items():\n",
    "                    results.append([neuron, trial, corridor, y_bin, activity])\n",
    "\n",
    "    # Step 6: Convert results to DataFrame\n",
    "    results_df = pd.DataFrame(results, columns=['neuron', 'trial', 'corridor', 'Y_bin', 'activity'])\n",
    "\n",
    "    # Step 7: Pivot to create a multi-dimensional DataFrame\n",
    "    # results_df = results_df.pivot_table(index=['neuron', 'trial', 'corridor'], columns='Y_bin', values='activity')\n",
    "    results_df = results_df.pivot_table(index=['neuron', 'trial', 'corridor', 'Y_bin'], values='activity')\n",
    "\n",
    "    # Step 8: Normalize activity per neuron (Min/Max scaling across all bins and trials)\n",
    "    # scaler = MinMaxScaler()\n",
    "    # results_df[:] = scaler.fit_transform(results_df) # scale later\n",
    "    return results_df\n",
    "\n",
    "def format_for_ann(df):\n",
    "    \"\"\"\n",
    "    Converts the multi-index DataFrame into input-output format for training a neural network.\n",
    "    \n",
    "    Ensures that each row represents one spatial bin (with trial & corridor info),\n",
    "    and columns represent neuronal activity.\n",
    "\n",
    "    Parameters:\n",
    "        df (DataFrame): Multi-index DataFrame with (neuron, trial, corridor, Y_bin) indices.\n",
    "\n",
    "    Returns:\n",
    "        X (ndarray): Feature matrix where each row is a neuronal activity vector (neurons as columns).\n",
    "        y (tuple): Tuple of target labels (bins, corridors).\n",
    "    \"\"\"\n",
    "    # Reset index so we can manipulate it\n",
    "    df = df.reset_index()\n",
    "\n",
    "    # Pivot so that each row represents a (trial, corridor, bin), and each column is a neuron\n",
    "    reshaped_df = df.pivot_table(index=['trial', 'corridor', 'Y_bin'], columns='neuron', values='activity')\n",
    "\n",
    "    # Drop any remaining NaNs (bins with missing neuron activity)\n",
    "    reshaped_df = reshaped_df.dropna()\n",
    "\n",
    "    # Extract the final feature matrix\n",
    "    X = reshaped_df.values  # Now, shape (n_samples, n_neurons)\n",
    "    scaler = MinMaxScaler()\n",
    "    X = scaler.fit_transform(X)\n",
    "\n",
    "    # Extract labels\n",
    "    y_bins = reshaped_df.index.get_level_values('Y_bin').values  # Bin labels\n",
    "    y_corridors = reshaped_df.index.get_level_values('corridor').values  # Corridor labels\n",
    "\n",
    "    # Map corridor labels to categorical values (0 and 1)\n",
    "    unique_corridors = sorted(np.unique(y_corridors))\n",
    "    corridor_mapping = {unique_corridors[0]: 0, unique_corridors[1]: 1}\n",
    "    y_corridors = np.array([corridor_mapping[c] for c in y_corridors])\n",
    "\n",
    "    return X, (y_bins, y_corridors)"
   ]
  },
  {
   "cell_type": "markdown",
   "id": "39ff0f51",
   "metadata": {},
   "source": [
    "We first load the data, add the trial column to the behavior dataset and compute the multi-index dataframe. Then, we build input and output vectors."
   ]
  },
  {
   "cell_type": "code",
   "execution_count": 3,
   "id": "c39ad7f8",
   "metadata": {},
   "outputs": [],
   "source": [
    "dff, bh = load_data(Path('W:\\\\scratch\\\\gfriedri\\\\anneluka\\\\Experiments\\\\VirtualReality\\\\data\\\\processed_datasets\\\\20240903_Dc_1\\\\'))\n",
    "bh = remove_interpolated_values(bh, n_corr=2)\n",
    "bh = add_trial_column(bh)\n",
    "results_df = trials_over_time(dff, bh, n_bins=30) # 30\n",
    "\n",
    "X, (y_bins, y_corridors) = format_for_ann(results_df)"
   ]
  },
  {
   "cell_type": "markdown",
   "id": "2f104d02",
   "metadata": {},
   "source": [
    "Classically, the data is split in train and test set: "
   ]
  },
  {
   "cell_type": "code",
   "execution_count": 4,
   "id": "8fa7e1be",
   "metadata": {},
   "outputs": [
    {
     "name": "stdout",
     "output_type": "stream",
     "text": [
      "X_train shape: (656, 366)\n",
      "X_test shape: (73, 366)\n",
      "y_bins_train shape: (656,)\n",
      "y_bins_test shape: (73,)\n",
      "y_corridors_train shape: (656,)\n",
      "y_corridors_test shape: (73,)\n",
      "Corridor Distribution:\n",
      " 1    380\n",
      "0    349\n",
      "Name: count, dtype: int64\n",
      "Bin Distribution:\n",
      " 1     34\n",
      "0     34\n",
      "2     32\n",
      "3     31\n",
      "5     29\n",
      "4     29\n",
      "6     28\n",
      "7     26\n",
      "12    24\n",
      "13    24\n",
      "10    23\n",
      "9     23\n",
      "8     23\n",
      "11    23\n",
      "24    23\n",
      "23    23\n",
      "22    23\n",
      "21    23\n",
      "20    23\n",
      "19    23\n",
      "18    23\n",
      "17    23\n",
      "16    23\n",
      "15    23\n",
      "14    23\n",
      "25    20\n",
      "26    19\n",
      "28    18\n",
      "29    18\n",
      "27    18\n",
      "Name: count, dtype: int64\n"
     ]
    }
   ],
   "source": [
    "# Split the data\n",
    "X_train, X_test, y_bins_train, y_bins_test, y_corridors_train, y_corridors_test = train_test_split(\n",
    "    X, y_bins, y_corridors, test_size=0.1, random_state=42, stratify=y_bins  # Stratify by bins\n",
    ")\n",
    "\n",
    "# Check the shapes\n",
    "print(\"X_train shape:\", X_train.shape)\n",
    "print(\"X_test shape:\", X_test.shape)\n",
    "print(\"y_bins_train shape:\", y_bins_train.shape)\n",
    "print(\"y_bins_test shape:\", y_bins_test.shape)\n",
    "print(\"y_corridors_train shape:\", y_corridors_train.shape)\n",
    "print(\"y_corridors_test shape:\", y_corridors_test.shape)\n",
    "\n",
    "# Check class balance\n",
    "corridor_counts = pd.Series(y_corridors).value_counts()\n",
    "print(\"Corridor Distribution:\\n\", corridor_counts)\n",
    "\n",
    "# Check bin distribution\n",
    "bin_counts = pd.Series(y_bins).value_counts()\n",
    "print(\"Bin Distribution:\\n\", bin_counts)"
   ]
  },
  {
   "cell_type": "markdown",
   "id": "44d3a552",
   "metadata": {},
   "source": [
    "## Build and run the model"
   ]
  },
  {
   "cell_type": "code",
   "execution_count": 5,
   "id": "43d8cb18",
   "metadata": {},
   "outputs": [
    {
     "name": "stdout",
     "output_type": "stream",
     "text": [
      "Epoch 1/200\n",
      "\u001b[1m11/11\u001b[0m \u001b[32m━━━━━━━━━━━━━━━━━━━━\u001b[0m\u001b[37m\u001b[0m \u001b[1m1s\u001b[0m 4ms/step - bin_output_accuracy: 0.0298 - bin_output_loss: 3.5326 - corridor_output_accuracy: 0.4985 - corridor_output_loss: 0.7635 - loss: 4.2971\n",
      "Epoch 2/200\n",
      "\u001b[1m11/11\u001b[0m \u001b[32m━━━━━━━━━━━━━━━━━━━━\u001b[0m\u001b[37m\u001b[0m \u001b[1m0s\u001b[0m 3ms/step - bin_output_accuracy: 0.0531 - bin_output_loss: 3.3981 - corridor_output_accuracy: 0.5094 - corridor_output_loss: 0.6871 - loss: 4.0834 \n",
      "Epoch 3/200\n",
      "\u001b[1m11/11\u001b[0m \u001b[32m━━━━━━━━━━━━━━━━━━━━\u001b[0m\u001b[37m\u001b[0m \u001b[1m0s\u001b[0m 3ms/step - bin_output_accuracy: 0.0360 - bin_output_loss: 3.3974 - corridor_output_accuracy: 0.5709 - corridor_output_loss: 0.6673 - loss: 4.0649 \n",
      "Epoch 4/200\n",
      "\u001b[1m11/11\u001b[0m \u001b[32m━━━━━━━━━━━━━━━━━━━━\u001b[0m\u001b[37m\u001b[0m \u001b[1m0s\u001b[0m 3ms/step - bin_output_accuracy: 0.0472 - bin_output_loss: 3.3959 - corridor_output_accuracy: 0.7858 - corridor_output_loss: 0.6373 - loss: 4.0331 \n",
      "Epoch 5/200\n",
      "\u001b[1m11/11\u001b[0m \u001b[32m━━━━━━━━━━━━━━━━━━━━\u001b[0m\u001b[37m\u001b[0m \u001b[1m0s\u001b[0m 3ms/step - bin_output_accuracy: 0.0509 - bin_output_loss: 3.3776 - corridor_output_accuracy: 0.8588 - corridor_output_loss: 0.6154 - loss: 3.9934 \n",
      "Epoch 6/200\n",
      "\u001b[1m11/11\u001b[0m \u001b[32m━━━━━━━━━━━━━━━━━━━━\u001b[0m\u001b[37m\u001b[0m \u001b[1m0s\u001b[0m 4ms/step - bin_output_accuracy: 0.0418 - bin_output_loss: 3.3828 - corridor_output_accuracy: 0.7335 - corridor_output_loss: 0.6013 - loss: 3.9834 \n",
      "Epoch 7/200\n",
      "\u001b[1m11/11\u001b[0m \u001b[32m━━━━━━━━━━━━━━━━━━━━\u001b[0m\u001b[37m\u001b[0m \u001b[1m0s\u001b[0m 4ms/step - bin_output_accuracy: 0.0496 - bin_output_loss: 3.3800 - corridor_output_accuracy: 0.7717 - corridor_output_loss: 0.5629 - loss: 3.9427 \n",
      "Epoch 8/200\n",
      "\u001b[1m11/11\u001b[0m \u001b[32m━━━━━━━━━━━━━━━━━━━━\u001b[0m\u001b[37m\u001b[0m \u001b[1m0s\u001b[0m 3ms/step - bin_output_accuracy: 0.0522 - bin_output_loss: 3.3752 - corridor_output_accuracy: 0.8058 - corridor_output_loss: 0.5371 - loss: 3.9126 \n",
      "Epoch 9/200\n",
      "\u001b[1m11/11\u001b[0m \u001b[32m━━━━━━━━━━━━━━━━━━━━\u001b[0m\u001b[37m\u001b[0m \u001b[1m0s\u001b[0m 4ms/step - bin_output_accuracy: 0.0559 - bin_output_loss: 3.3713 - corridor_output_accuracy: 0.7292 - corridor_output_loss: 0.5294 - loss: 3.9013 \n",
      "Epoch 10/200\n",
      "\u001b[1m11/11\u001b[0m \u001b[32m━━━━━━━━━━━━━━━━━━━━\u001b[0m\u001b[37m\u001b[0m \u001b[1m0s\u001b[0m 4ms/step - bin_output_accuracy: 0.0627 - bin_output_loss: 3.3507 - corridor_output_accuracy: 0.9014 - corridor_output_loss: 0.4548 - loss: 3.8061 \n",
      "Epoch 11/200\n",
      "\u001b[1m11/11\u001b[0m \u001b[32m━━━━━━━━━━━━━━━━━━━━\u001b[0m\u001b[37m\u001b[0m \u001b[1m0s\u001b[0m 3ms/step - bin_output_accuracy: 0.0852 - bin_output_loss: 3.3361 - corridor_output_accuracy: 0.9065 - corridor_output_loss: 0.4159 - loss: 3.7520 \n",
      "Epoch 12/200\n",
      "\u001b[1m11/11\u001b[0m \u001b[32m━━━━━━━━━━━━━━━━━━━━\u001b[0m\u001b[37m\u001b[0m \u001b[1m0s\u001b[0m 4ms/step - bin_output_accuracy: 0.0624 - bin_output_loss: 3.3352 - corridor_output_accuracy: 0.9265 - corridor_output_loss: 0.3682 - loss: 3.7020 \n",
      "Epoch 13/200\n",
      "\u001b[1m11/11\u001b[0m \u001b[32m━━━━━━━━━━━━━━━━━━━━\u001b[0m\u001b[37m\u001b[0m \u001b[1m0s\u001b[0m 4ms/step - bin_output_accuracy: 0.0551 - bin_output_loss: 3.3442 - corridor_output_accuracy: 0.8401 - corridor_output_loss: 0.3757 - loss: 3.7192 \n",
      "Epoch 14/200\n",
      "\u001b[1m11/11\u001b[0m \u001b[32m━━━━━━━━━━━━━━━━━━━━\u001b[0m\u001b[37m\u001b[0m \u001b[1m0s\u001b[0m 4ms/step - bin_output_accuracy: 0.0761 - bin_output_loss: 3.3281 - corridor_output_accuracy: 0.9292 - corridor_output_loss: 0.3287 - loss: 3.6588 \n",
      "Epoch 15/200\n",
      "\u001b[1m11/11\u001b[0m \u001b[32m━━━━━━━━━━━━━━━━━━━━\u001b[0m\u001b[37m\u001b[0m \u001b[1m0s\u001b[0m 4ms/step - bin_output_accuracy: 0.0783 - bin_output_loss: 3.3179 - corridor_output_accuracy: 0.9340 - corridor_output_loss: 0.2791 - loss: 3.5965 \n",
      "Epoch 16/200\n",
      "\u001b[1m11/11\u001b[0m \u001b[32m━━━━━━━━━━━━━━━━━━━━\u001b[0m\u001b[37m\u001b[0m \u001b[1m0s\u001b[0m 3ms/step - bin_output_accuracy: 0.0568 - bin_output_loss: 3.3135 - corridor_output_accuracy: 0.9486 - corridor_output_loss: 0.2730 - loss: 3.5862 \n",
      "Epoch 17/200\n",
      "\u001b[1m11/11\u001b[0m \u001b[32m━━━━━━━━━━━━━━━━━━━━\u001b[0m\u001b[37m\u001b[0m \u001b[1m0s\u001b[0m 4ms/step - bin_output_accuracy: 0.0913 - bin_output_loss: 3.2875 - corridor_output_accuracy: 0.9365 - corridor_output_loss: 0.2459 - loss: 3.5330 \n",
      "Epoch 18/200\n",
      "\u001b[1m11/11\u001b[0m \u001b[32m━━━━━━━━━━━━━━━━━━━━\u001b[0m\u001b[37m\u001b[0m \u001b[1m0s\u001b[0m 4ms/step - bin_output_accuracy: 0.0906 - bin_output_loss: 3.2936 - corridor_output_accuracy: 0.9279 - corridor_output_loss: 0.2471 - loss: 3.5403 \n",
      "Epoch 19/200\n",
      "\u001b[1m11/11\u001b[0m \u001b[32m━━━━━━━━━━━━━━━━━━━━\u001b[0m\u001b[37m\u001b[0m \u001b[1m0s\u001b[0m 4ms/step - bin_output_accuracy: 0.0947 - bin_output_loss: 3.2605 - corridor_output_accuracy: 0.9297 - corridor_output_loss: 0.2274 - loss: 3.4877 \n",
      "Epoch 20/200\n",
      "\u001b[1m11/11\u001b[0m \u001b[32m━━━━━━━━━━━━━━━━━━━━\u001b[0m\u001b[37m\u001b[0m \u001b[1m0s\u001b[0m 3ms/step - bin_output_accuracy: 0.1072 - bin_output_loss: 3.2369 - corridor_output_accuracy: 0.9371 - corridor_output_loss: 0.2032 - loss: 3.4401 \n",
      "Epoch 21/200\n",
      "\u001b[1m11/11\u001b[0m \u001b[32m━━━━━━━━━━━━━━━━━━━━\u001b[0m\u001b[37m\u001b[0m \u001b[1m0s\u001b[0m 4ms/step - bin_output_accuracy: 0.1170 - bin_output_loss: 3.2370 - corridor_output_accuracy: 0.9494 - corridor_output_loss: 0.1750 - loss: 3.4121 \n",
      "Epoch 22/200\n",
      "\u001b[1m11/11\u001b[0m \u001b[32m━━━━━━━━━━━━━━━━━━━━\u001b[0m\u001b[37m\u001b[0m \u001b[1m0s\u001b[0m 4ms/step - bin_output_accuracy: 0.1325 - bin_output_loss: 3.2061 - corridor_output_accuracy: 0.9484 - corridor_output_loss: 0.1797 - loss: 3.3831 \n",
      "Epoch 23/200\n",
      "\u001b[1m11/11\u001b[0m \u001b[32m━━━━━━━━━━━━━━━━━━━━\u001b[0m\u001b[37m\u001b[0m \u001b[1m0s\u001b[0m 4ms/step - bin_output_accuracy: 0.1021 - bin_output_loss: 3.2019 - corridor_output_accuracy: 0.9170 - corridor_output_loss: 0.2047 - loss: 3.4058 \n",
      "Epoch 24/200\n",
      "\u001b[1m11/11\u001b[0m \u001b[32m━━━━━━━━━━━━━━━━━━━━\u001b[0m\u001b[37m\u001b[0m \u001b[1m0s\u001b[0m 4ms/step - bin_output_accuracy: 0.1033 - bin_output_loss: 3.1963 - corridor_output_accuracy: 0.9294 - corridor_output_loss: 0.1953 - loss: 3.3940 \n",
      "Epoch 25/200\n",
      "\u001b[1m11/11\u001b[0m \u001b[32m━━━━━━━━━━━━━━━━━━━━\u001b[0m\u001b[37m\u001b[0m \u001b[1m0s\u001b[0m 4ms/step - bin_output_accuracy: 0.1486 - bin_output_loss: 3.1729 - corridor_output_accuracy: 0.9533 - corridor_output_loss: 0.1521 - loss: 3.3269 \n",
      "Epoch 26/200\n",
      "\u001b[1m11/11\u001b[0m \u001b[32m━━━━━━━━━━━━━━━━━━━━\u001b[0m\u001b[37m\u001b[0m \u001b[1m0s\u001b[0m 4ms/step - bin_output_accuracy: 0.1552 - bin_output_loss: 3.1404 - corridor_output_accuracy: 0.9542 - corridor_output_loss: 0.1557 - loss: 3.2936 \n",
      "Epoch 27/200\n",
      "\u001b[1m11/11\u001b[0m \u001b[32m━━━━━━━━━━━━━━━━━━━━\u001b[0m\u001b[37m\u001b[0m \u001b[1m0s\u001b[0m 4ms/step - bin_output_accuracy: 0.1258 - bin_output_loss: 3.1340 - corridor_output_accuracy: 0.9452 - corridor_output_loss: 0.1634 - loss: 3.2980 \n",
      "Epoch 28/200\n",
      "\u001b[1m11/11\u001b[0m \u001b[32m━━━━━━━━━━━━━━━━━━━━\u001b[0m\u001b[37m\u001b[0m \u001b[1m0s\u001b[0m 4ms/step - bin_output_accuracy: 0.1703 - bin_output_loss: 3.0974 - corridor_output_accuracy: 0.9353 - corridor_output_loss: 0.1696 - loss: 3.2688 \n",
      "Epoch 29/200\n",
      "\u001b[1m11/11\u001b[0m \u001b[32m━━━━━━━━━━━━━━━━━━━━\u001b[0m\u001b[37m\u001b[0m \u001b[1m0s\u001b[0m 4ms/step - bin_output_accuracy: 0.1722 - bin_output_loss: 3.0494 - corridor_output_accuracy: 0.9611 - corridor_output_loss: 0.1285 - loss: 3.1803 \n",
      "Epoch 30/200\n",
      "\u001b[1m11/11\u001b[0m \u001b[32m━━━━━━━━━━━━━━━━━━━━\u001b[0m\u001b[37m\u001b[0m \u001b[1m0s\u001b[0m 4ms/step - bin_output_accuracy: 0.1541 - bin_output_loss: 2.9969 - corridor_output_accuracy: 0.9391 - corridor_output_loss: 0.1433 - loss: 3.1385 \n",
      "Epoch 31/200\n",
      "\u001b[1m11/11\u001b[0m \u001b[32m━━━━━━━━━━━━━━━━━━━━\u001b[0m\u001b[37m\u001b[0m \u001b[1m0s\u001b[0m 4ms/step - bin_output_accuracy: 0.1611 - bin_output_loss: 2.9847 - corridor_output_accuracy: 0.9654 - corridor_output_loss: 0.1270 - loss: 3.1112 \n",
      "Epoch 32/200\n",
      "\u001b[1m11/11\u001b[0m \u001b[32m━━━━━━━━━━━━━━━━━━━━\u001b[0m\u001b[37m\u001b[0m \u001b[1m0s\u001b[0m 4ms/step - bin_output_accuracy: 0.1888 - bin_output_loss: 2.9701 - corridor_output_accuracy: 0.9719 - corridor_output_loss: 0.1129 - loss: 3.0842 \n",
      "Epoch 33/200\n",
      "\u001b[1m11/11\u001b[0m \u001b[32m━━━━━━━━━━━━━━━━━━━━\u001b[0m\u001b[37m\u001b[0m \u001b[1m0s\u001b[0m 4ms/step - bin_output_accuracy: 0.1808 - bin_output_loss: 2.8990 - corridor_output_accuracy: 0.9534 - corridor_output_loss: 0.1197 - loss: 3.0195 \n",
      "Epoch 34/200\n",
      "\u001b[1m11/11\u001b[0m \u001b[32m━━━━━━━━━━━━━━━━━━━━\u001b[0m\u001b[37m\u001b[0m \u001b[1m0s\u001b[0m 4ms/step - bin_output_accuracy: 0.1773 - bin_output_loss: 2.8952 - corridor_output_accuracy: 0.9647 - corridor_output_loss: 0.1088 - loss: 3.0076 \n",
      "Epoch 35/200\n",
      "\u001b[1m11/11\u001b[0m \u001b[32m━━━━━━━━━━━━━━━━━━━━\u001b[0m\u001b[37m\u001b[0m \u001b[1m0s\u001b[0m 4ms/step - bin_output_accuracy: 0.2080 - bin_output_loss: 2.8396 - corridor_output_accuracy: 0.9598 - corridor_output_loss: 0.1269 - loss: 2.9641 \n",
      "Epoch 36/200\n",
      "\u001b[1m11/11\u001b[0m \u001b[32m━━━━━━━━━━━━━━━━━━━━\u001b[0m\u001b[37m\u001b[0m \u001b[1m0s\u001b[0m 4ms/step - bin_output_accuracy: 0.2096 - bin_output_loss: 2.7693 - corridor_output_accuracy: 0.9509 - corridor_output_loss: 0.1247 - loss: 2.8953 \n",
      "Epoch 37/200\n",
      "\u001b[1m11/11\u001b[0m \u001b[32m━━━━━━━━━━━━━━━━━━━━\u001b[0m\u001b[37m\u001b[0m \u001b[1m0s\u001b[0m 4ms/step - bin_output_accuracy: 0.2350 - bin_output_loss: 2.7692 - corridor_output_accuracy: 0.9561 - corridor_output_loss: 0.1172 - loss: 2.8884 \n",
      "Epoch 38/200\n",
      "\u001b[1m11/11\u001b[0m \u001b[32m━━━━━━━━━━━━━━━━━━━━\u001b[0m\u001b[37m\u001b[0m \u001b[1m0s\u001b[0m 4ms/step - bin_output_accuracy: 0.2341 - bin_output_loss: 2.7567 - corridor_output_accuracy: 0.9697 - corridor_output_loss: 0.1044 - loss: 2.8604 \n",
      "Epoch 39/200\n",
      "\u001b[1m11/11\u001b[0m \u001b[32m━━━━━━━━━━━━━━━━━━━━\u001b[0m\u001b[37m\u001b[0m \u001b[1m0s\u001b[0m 4ms/step - bin_output_accuracy: 0.2190 - bin_output_loss: 2.7117 - corridor_output_accuracy: 0.9704 - corridor_output_loss: 0.0922 - loss: 2.8072 \n",
      "Epoch 40/200\n",
      "\u001b[1m11/11\u001b[0m \u001b[32m━━━━━━━━━━━━━━━━━━━━\u001b[0m\u001b[37m\u001b[0m \u001b[1m0s\u001b[0m 4ms/step - bin_output_accuracy: 0.2091 - bin_output_loss: 2.6492 - corridor_output_accuracy: 0.9731 - corridor_output_loss: 0.1016 - loss: 2.7530 \n",
      "Epoch 41/200\n",
      "\u001b[1m11/11\u001b[0m \u001b[32m━━━━━━━━━━━━━━━━━━━━\u001b[0m\u001b[37m\u001b[0m \u001b[1m0s\u001b[0m 3ms/step - bin_output_accuracy: 0.2044 - bin_output_loss: 2.6194 - corridor_output_accuracy: 0.9697 - corridor_output_loss: 0.0950 - loss: 2.7165 \n",
      "Epoch 42/200\n",
      "\u001b[1m11/11\u001b[0m \u001b[32m━━━━━━━━━━━━━━━━━━━━\u001b[0m\u001b[37m\u001b[0m \u001b[1m0s\u001b[0m 4ms/step - bin_output_accuracy: 0.2857 - bin_output_loss: 2.5462 - corridor_output_accuracy: 0.9693 - corridor_output_loss: 0.0889 - loss: 2.6346 \n",
      "Epoch 43/200\n",
      "\u001b[1m11/11\u001b[0m \u001b[32m━━━━━━━━━━━━━━━━━━━━\u001b[0m\u001b[37m\u001b[0m \u001b[1m0s\u001b[0m 4ms/step - bin_output_accuracy: 0.2798 - bin_output_loss: 2.5044 - corridor_output_accuracy: 0.9587 - corridor_output_loss: 0.1045 - loss: 2.6095 \n",
      "Epoch 44/200\n",
      "\u001b[1m11/11\u001b[0m \u001b[32m━━━━━━━━━━━━━━━━━━━━\u001b[0m\u001b[37m\u001b[0m \u001b[1m0s\u001b[0m 4ms/step - bin_output_accuracy: 0.2914 - bin_output_loss: 2.4214 - corridor_output_accuracy: 0.9545 - corridor_output_loss: 0.1083 - loss: 2.5322 \n",
      "Epoch 45/200\n",
      "\u001b[1m11/11\u001b[0m \u001b[32m━━━━━━━━━━━━━━━━━━━━\u001b[0m\u001b[37m\u001b[0m \u001b[1m0s\u001b[0m 3ms/step - bin_output_accuracy: 0.2828 - bin_output_loss: 2.4559 - corridor_output_accuracy: 0.9574 - corridor_output_loss: 0.1076 - loss: 2.5628 \n",
      "Epoch 46/200\n",
      "\u001b[1m11/11\u001b[0m \u001b[32m━━━━━━━━━━━━━━━━━━━━\u001b[0m\u001b[37m\u001b[0m \u001b[1m0s\u001b[0m 3ms/step - bin_output_accuracy: 0.2404 - bin_output_loss: 2.4397 - corridor_output_accuracy: 0.9378 - corridor_output_loss: 0.1396 - loss: 2.5789 \n",
      "Epoch 47/200\n",
      "\u001b[1m11/11\u001b[0m \u001b[32m━━━━━━━━━━━━━━━━━━━━\u001b[0m\u001b[37m\u001b[0m \u001b[1m0s\u001b[0m 4ms/step - bin_output_accuracy: 0.2442 - bin_output_loss: 2.4169 - corridor_output_accuracy: 0.9741 - corridor_output_loss: 0.0844 - loss: 2.5012 \n",
      "Epoch 48/200\n",
      "\u001b[1m11/11\u001b[0m \u001b[32m━━━━━━━━━━━━━━━━━━━━\u001b[0m\u001b[37m\u001b[0m \u001b[1m0s\u001b[0m 4ms/step - bin_output_accuracy: 0.2561 - bin_output_loss: 2.3545 - corridor_output_accuracy: 0.9807 - corridor_output_loss: 0.0704 - loss: 2.4271 \n",
      "Epoch 49/200\n",
      "\u001b[1m11/11\u001b[0m \u001b[32m━━━━━━━━━━━━━━━━━━━━\u001b[0m\u001b[37m\u001b[0m \u001b[1m0s\u001b[0m 4ms/step - bin_output_accuracy: 0.2642 - bin_output_loss: 2.3395 - corridor_output_accuracy: 0.9698 - corridor_output_loss: 0.0968 - loss: 2.4356 \n",
      "Epoch 50/200\n",
      "\u001b[1m11/11\u001b[0m \u001b[32m━━━━━━━━━━━━━━━━━━━━\u001b[0m\u001b[37m\u001b[0m \u001b[1m0s\u001b[0m 4ms/step - bin_output_accuracy: 0.3166 - bin_output_loss: 2.2817 - corridor_output_accuracy: 0.9682 - corridor_output_loss: 0.0846 - loss: 2.3649 \n",
      "Epoch 51/200\n",
      "\u001b[1m11/11\u001b[0m \u001b[32m━━━━━━━━━━━━━━━━━━━━\u001b[0m\u001b[37m\u001b[0m \u001b[1m0s\u001b[0m 4ms/step - bin_output_accuracy: 0.3048 - bin_output_loss: 2.2504 - corridor_output_accuracy: 0.9748 - corridor_output_loss: 0.0798 - loss: 2.3345 \n",
      "Epoch 52/200\n",
      "\u001b[1m11/11\u001b[0m \u001b[32m━━━━━━━━━━━━━━━━━━━━\u001b[0m\u001b[37m\u001b[0m \u001b[1m0s\u001b[0m 4ms/step - bin_output_accuracy: 0.3140 - bin_output_loss: 2.2125 - corridor_output_accuracy: 0.9827 - corridor_output_loss: 0.0769 - loss: 2.2893 \n",
      "Epoch 53/200\n",
      "\u001b[1m11/11\u001b[0m \u001b[32m━━━━━━━━━━━━━━━━━━━━\u001b[0m\u001b[37m\u001b[0m \u001b[1m0s\u001b[0m 4ms/step - bin_output_accuracy: 0.3004 - bin_output_loss: 2.2189 - corridor_output_accuracy: 0.9802 - corridor_output_loss: 0.0714 - loss: 2.2921 \n",
      "Epoch 54/200\n",
      "\u001b[1m11/11\u001b[0m \u001b[32m━━━━━━━━━━━━━━━━━━━━\u001b[0m\u001b[37m\u001b[0m \u001b[1m0s\u001b[0m 4ms/step - bin_output_accuracy: 0.3279 - bin_output_loss: 2.1725 - corridor_output_accuracy: 0.9365 - corridor_output_loss: 0.1182 - loss: 2.2895 \n",
      "Epoch 55/200\n",
      "\u001b[1m11/11\u001b[0m \u001b[32m━━━━━━━━━━━━━━━━━━━━\u001b[0m\u001b[37m\u001b[0m \u001b[1m0s\u001b[0m 4ms/step - bin_output_accuracy: 0.3252 - bin_output_loss: 2.1497 - corridor_output_accuracy: 0.9419 - corridor_output_loss: 0.1262 - loss: 2.2786 \n",
      "Epoch 56/200\n",
      "\u001b[1m11/11\u001b[0m \u001b[32m━━━━━━━━━━━━━━━━━━━━\u001b[0m\u001b[37m\u001b[0m \u001b[1m0s\u001b[0m 4ms/step - bin_output_accuracy: 0.3669 - bin_output_loss: 2.0571 - corridor_output_accuracy: 0.9610 - corridor_output_loss: 0.0951 - loss: 2.1526 \n",
      "Epoch 57/200\n",
      "\u001b[1m11/11\u001b[0m \u001b[32m━━━━━━━━━━━━━━━━━━━━\u001b[0m\u001b[37m\u001b[0m \u001b[1m0s\u001b[0m 4ms/step - bin_output_accuracy: 0.3200 - bin_output_loss: 2.0785 - corridor_output_accuracy: 0.9795 - corridor_output_loss: 0.0722 - loss: 2.1484 \n",
      "Epoch 58/200\n",
      "\u001b[1m11/11\u001b[0m \u001b[32m━━━━━━━━━━━━━━━━━━━━\u001b[0m\u001b[37m\u001b[0m \u001b[1m0s\u001b[0m 4ms/step - bin_output_accuracy: 0.3551 - bin_output_loss: 2.0795 - corridor_output_accuracy: 0.9630 - corridor_output_loss: 0.1015 - loss: 2.1824 \n",
      "Epoch 59/200\n",
      "\u001b[1m11/11\u001b[0m \u001b[32m━━━━━━━━━━━━━━━━━━━━\u001b[0m\u001b[37m\u001b[0m \u001b[1m0s\u001b[0m 4ms/step - bin_output_accuracy: 0.3361 - bin_output_loss: 2.0714 - corridor_output_accuracy: 0.9536 - corridor_output_loss: 0.1075 - loss: 2.1761 \n",
      "Epoch 60/200\n",
      "\u001b[1m11/11\u001b[0m \u001b[32m━━━━━━━━━━━━━━━━━━━━\u001b[0m\u001b[37m\u001b[0m \u001b[1m0s\u001b[0m 4ms/step - bin_output_accuracy: 0.3662 - bin_output_loss: 2.0432 - corridor_output_accuracy: 0.9719 - corridor_output_loss: 0.0737 - loss: 2.1116 \n",
      "Epoch 61/200\n",
      "\u001b[1m11/11\u001b[0m \u001b[32m━━━━━━━━━━━━━━━━━━━━\u001b[0m\u001b[37m\u001b[0m \u001b[1m0s\u001b[0m 4ms/step - bin_output_accuracy: 0.3585 - bin_output_loss: 1.9937 - corridor_output_accuracy: 0.9803 - corridor_output_loss: 0.0684 - loss: 2.0606 \n",
      "Epoch 62/200\n",
      "\u001b[1m11/11\u001b[0m \u001b[32m━━━━━━━━━━━━━━━━━━━━\u001b[0m\u001b[37m\u001b[0m \u001b[1m0s\u001b[0m 4ms/step - bin_output_accuracy: 0.3873 - bin_output_loss: 1.9331 - corridor_output_accuracy: 0.9885 - corridor_output_loss: 0.0570 - loss: 1.9869 \n",
      "Epoch 63/200\n",
      "\u001b[1m11/11\u001b[0m \u001b[32m━━━━━━━━━━━━━━━━━━━━\u001b[0m\u001b[37m\u001b[0m \u001b[1m0s\u001b[0m 4ms/step - bin_output_accuracy: 0.3616 - bin_output_loss: 1.9844 - corridor_output_accuracy: 0.9767 - corridor_output_loss: 0.0694 - loss: 2.0575 \n",
      "Epoch 64/200\n",
      "\u001b[1m11/11\u001b[0m \u001b[32m━━━━━━━━━━━━━━━━━━━━\u001b[0m\u001b[37m\u001b[0m \u001b[1m0s\u001b[0m 4ms/step - bin_output_accuracy: 0.3674 - bin_output_loss: 1.9302 - corridor_output_accuracy: 0.9746 - corridor_output_loss: 0.0778 - loss: 2.0033 \n",
      "Epoch 65/200\n",
      "\u001b[1m11/11\u001b[0m \u001b[32m━━━━━━━━━━━━━━━━━━━━\u001b[0m\u001b[37m\u001b[0m \u001b[1m0s\u001b[0m 4ms/step - bin_output_accuracy: 0.4117 - bin_output_loss: 1.9023 - corridor_output_accuracy: 0.9490 - corridor_output_loss: 0.1056 - loss: 2.0062 \n",
      "Epoch 66/200\n",
      "\u001b[1m11/11\u001b[0m \u001b[32m━━━━━━━━━━━━━━━━━━━━\u001b[0m\u001b[37m\u001b[0m \u001b[1m0s\u001b[0m 3ms/step - bin_output_accuracy: 0.3829 - bin_output_loss: 1.9085 - corridor_output_accuracy: 0.9749 - corridor_output_loss: 0.0761 - loss: 1.9832 \n",
      "Epoch 67/200\n",
      "\u001b[1m11/11\u001b[0m \u001b[32m━━━━━━━━━━━━━━━━━━━━\u001b[0m\u001b[37m\u001b[0m \u001b[1m0s\u001b[0m 4ms/step - bin_output_accuracy: 0.3849 - bin_output_loss: 1.8676 - corridor_output_accuracy: 0.9837 - corridor_output_loss: 0.0678 - loss: 1.9352 \n",
      "Epoch 68/200\n",
      "\u001b[1m11/11\u001b[0m \u001b[32m━━━━━━━━━━━━━━━━━━━━\u001b[0m\u001b[37m\u001b[0m \u001b[1m0s\u001b[0m 4ms/step - bin_output_accuracy: 0.3744 - bin_output_loss: 1.8759 - corridor_output_accuracy: 0.9808 - corridor_output_loss: 0.0663 - loss: 1.9430 \n",
      "Epoch 69/200\n",
      "\u001b[1m11/11\u001b[0m \u001b[32m━━━━━━━━━━━━━━━━━━━━\u001b[0m\u001b[37m\u001b[0m \u001b[1m0s\u001b[0m 4ms/step - bin_output_accuracy: 0.3698 - bin_output_loss: 1.8991 - corridor_output_accuracy: 0.9630 - corridor_output_loss: 0.0904 - loss: 1.9902 \n",
      "Epoch 70/200\n",
      "\u001b[1m11/11\u001b[0m \u001b[32m━━━━━━━━━━━━━━━━━━━━\u001b[0m\u001b[37m\u001b[0m \u001b[1m0s\u001b[0m 4ms/step - bin_output_accuracy: 0.3819 - bin_output_loss: 1.8786 - corridor_output_accuracy: 0.9674 - corridor_output_loss: 0.0817 - loss: 1.9608 \n",
      "Epoch 71/200\n",
      "\u001b[1m11/11\u001b[0m \u001b[32m━━━━━━━━━━━━━━━━━━━━\u001b[0m\u001b[37m\u001b[0m \u001b[1m0s\u001b[0m 4ms/step - bin_output_accuracy: 0.3931 - bin_output_loss: 1.8204 - corridor_output_accuracy: 0.9568 - corridor_output_loss: 0.0994 - loss: 1.9237 \n",
      "Epoch 72/200\n",
      "\u001b[1m11/11\u001b[0m \u001b[32m━━━━━━━━━━━━━━━━━━━━\u001b[0m\u001b[37m\u001b[0m \u001b[1m0s\u001b[0m 3ms/step - bin_output_accuracy: 0.3914 - bin_output_loss: 1.8397 - corridor_output_accuracy: 0.9699 - corridor_output_loss: 0.0654 - loss: 1.9032 \n",
      "Epoch 73/200\n"
     ]
    },
    {
     "name": "stdout",
     "output_type": "stream",
     "text": [
      "\u001b[1m11/11\u001b[0m \u001b[32m━━━━━━━━━━━━━━━━━━━━\u001b[0m\u001b[37m\u001b[0m \u001b[1m0s\u001b[0m 3ms/step - bin_output_accuracy: 0.3847 - bin_output_loss: 1.7799 - corridor_output_accuracy: 0.9740 - corridor_output_loss: 0.0699 - loss: 1.8508 \n",
      "Epoch 74/200\n",
      "\u001b[1m11/11\u001b[0m \u001b[32m━━━━━━━━━━━━━━━━━━━━\u001b[0m\u001b[37m\u001b[0m \u001b[1m0s\u001b[0m 4ms/step - bin_output_accuracy: 0.3812 - bin_output_loss: 1.7938 - corridor_output_accuracy: 0.9803 - corridor_output_loss: 0.0607 - loss: 1.8532 \n",
      "Epoch 75/200\n",
      "\u001b[1m11/11\u001b[0m \u001b[32m━━━━━━━━━━━━━━━━━━━━\u001b[0m\u001b[37m\u001b[0m \u001b[1m0s\u001b[0m 3ms/step - bin_output_accuracy: 0.4380 - bin_output_loss: 1.7893 - corridor_output_accuracy: 0.9613 - corridor_output_loss: 0.0995 - loss: 1.8898 \n",
      "Epoch 76/200\n",
      "\u001b[1m11/11\u001b[0m \u001b[32m━━━━━━━━━━━━━━━━━━━━\u001b[0m\u001b[37m\u001b[0m \u001b[1m0s\u001b[0m 3ms/step - bin_output_accuracy: 0.4231 - bin_output_loss: 1.7358 - corridor_output_accuracy: 0.9907 - corridor_output_loss: 0.0593 - loss: 1.7932 \n",
      "Epoch 77/200\n",
      "\u001b[1m11/11\u001b[0m \u001b[32m━━━━━━━━━━━━━━━━━━━━\u001b[0m\u001b[37m\u001b[0m \u001b[1m0s\u001b[0m 4ms/step - bin_output_accuracy: 0.3831 - bin_output_loss: 1.7503 - corridor_output_accuracy: 0.9795 - corridor_output_loss: 0.0698 - loss: 1.8238 \n",
      "Epoch 78/200\n",
      "\u001b[1m11/11\u001b[0m \u001b[32m━━━━━━━━━━━━━━━━━━━━\u001b[0m\u001b[37m\u001b[0m \u001b[1m0s\u001b[0m 4ms/step - bin_output_accuracy: 0.4177 - bin_output_loss: 1.7378 - corridor_output_accuracy: 0.9834 - corridor_output_loss: 0.0559 - loss: 1.7951 \n",
      "Epoch 79/200\n",
      "\u001b[1m11/11\u001b[0m \u001b[32m━━━━━━━━━━━━━━━━━━━━\u001b[0m\u001b[37m\u001b[0m \u001b[1m0s\u001b[0m 4ms/step - bin_output_accuracy: 0.4089 - bin_output_loss: 1.7696 - corridor_output_accuracy: 0.9794 - corridor_output_loss: 0.0701 - loss: 1.8386 \n",
      "Epoch 80/200\n",
      "\u001b[1m11/11\u001b[0m \u001b[32m━━━━━━━━━━━━━━━━━━━━\u001b[0m\u001b[37m\u001b[0m \u001b[1m0s\u001b[0m 4ms/step - bin_output_accuracy: 0.4200 - bin_output_loss: 1.7056 - corridor_output_accuracy: 0.9827 - corridor_output_loss: 0.0622 - loss: 1.7707 \n",
      "Epoch 81/200\n",
      "\u001b[1m11/11\u001b[0m \u001b[32m━━━━━━━━━━━━━━━━━━━━\u001b[0m\u001b[37m\u001b[0m \u001b[1m0s\u001b[0m 4ms/step - bin_output_accuracy: 0.4091 - bin_output_loss: 1.6841 - corridor_output_accuracy: 0.9714 - corridor_output_loss: 0.0797 - loss: 1.7660 \n",
      "Epoch 82/200\n",
      "\u001b[1m11/11\u001b[0m \u001b[32m━━━━━━━━━━━━━━━━━━━━\u001b[0m\u001b[37m\u001b[0m \u001b[1m0s\u001b[0m 4ms/step - bin_output_accuracy: 0.4156 - bin_output_loss: 1.7143 - corridor_output_accuracy: 0.9732 - corridor_output_loss: 0.0837 - loss: 1.8002 \n",
      "Epoch 83/200\n",
      "\u001b[1m11/11\u001b[0m \u001b[32m━━━━━━━━━━━━━━━━━━━━\u001b[0m\u001b[37m\u001b[0m \u001b[1m0s\u001b[0m 3ms/step - bin_output_accuracy: 0.4418 - bin_output_loss: 1.6537 - corridor_output_accuracy: 0.9755 - corridor_output_loss: 0.0616 - loss: 1.7180 \n",
      "Epoch 84/200\n",
      "\u001b[1m11/11\u001b[0m \u001b[32m━━━━━━━━━━━━━━━━━━━━\u001b[0m\u001b[37m\u001b[0m \u001b[1m0s\u001b[0m 4ms/step - bin_output_accuracy: 0.4601 - bin_output_loss: 1.6275 - corridor_output_accuracy: 0.9662 - corridor_output_loss: 0.0643 - loss: 1.6916 \n",
      "Epoch 85/200\n",
      "\u001b[1m11/11\u001b[0m \u001b[32m━━━━━━━━━━━━━━━━━━━━\u001b[0m\u001b[37m\u001b[0m \u001b[1m0s\u001b[0m 3ms/step - bin_output_accuracy: 0.5038 - bin_output_loss: 1.5872 - corridor_output_accuracy: 0.9831 - corridor_output_loss: 0.0570 - loss: 1.6447 \n",
      "Epoch 86/200\n",
      "\u001b[1m11/11\u001b[0m \u001b[32m━━━━━━━━━━━━━━━━━━━━\u001b[0m\u001b[37m\u001b[0m \u001b[1m0s\u001b[0m 4ms/step - bin_output_accuracy: 0.4607 - bin_output_loss: 1.5893 - corridor_output_accuracy: 0.9842 - corridor_output_loss: 0.0533 - loss: 1.6432 \n",
      "Epoch 87/200\n",
      "\u001b[1m11/11\u001b[0m \u001b[32m━━━━━━━━━━━━━━━━━━━━\u001b[0m\u001b[37m\u001b[0m \u001b[1m0s\u001b[0m 4ms/step - bin_output_accuracy: 0.4646 - bin_output_loss: 1.5764 - corridor_output_accuracy: 0.9930 - corridor_output_loss: 0.0370 - loss: 1.6183 \n",
      "Epoch 88/200\n",
      "\u001b[1m11/11\u001b[0m \u001b[32m━━━━━━━━━━━━━━━━━━━━\u001b[0m\u001b[37m\u001b[0m \u001b[1m0s\u001b[0m 4ms/step - bin_output_accuracy: 0.4296 - bin_output_loss: 1.6033 - corridor_output_accuracy: 0.9823 - corridor_output_loss: 0.0533 - loss: 1.6537 \n",
      "Epoch 89/200\n",
      "\u001b[1m11/11\u001b[0m \u001b[32m━━━━━━━━━━━━━━━━━━━━\u001b[0m\u001b[37m\u001b[0m \u001b[1m0s\u001b[0m 4ms/step - bin_output_accuracy: 0.4778 - bin_output_loss: 1.5490 - corridor_output_accuracy: 0.9915 - corridor_output_loss: 0.0446 - loss: 1.5910 \n",
      "Epoch 90/200\n",
      "\u001b[1m11/11\u001b[0m \u001b[32m━━━━━━━━━━━━━━━━━━━━\u001b[0m\u001b[37m\u001b[0m \u001b[1m0s\u001b[0m 4ms/step - bin_output_accuracy: 0.4603 - bin_output_loss: 1.6118 - corridor_output_accuracy: 0.9531 - corridor_output_loss: 0.1055 - loss: 1.7151 \n",
      "Epoch 91/200\n",
      "\u001b[1m11/11\u001b[0m \u001b[32m━━━━━━━━━━━━━━━━━━━━\u001b[0m\u001b[37m\u001b[0m \u001b[1m0s\u001b[0m 4ms/step - bin_output_accuracy: 0.4528 - bin_output_loss: 1.5986 - corridor_output_accuracy: 0.9816 - corridor_output_loss: 0.0595 - loss: 1.6598 \n",
      "Epoch 92/200\n",
      "\u001b[1m11/11\u001b[0m \u001b[32m━━━━━━━━━━━━━━━━━━━━\u001b[0m\u001b[37m\u001b[0m \u001b[1m0s\u001b[0m 4ms/step - bin_output_accuracy: 0.3993 - bin_output_loss: 1.5999 - corridor_output_accuracy: 0.9901 - corridor_output_loss: 0.0463 - loss: 1.6431 \n",
      "Epoch 93/200\n",
      "\u001b[1m11/11\u001b[0m \u001b[32m━━━━━━━━━━━━━━━━━━━━\u001b[0m\u001b[37m\u001b[0m \u001b[1m0s\u001b[0m 4ms/step - bin_output_accuracy: 0.4433 - bin_output_loss: 1.5882 - corridor_output_accuracy: 0.9755 - corridor_output_loss: 0.0658 - loss: 1.6541 \n",
      "Epoch 94/200\n",
      "\u001b[1m11/11\u001b[0m \u001b[32m━━━━━━━━━━━━━━━━━━━━\u001b[0m\u001b[37m\u001b[0m \u001b[1m0s\u001b[0m 4ms/step - bin_output_accuracy: 0.4627 - bin_output_loss: 1.5445 - corridor_output_accuracy: 0.9580 - corridor_output_loss: 0.0948 - loss: 1.6405 \n",
      "Epoch 95/200\n",
      "\u001b[1m11/11\u001b[0m \u001b[32m━━━━━━━━━━━━━━━━━━━━\u001b[0m\u001b[37m\u001b[0m \u001b[1m0s\u001b[0m 4ms/step - bin_output_accuracy: 0.4754 - bin_output_loss: 1.5237 - corridor_output_accuracy: 0.9770 - corridor_output_loss: 0.0538 - loss: 1.5789 \n",
      "Epoch 96/200\n",
      "\u001b[1m11/11\u001b[0m \u001b[32m━━━━━━━━━━━━━━━━━━━━\u001b[0m\u001b[37m\u001b[0m \u001b[1m0s\u001b[0m 4ms/step - bin_output_accuracy: 0.4679 - bin_output_loss: 1.5333 - corridor_output_accuracy: 0.9837 - corridor_output_loss: 0.0443 - loss: 1.5790 \n",
      "Epoch 97/200\n",
      "\u001b[1m11/11\u001b[0m \u001b[32m━━━━━━━━━━━━━━━━━━━━\u001b[0m\u001b[37m\u001b[0m \u001b[1m0s\u001b[0m 3ms/step - bin_output_accuracy: 0.4392 - bin_output_loss: 1.5620 - corridor_output_accuracy: 0.9907 - corridor_output_loss: 0.0445 - loss: 1.6046 \n",
      "Epoch 98/200\n",
      "\u001b[1m11/11\u001b[0m \u001b[32m━━━━━━━━━━━━━━━━━━━━\u001b[0m\u001b[37m\u001b[0m \u001b[1m0s\u001b[0m 3ms/step - bin_output_accuracy: 0.5137 - bin_output_loss: 1.5375 - corridor_output_accuracy: 0.9820 - corridor_output_loss: 0.0494 - loss: 1.5870 \n",
      "Epoch 99/200\n",
      "\u001b[1m11/11\u001b[0m \u001b[32m━━━━━━━━━━━━━━━━━━━━\u001b[0m\u001b[37m\u001b[0m \u001b[1m0s\u001b[0m 3ms/step - bin_output_accuracy: 0.4577 - bin_output_loss: 1.5156 - corridor_output_accuracy: 0.9911 - corridor_output_loss: 0.0498 - loss: 1.5677 \n",
      "Epoch 100/200\n",
      "\u001b[1m11/11\u001b[0m \u001b[32m━━━━━━━━━━━━━━━━━━━━\u001b[0m\u001b[37m\u001b[0m \u001b[1m0s\u001b[0m 4ms/step - bin_output_accuracy: 0.4819 - bin_output_loss: 1.5019 - corridor_output_accuracy: 0.9875 - corridor_output_loss: 0.0515 - loss: 1.5514 \n",
      "Epoch 101/200\n",
      "\u001b[1m11/11\u001b[0m \u001b[32m━━━━━━━━━━━━━━━━━━━━\u001b[0m\u001b[37m\u001b[0m \u001b[1m0s\u001b[0m 4ms/step - bin_output_accuracy: 0.4800 - bin_output_loss: 1.4919 - corridor_output_accuracy: 0.9928 - corridor_output_loss: 0.0356 - loss: 1.5289 \n",
      "Epoch 102/200\n",
      "\u001b[1m11/11\u001b[0m \u001b[32m━━━━━━━━━━━━━━━━━━━━\u001b[0m\u001b[37m\u001b[0m \u001b[1m0s\u001b[0m 3ms/step - bin_output_accuracy: 0.4828 - bin_output_loss: 1.4867 - corridor_output_accuracy: 0.9885 - corridor_output_loss: 0.0388 - loss: 1.5264 \n",
      "Epoch 103/200\n",
      "\u001b[1m11/11\u001b[0m \u001b[32m━━━━━━━━━━━━━━━━━━━━\u001b[0m\u001b[37m\u001b[0m \u001b[1m0s\u001b[0m 4ms/step - bin_output_accuracy: 0.4880 - bin_output_loss: 1.4717 - corridor_output_accuracy: 0.9926 - corridor_output_loss: 0.0439 - loss: 1.5137 \n",
      "Epoch 104/200\n",
      "\u001b[1m11/11\u001b[0m \u001b[32m━━━━━━━━━━━━━━━━━━━━\u001b[0m\u001b[37m\u001b[0m \u001b[1m0s\u001b[0m 4ms/step - bin_output_accuracy: 0.4910 - bin_output_loss: 1.4521 - corridor_output_accuracy: 0.9689 - corridor_output_loss: 0.0685 - loss: 1.5229 \n",
      "Epoch 105/200\n",
      "\u001b[1m11/11\u001b[0m \u001b[32m━━━━━━━━━━━━━━━━━━━━\u001b[0m\u001b[37m\u001b[0m \u001b[1m0s\u001b[0m 3ms/step - bin_output_accuracy: 0.4798 - bin_output_loss: 1.4716 - corridor_output_accuracy: 0.9894 - corridor_output_loss: 0.0466 - loss: 1.5184 \n",
      "Epoch 106/200\n",
      "\u001b[1m11/11\u001b[0m \u001b[32m━━━━━━━━━━━━━━━━━━━━\u001b[0m\u001b[37m\u001b[0m \u001b[1m0s\u001b[0m 4ms/step - bin_output_accuracy: 0.4793 - bin_output_loss: 1.4597 - corridor_output_accuracy: 0.9831 - corridor_output_loss: 0.0456 - loss: 1.5044 \n",
      "Epoch 107/200\n",
      "\u001b[1m11/11\u001b[0m \u001b[32m━━━━━━━━━━━━━━━━━━━━\u001b[0m\u001b[37m\u001b[0m \u001b[1m0s\u001b[0m 4ms/step - bin_output_accuracy: 0.4988 - bin_output_loss: 1.4592 - corridor_output_accuracy: 0.9679 - corridor_output_loss: 0.0711 - loss: 1.5280 \n",
      "Epoch 108/200\n",
      "\u001b[1m11/11\u001b[0m \u001b[32m━━━━━━━━━━━━━━━━━━━━\u001b[0m\u001b[37m\u001b[0m \u001b[1m0s\u001b[0m 4ms/step - bin_output_accuracy: 0.4910 - bin_output_loss: 1.4451 - corridor_output_accuracy: 0.9832 - corridor_output_loss: 0.0542 - loss: 1.5018 \n",
      "Epoch 109/200\n",
      "\u001b[1m11/11\u001b[0m \u001b[32m━━━━━━━━━━━━━━━━━━━━\u001b[0m\u001b[37m\u001b[0m \u001b[1m0s\u001b[0m 3ms/step - bin_output_accuracy: 0.4542 - bin_output_loss: 1.4597 - corridor_output_accuracy: 0.9788 - corridor_output_loss: 0.0555 - loss: 1.5178 \n",
      "Epoch 110/200\n",
      "\u001b[1m11/11\u001b[0m \u001b[32m━━━━━━━━━━━━━━━━━━━━\u001b[0m\u001b[37m\u001b[0m \u001b[1m0s\u001b[0m 4ms/step - bin_output_accuracy: 0.4765 - bin_output_loss: 1.4700 - corridor_output_accuracy: 0.9553 - corridor_output_loss: 0.0973 - loss: 1.5692 \n",
      "Epoch 111/200\n",
      "\u001b[1m11/11\u001b[0m \u001b[32m━━━━━━━━━━━━━━━━━━━━\u001b[0m\u001b[37m\u001b[0m \u001b[1m0s\u001b[0m 3ms/step - bin_output_accuracy: 0.5467 - bin_output_loss: 1.4188 - corridor_output_accuracy: 0.9768 - corridor_output_loss: 0.0522 - loss: 1.4693 \n",
      "Epoch 112/200\n",
      "\u001b[1m11/11\u001b[0m \u001b[32m━━━━━━━━━━━━━━━━━━━━\u001b[0m\u001b[37m\u001b[0m \u001b[1m0s\u001b[0m 3ms/step - bin_output_accuracy: 0.5170 - bin_output_loss: 1.3753 - corridor_output_accuracy: 0.9928 - corridor_output_loss: 0.0348 - loss: 1.4082 \n",
      "Epoch 113/200\n",
      "\u001b[1m11/11\u001b[0m \u001b[32m━━━━━━━━━━━━━━━━━━━━\u001b[0m\u001b[37m\u001b[0m \u001b[1m0s\u001b[0m 4ms/step - bin_output_accuracy: 0.4810 - bin_output_loss: 1.4547 - corridor_output_accuracy: 0.9878 - corridor_output_loss: 0.0424 - loss: 1.4977 \n",
      "Epoch 114/200\n",
      "\u001b[1m11/11\u001b[0m \u001b[32m━━━━━━━━━━━━━━━━━━━━\u001b[0m\u001b[37m\u001b[0m \u001b[1m0s\u001b[0m 3ms/step - bin_output_accuracy: 0.4936 - bin_output_loss: 1.4355 - corridor_output_accuracy: 0.9806 - corridor_output_loss: 0.0434 - loss: 1.4778 \n",
      "Epoch 115/200\n",
      "\u001b[1m11/11\u001b[0m \u001b[32m━━━━━━━━━━━━━━━━━━━━\u001b[0m\u001b[37m\u001b[0m \u001b[1m0s\u001b[0m 4ms/step - bin_output_accuracy: 0.5119 - bin_output_loss: 1.3775 - corridor_output_accuracy: 0.9902 - corridor_output_loss: 0.0373 - loss: 1.4108 \n",
      "Epoch 116/200\n",
      "\u001b[1m11/11\u001b[0m \u001b[32m━━━━━━━━━━━━━━━━━━━━\u001b[0m\u001b[37m\u001b[0m \u001b[1m0s\u001b[0m 3ms/step - bin_output_accuracy: 0.4835 - bin_output_loss: 1.4162 - corridor_output_accuracy: 0.9927 - corridor_output_loss: 0.0316 - loss: 1.4453 \n",
      "Epoch 117/200\n",
      "\u001b[1m11/11\u001b[0m \u001b[32m━━━━━━━━━━━━━━━━━━━━\u001b[0m\u001b[37m\u001b[0m \u001b[1m0s\u001b[0m 4ms/step - bin_output_accuracy: 0.5399 - bin_output_loss: 1.3747 - corridor_output_accuracy: 0.9911 - corridor_output_loss: 0.0387 - loss: 1.4107 \n",
      "Epoch 118/200\n",
      "\u001b[1m11/11\u001b[0m \u001b[32m━━━━━━━━━━━━━━━━━━━━\u001b[0m\u001b[37m\u001b[0m \u001b[1m0s\u001b[0m 3ms/step - bin_output_accuracy: 0.4875 - bin_output_loss: 1.3826 - corridor_output_accuracy: 0.9887 - corridor_output_loss: 0.0378 - loss: 1.4216 \n",
      "Epoch 119/200\n",
      "\u001b[1m11/11\u001b[0m \u001b[32m━━━━━━━━━━━━━━━━━━━━\u001b[0m\u001b[37m\u001b[0m \u001b[1m0s\u001b[0m 4ms/step - bin_output_accuracy: 0.5033 - bin_output_loss: 1.3687 - corridor_output_accuracy: 0.9911 - corridor_output_loss: 0.0369 - loss: 1.4079 \n",
      "Epoch 120/200\n",
      "\u001b[1m11/11\u001b[0m \u001b[32m━━━━━━━━━━━━━━━━━━━━\u001b[0m\u001b[37m\u001b[0m \u001b[1m0s\u001b[0m 4ms/step - bin_output_accuracy: 0.5286 - bin_output_loss: 1.3417 - corridor_output_accuracy: 0.9950 - corridor_output_loss: 0.0336 - loss: 1.3766 \n",
      "Epoch 121/200\n",
      "\u001b[1m11/11\u001b[0m \u001b[32m━━━━━━━━━━━━━━━━━━━━\u001b[0m\u001b[37m\u001b[0m \u001b[1m0s\u001b[0m 4ms/step - bin_output_accuracy: 0.4938 - bin_output_loss: 1.3761 - corridor_output_accuracy: 0.9846 - corridor_output_loss: 0.0524 - loss: 1.4294 \n",
      "Epoch 122/200\n",
      "\u001b[1m11/11\u001b[0m \u001b[32m━━━━━━━━━━━━━━━━━━━━\u001b[0m\u001b[37m\u001b[0m \u001b[1m0s\u001b[0m 4ms/step - bin_output_accuracy: 0.4739 - bin_output_loss: 1.3852 - corridor_output_accuracy: 0.9781 - corridor_output_loss: 0.0622 - loss: 1.4433 \n",
      "Epoch 123/200\n",
      "\u001b[1m11/11\u001b[0m \u001b[32m━━━━━━━━━━━━━━━━━━━━\u001b[0m\u001b[37m\u001b[0m \u001b[1m0s\u001b[0m 4ms/step - bin_output_accuracy: 0.5472 - bin_output_loss: 1.3656 - corridor_output_accuracy: 0.9730 - corridor_output_loss: 0.0750 - loss: 1.4432 \n",
      "Epoch 124/200\n",
      "\u001b[1m11/11\u001b[0m \u001b[32m━━━━━━━━━━━━━━━━━━━━\u001b[0m\u001b[37m\u001b[0m \u001b[1m0s\u001b[0m 4ms/step - bin_output_accuracy: 0.4950 - bin_output_loss: 1.3532 - corridor_output_accuracy: 0.9508 - corridor_output_loss: 0.0980 - loss: 1.4508 \n",
      "Epoch 125/200\n",
      "\u001b[1m11/11\u001b[0m \u001b[32m━━━━━━━━━━━━━━━━━━━━\u001b[0m\u001b[37m\u001b[0m \u001b[1m0s\u001b[0m 4ms/step - bin_output_accuracy: 0.5112 - bin_output_loss: 1.3652 - corridor_output_accuracy: 0.9809 - corridor_output_loss: 0.0488 - loss: 1.4154 \n",
      "Epoch 126/200\n",
      "\u001b[1m11/11\u001b[0m \u001b[32m━━━━━━━━━━━━━━━━━━━━\u001b[0m\u001b[37m\u001b[0m \u001b[1m0s\u001b[0m 4ms/step - bin_output_accuracy: 0.5116 - bin_output_loss: 1.3360 - corridor_output_accuracy: 0.9884 - corridor_output_loss: 0.0321 - loss: 1.3669 \n",
      "Epoch 127/200\n",
      "\u001b[1m11/11\u001b[0m \u001b[32m━━━━━━━━━━━━━━━━━━━━\u001b[0m\u001b[37m\u001b[0m \u001b[1m0s\u001b[0m 4ms/step - bin_output_accuracy: 0.5084 - bin_output_loss: 1.3417 - corridor_output_accuracy: 0.9966 - corridor_output_loss: 0.0299 - loss: 1.3699 \n",
      "Epoch 128/200\n",
      "\u001b[1m11/11\u001b[0m \u001b[32m━━━━━━━━━━━━━━━━━━━━\u001b[0m\u001b[37m\u001b[0m \u001b[1m0s\u001b[0m 4ms/step - bin_output_accuracy: 0.5386 - bin_output_loss: 1.3041 - corridor_output_accuracy: 0.9915 - corridor_output_loss: 0.0332 - loss: 1.3382 \n",
      "Epoch 129/200\n",
      "\u001b[1m11/11\u001b[0m \u001b[32m━━━━━━━━━━━━━━━━━━━━\u001b[0m\u001b[37m\u001b[0m \u001b[1m0s\u001b[0m 4ms/step - bin_output_accuracy: 0.5030 - bin_output_loss: 1.3570 - corridor_output_accuracy: 0.9565 - corridor_output_loss: 0.1015 - loss: 1.4602 \n",
      "Epoch 130/200\n",
      "\u001b[1m11/11\u001b[0m \u001b[32m━━━━━━━━━━━━━━━━━━━━\u001b[0m\u001b[37m\u001b[0m \u001b[1m0s\u001b[0m 4ms/step - bin_output_accuracy: 0.4578 - bin_output_loss: 1.4270 - corridor_output_accuracy: 0.9873 - corridor_output_loss: 0.0466 - loss: 1.4763 \n",
      "Epoch 131/200\n",
      "\u001b[1m11/11\u001b[0m \u001b[32m━━━━━━━━━━━━━━━━━━━━\u001b[0m\u001b[37m\u001b[0m \u001b[1m0s\u001b[0m 4ms/step - bin_output_accuracy: 0.5186 - bin_output_loss: 1.3758 - corridor_output_accuracy: 0.9604 - corridor_output_loss: 0.0895 - loss: 1.4642 \n",
      "Epoch 132/200\n",
      "\u001b[1m11/11\u001b[0m \u001b[32m━━━━━━━━━━━━━━━━━━━━\u001b[0m\u001b[37m\u001b[0m \u001b[1m0s\u001b[0m 4ms/step - bin_output_accuracy: 0.5612 - bin_output_loss: 1.2849 - corridor_output_accuracy: 0.9656 - corridor_output_loss: 0.0897 - loss: 1.3688 \n",
      "Epoch 133/200\n",
      "\u001b[1m11/11\u001b[0m \u001b[32m━━━━━━━━━━━━━━━━━━━━\u001b[0m\u001b[37m\u001b[0m \u001b[1m0s\u001b[0m 4ms/step - bin_output_accuracy: 0.5313 - bin_output_loss: 1.3038 - corridor_output_accuracy: 0.9630 - corridor_output_loss: 0.0771 - loss: 1.3813 \n",
      "Epoch 134/200\n",
      "\u001b[1m11/11\u001b[0m \u001b[32m━━━━━━━━━━━━━━━━━━━━\u001b[0m\u001b[37m\u001b[0m \u001b[1m0s\u001b[0m 4ms/step - bin_output_accuracy: 0.5164 - bin_output_loss: 1.3137 - corridor_output_accuracy: 0.8875 - corridor_output_loss: 0.2773 - loss: 1.5933 \n",
      "Epoch 135/200\n",
      "\u001b[1m11/11\u001b[0m \u001b[32m━━━━━━━━━━━━━━━━━━━━\u001b[0m\u001b[37m\u001b[0m \u001b[1m0s\u001b[0m 4ms/step - bin_output_accuracy: 0.5519 - bin_output_loss: 1.2912 - corridor_output_accuracy: 0.9263 - corridor_output_loss: 0.2005 - loss: 1.4918 \n",
      "Epoch 136/200\n",
      "\u001b[1m11/11\u001b[0m \u001b[32m━━━━━━━━━━━━━━━━━━━━\u001b[0m\u001b[37m\u001b[0m \u001b[1m0s\u001b[0m 4ms/step - bin_output_accuracy: 0.5154 - bin_output_loss: 1.3043 - corridor_output_accuracy: 0.9585 - corridor_output_loss: 0.0878 - loss: 1.3909 \n",
      "Epoch 137/200\n",
      "\u001b[1m11/11\u001b[0m \u001b[32m━━━━━━━━━━━━━━━━━━━━\u001b[0m\u001b[37m\u001b[0m \u001b[1m0s\u001b[0m 4ms/step - bin_output_accuracy: 0.5365 - bin_output_loss: 1.2924 - corridor_output_accuracy: 0.9850 - corridor_output_loss: 0.0434 - loss: 1.3360 \n",
      "Epoch 138/200\n",
      "\u001b[1m11/11\u001b[0m \u001b[32m━━━━━━━━━━━━━━━━━━━━\u001b[0m\u001b[37m\u001b[0m \u001b[1m0s\u001b[0m 4ms/step - bin_output_accuracy: 0.5750 - bin_output_loss: 1.2905 - corridor_output_accuracy: 0.9910 - corridor_output_loss: 0.0418 - loss: 1.3343 \n",
      "Epoch 139/200\n",
      "\u001b[1m11/11\u001b[0m \u001b[32m━━━━━━━━━━━━━━━━━━━━\u001b[0m\u001b[37m\u001b[0m \u001b[1m0s\u001b[0m 4ms/step - bin_output_accuracy: 0.5550 - bin_output_loss: 1.2535 - corridor_output_accuracy: 0.9877 - corridor_output_loss: 0.0413 - loss: 1.2968 \n",
      "Epoch 140/200\n",
      "\u001b[1m11/11\u001b[0m \u001b[32m━━━━━━━━━━━━━━━━━━━━\u001b[0m\u001b[37m\u001b[0m \u001b[1m0s\u001b[0m 4ms/step - bin_output_accuracy: 0.5424 - bin_output_loss: 1.2725 - corridor_output_accuracy: 0.9807 - corridor_output_loss: 0.0420 - loss: 1.3142 \n",
      "Epoch 141/200\n",
      "\u001b[1m11/11\u001b[0m \u001b[32m━━━━━━━━━━━━━━━━━━━━\u001b[0m\u001b[37m\u001b[0m \u001b[1m0s\u001b[0m 4ms/step - bin_output_accuracy: 0.5894 - bin_output_loss: 1.2304 - corridor_output_accuracy: 0.9864 - corridor_output_loss: 0.0363 - loss: 1.2681 \n",
      "Epoch 142/200\n",
      "\u001b[1m11/11\u001b[0m \u001b[32m━━━━━━━━━━━━━━━━━━━━\u001b[0m\u001b[37m\u001b[0m \u001b[1m0s\u001b[0m 4ms/step - bin_output_accuracy: 0.5853 - bin_output_loss: 1.2198 - corridor_output_accuracy: 0.9870 - corridor_output_loss: 0.0401 - loss: 1.2585 \n",
      "Epoch 143/200\n",
      "\u001b[1m11/11\u001b[0m \u001b[32m━━━━━━━━━━━━━━━━━━━━\u001b[0m\u001b[37m\u001b[0m \u001b[1m0s\u001b[0m 4ms/step - bin_output_accuracy: 0.5804 - bin_output_loss: 1.2232 - corridor_output_accuracy: 0.9827 - corridor_output_loss: 0.0444 - loss: 1.2662 \n",
      "Epoch 144/200\n",
      "\u001b[1m11/11\u001b[0m \u001b[32m━━━━━━━━━━━━━━━━━━━━\u001b[0m\u001b[37m\u001b[0m \u001b[1m0s\u001b[0m 4ms/step - bin_output_accuracy: 0.5523 - bin_output_loss: 1.2591 - corridor_output_accuracy: 0.9923 - corridor_output_loss: 0.0308 - loss: 1.2946 \n",
      "Epoch 145/200\n"
     ]
    },
    {
     "name": "stdout",
     "output_type": "stream",
     "text": [
      "\u001b[1m11/11\u001b[0m \u001b[32m━━━━━━━━━━━━━━━━━━━━\u001b[0m\u001b[37m\u001b[0m \u001b[1m0s\u001b[0m 4ms/step - bin_output_accuracy: 0.5468 - bin_output_loss: 1.2373 - corridor_output_accuracy: 0.9882 - corridor_output_loss: 0.0307 - loss: 1.2702 \n",
      "Epoch 146/200\n",
      "\u001b[1m11/11\u001b[0m \u001b[32m━━━━━━━━━━━━━━━━━━━━\u001b[0m\u001b[37m\u001b[0m \u001b[1m0s\u001b[0m 4ms/step - bin_output_accuracy: 0.5862 - bin_output_loss: 1.2034 - corridor_output_accuracy: 0.9902 - corridor_output_loss: 0.0377 - loss: 1.2431 \n",
      "Epoch 147/200\n",
      "\u001b[1m11/11\u001b[0m \u001b[32m━━━━━━━━━━━━━━━━━━━━\u001b[0m\u001b[37m\u001b[0m \u001b[1m0s\u001b[0m 4ms/step - bin_output_accuracy: 0.5734 - bin_output_loss: 1.2057 - corridor_output_accuracy: 0.9914 - corridor_output_loss: 0.0290 - loss: 1.2386 \n",
      "Epoch 148/200\n",
      "\u001b[1m11/11\u001b[0m \u001b[32m━━━━━━━━━━━━━━━━━━━━\u001b[0m\u001b[37m\u001b[0m \u001b[1m0s\u001b[0m 4ms/step - bin_output_accuracy: 0.5710 - bin_output_loss: 1.2236 - corridor_output_accuracy: 0.9953 - corridor_output_loss: 0.0291 - loss: 1.2552 \n",
      "Epoch 149/200\n",
      "\u001b[1m11/11\u001b[0m \u001b[32m━━━━━━━━━━━━━━━━━━━━\u001b[0m\u001b[37m\u001b[0m \u001b[1m0s\u001b[0m 4ms/step - bin_output_accuracy: 0.5833 - bin_output_loss: 1.2008 - corridor_output_accuracy: 0.9900 - corridor_output_loss: 0.0326 - loss: 1.2322 \n",
      "Epoch 150/200\n",
      "\u001b[1m11/11\u001b[0m \u001b[32m━━━━━━━━━━━━━━━━━━━━\u001b[0m\u001b[37m\u001b[0m \u001b[1m0s\u001b[0m 4ms/step - bin_output_accuracy: 0.5768 - bin_output_loss: 1.2144 - corridor_output_accuracy: 0.9891 - corridor_output_loss: 0.0330 - loss: 1.2485 \n",
      "Epoch 151/200\n",
      "\u001b[1m11/11\u001b[0m \u001b[32m━━━━━━━━━━━━━━━━━━━━\u001b[0m\u001b[37m\u001b[0m \u001b[1m0s\u001b[0m 4ms/step - bin_output_accuracy: 0.5758 - bin_output_loss: 1.2390 - corridor_output_accuracy: 0.9879 - corridor_output_loss: 0.0387 - loss: 1.2768 \n",
      "Epoch 152/200\n",
      "\u001b[1m11/11\u001b[0m \u001b[32m━━━━━━━━━━━━━━━━━━━━\u001b[0m\u001b[37m\u001b[0m \u001b[1m0s\u001b[0m 5ms/step - bin_output_accuracy: 0.5782 - bin_output_loss: 1.2068 - corridor_output_accuracy: 0.9945 - corridor_output_loss: 0.0380 - loss: 1.2442 \n",
      "Epoch 153/200\n",
      "\u001b[1m11/11\u001b[0m \u001b[32m━━━━━━━━━━━━━━━━━━━━\u001b[0m\u001b[37m\u001b[0m \u001b[1m0s\u001b[0m 5ms/step - bin_output_accuracy: 0.5791 - bin_output_loss: 1.2089 - corridor_output_accuracy: 0.9962 - corridor_output_loss: 0.0272 - loss: 1.2328 \n",
      "Epoch 154/200\n",
      "\u001b[1m11/11\u001b[0m \u001b[32m━━━━━━━━━━━━━━━━━━━━\u001b[0m\u001b[37m\u001b[0m \u001b[1m0s\u001b[0m 5ms/step - bin_output_accuracy: 0.5574 - bin_output_loss: 1.2464 - corridor_output_accuracy: 0.9918 - corridor_output_loss: 0.0301 - loss: 1.2759 \n",
      "Epoch 155/200\n",
      "\u001b[1m11/11\u001b[0m \u001b[32m━━━━━━━━━━━━━━━━━━━━\u001b[0m\u001b[37m\u001b[0m \u001b[1m0s\u001b[0m 5ms/step - bin_output_accuracy: 0.5666 - bin_output_loss: 1.2088 - corridor_output_accuracy: 0.9758 - corridor_output_loss: 0.0447 - loss: 1.2548 \n",
      "Epoch 156/200\n",
      "\u001b[1m11/11\u001b[0m \u001b[32m━━━━━━━━━━━━━━━━━━━━\u001b[0m\u001b[37m\u001b[0m \u001b[1m0s\u001b[0m 5ms/step - bin_output_accuracy: 0.5989 - bin_output_loss: 1.1879 - corridor_output_accuracy: 0.9957 - corridor_output_loss: 0.0240 - loss: 1.2139 \n",
      "Epoch 157/200\n",
      "\u001b[1m11/11\u001b[0m \u001b[32m━━━━━━━━━━━━━━━━━━━━\u001b[0m\u001b[37m\u001b[0m \u001b[1m0s\u001b[0m 5ms/step - bin_output_accuracy: 0.5903 - bin_output_loss: 1.1786 - corridor_output_accuracy: 0.9865 - corridor_output_loss: 0.0322 - loss: 1.2055 \n",
      "Epoch 158/200\n",
      "\u001b[1m11/11\u001b[0m \u001b[32m━━━━━━━━━━━━━━━━━━━━\u001b[0m\u001b[37m\u001b[0m \u001b[1m0s\u001b[0m 4ms/step - bin_output_accuracy: 0.5671 - bin_output_loss: 1.2080 - corridor_output_accuracy: 0.9903 - corridor_output_loss: 0.0256 - loss: 1.2356 \n",
      "Epoch 159/200\n",
      "\u001b[1m11/11\u001b[0m \u001b[32m━━━━━━━━━━━━━━━━━━━━\u001b[0m\u001b[37m\u001b[0m \u001b[1m0s\u001b[0m 4ms/step - bin_output_accuracy: 0.5373 - bin_output_loss: 1.1891 - corridor_output_accuracy: 0.9794 - corridor_output_loss: 0.0426 - loss: 1.2335 \n",
      "Epoch 160/200\n",
      "\u001b[1m11/11\u001b[0m \u001b[32m━━━━━━━━━━━━━━━━━━━━\u001b[0m\u001b[37m\u001b[0m \u001b[1m0s\u001b[0m 4ms/step - bin_output_accuracy: 0.6130 - bin_output_loss: 1.1721 - corridor_output_accuracy: 0.9929 - corridor_output_loss: 0.0268 - loss: 1.1979 \n",
      "Epoch 161/200\n",
      "\u001b[1m11/11\u001b[0m \u001b[32m━━━━━━━━━━━━━━━━━━━━\u001b[0m\u001b[37m\u001b[0m \u001b[1m0s\u001b[0m 4ms/step - bin_output_accuracy: 0.5856 - bin_output_loss: 1.1429 - corridor_output_accuracy: 0.9982 - corridor_output_loss: 0.0253 - loss: 1.1682 \n",
      "Epoch 162/200\n",
      "\u001b[1m11/11\u001b[0m \u001b[32m━━━━━━━━━━━━━━━━━━━━\u001b[0m\u001b[37m\u001b[0m \u001b[1m0s\u001b[0m 4ms/step - bin_output_accuracy: 0.6029 - bin_output_loss: 1.1490 - corridor_output_accuracy: 0.9913 - corridor_output_loss: 0.0313 - loss: 1.1822 \n",
      "Epoch 163/200\n",
      "\u001b[1m11/11\u001b[0m \u001b[32m━━━━━━━━━━━━━━━━━━━━\u001b[0m\u001b[37m\u001b[0m \u001b[1m0s\u001b[0m 4ms/step - bin_output_accuracy: 0.5826 - bin_output_loss: 1.1657 - corridor_output_accuracy: 0.9790 - corridor_output_loss: 0.0397 - loss: 1.2091 \n",
      "Epoch 164/200\n",
      "\u001b[1m11/11\u001b[0m \u001b[32m━━━━━━━━━━━━━━━━━━━━\u001b[0m\u001b[37m\u001b[0m \u001b[1m0s\u001b[0m 4ms/step - bin_output_accuracy: 0.5934 - bin_output_loss: 1.1450 - corridor_output_accuracy: 0.9922 - corridor_output_loss: 0.0278 - loss: 1.1708 \n",
      "Epoch 165/200\n",
      "\u001b[1m11/11\u001b[0m \u001b[32m━━━━━━━━━━━━━━━━━━━━\u001b[0m\u001b[37m\u001b[0m \u001b[1m0s\u001b[0m 4ms/step - bin_output_accuracy: 0.5788 - bin_output_loss: 1.1597 - corridor_output_accuracy: 0.9918 - corridor_output_loss: 0.0277 - loss: 1.1864 \n",
      "Epoch 166/200\n",
      "\u001b[1m11/11\u001b[0m \u001b[32m━━━━━━━━━━━━━━━━━━━━\u001b[0m\u001b[37m\u001b[0m \u001b[1m0s\u001b[0m 4ms/step - bin_output_accuracy: 0.5883 - bin_output_loss: 1.1768 - corridor_output_accuracy: 0.9927 - corridor_output_loss: 0.0297 - loss: 1.2049 \n",
      "Epoch 167/200\n",
      "\u001b[1m11/11\u001b[0m \u001b[32m━━━━━━━━━━━━━━━━━━━━\u001b[0m\u001b[37m\u001b[0m \u001b[1m0s\u001b[0m 4ms/step - bin_output_accuracy: 0.5546 - bin_output_loss: 1.2290 - corridor_output_accuracy: 0.9920 - corridor_output_loss: 0.0290 - loss: 1.2590 \n",
      "Epoch 168/200\n",
      "\u001b[1m11/11\u001b[0m \u001b[32m━━━━━━━━━━━━━━━━━━━━\u001b[0m\u001b[37m\u001b[0m \u001b[1m0s\u001b[0m 4ms/step - bin_output_accuracy: 0.5949 - bin_output_loss: 1.1452 - corridor_output_accuracy: 0.9940 - corridor_output_loss: 0.0288 - loss: 1.1736 \n",
      "Epoch 169/200\n",
      "\u001b[1m11/11\u001b[0m \u001b[32m━━━━━━━━━━━━━━━━━━━━\u001b[0m\u001b[37m\u001b[0m \u001b[1m0s\u001b[0m 4ms/step - bin_output_accuracy: 0.5560 - bin_output_loss: 1.1741 - corridor_output_accuracy: 0.9896 - corridor_output_loss: 0.0300 - loss: 1.2011 \n",
      "Epoch 170/200\n",
      "\u001b[1m11/11\u001b[0m \u001b[32m━━━━━━━━━━━━━━━━━━━━\u001b[0m\u001b[37m\u001b[0m \u001b[1m0s\u001b[0m 4ms/step - bin_output_accuracy: 0.5932 - bin_output_loss: 1.1273 - corridor_output_accuracy: 0.9921 - corridor_output_loss: 0.0237 - loss: 1.1520 \n",
      "Epoch 171/200\n",
      "\u001b[1m11/11\u001b[0m \u001b[32m━━━━━━━━━━━━━━━━━━━━\u001b[0m\u001b[37m\u001b[0m \u001b[1m0s\u001b[0m 4ms/step - bin_output_accuracy: 0.5699 - bin_output_loss: 1.1919 - corridor_output_accuracy: 0.9884 - corridor_output_loss: 0.0363 - loss: 1.2276 \n",
      "Epoch 172/200\n",
      "\u001b[1m11/11\u001b[0m \u001b[32m━━━━━━━━━━━━━━━━━━━━\u001b[0m\u001b[37m\u001b[0m \u001b[1m0s\u001b[0m 4ms/step - bin_output_accuracy: 0.6323 - bin_output_loss: 1.0909 - corridor_output_accuracy: 0.9934 - corridor_output_loss: 0.0239 - loss: 1.1145 \n",
      "Epoch 173/200\n",
      "\u001b[1m11/11\u001b[0m \u001b[32m━━━━━━━━━━━━━━━━━━━━\u001b[0m\u001b[37m\u001b[0m \u001b[1m0s\u001b[0m 4ms/step - bin_output_accuracy: 0.6026 - bin_output_loss: 1.1523 - corridor_output_accuracy: 0.9924 - corridor_output_loss: 0.0249 - loss: 1.1763 \n",
      "Epoch 174/200\n",
      "\u001b[1m11/11\u001b[0m \u001b[32m━━━━━━━━━━━━━━━━━━━━\u001b[0m\u001b[37m\u001b[0m \u001b[1m0s\u001b[0m 4ms/step - bin_output_accuracy: 0.5784 - bin_output_loss: 1.1519 - corridor_output_accuracy: 0.9849 - corridor_output_loss: 0.0385 - loss: 1.1909 \n",
      "Epoch 175/200\n",
      "\u001b[1m11/11\u001b[0m \u001b[32m━━━━━━━━━━━━━━━━━━━━\u001b[0m\u001b[37m\u001b[0m \u001b[1m0s\u001b[0m 4ms/step - bin_output_accuracy: 0.5643 - bin_output_loss: 1.1406 - corridor_output_accuracy: 0.9742 - corridor_output_loss: 0.0632 - loss: 1.2058 \n",
      "Epoch 176/200\n",
      "\u001b[1m11/11\u001b[0m \u001b[32m━━━━━━━━━━━━━━━━━━━━\u001b[0m\u001b[37m\u001b[0m \u001b[1m0s\u001b[0m 4ms/step - bin_output_accuracy: 0.5498 - bin_output_loss: 1.1902 - corridor_output_accuracy: 0.9713 - corridor_output_loss: 0.0503 - loss: 1.2401 \n",
      "Epoch 177/200\n",
      "\u001b[1m11/11\u001b[0m \u001b[32m━━━━━━━━━━━━━━━━━━━━\u001b[0m\u001b[37m\u001b[0m \u001b[1m0s\u001b[0m 4ms/step - bin_output_accuracy: 0.6033 - bin_output_loss: 1.1417 - corridor_output_accuracy: 0.9925 - corridor_output_loss: 0.0311 - loss: 1.1733 \n",
      "Epoch 178/200\n",
      "\u001b[1m11/11\u001b[0m \u001b[32m━━━━━━━━━━━━━━━━━━━━\u001b[0m\u001b[37m\u001b[0m \u001b[1m0s\u001b[0m 4ms/step - bin_output_accuracy: 0.5723 - bin_output_loss: 1.1242 - corridor_output_accuracy: 0.9993 - corridor_output_loss: 0.0226 - loss: 1.1471 \n",
      "Epoch 179/200\n",
      "\u001b[1m11/11\u001b[0m \u001b[32m━━━━━━━━━━━━━━━━━━━━\u001b[0m\u001b[37m\u001b[0m \u001b[1m0s\u001b[0m 4ms/step - bin_output_accuracy: 0.6056 - bin_output_loss: 1.1167 - corridor_output_accuracy: 0.9819 - corridor_output_loss: 0.0304 - loss: 1.1445 \n",
      "Epoch 180/200\n",
      "\u001b[1m11/11\u001b[0m \u001b[32m━━━━━━━━━━━━━━━━━━━━\u001b[0m\u001b[37m\u001b[0m \u001b[1m0s\u001b[0m 4ms/step - bin_output_accuracy: 0.5948 - bin_output_loss: 1.1093 - corridor_output_accuracy: 0.9880 - corridor_output_loss: 0.0348 - loss: 1.1456 \n",
      "Epoch 181/200\n",
      "\u001b[1m11/11\u001b[0m \u001b[32m━━━━━━━━━━━━━━━━━━━━\u001b[0m\u001b[37m\u001b[0m \u001b[1m0s\u001b[0m 4ms/step - bin_output_accuracy: 0.6151 - bin_output_loss: 1.1010 - corridor_output_accuracy: 0.9946 - corridor_output_loss: 0.0197 - loss: 1.1217 \n",
      "Epoch 182/200\n",
      "\u001b[1m11/11\u001b[0m \u001b[32m━━━━━━━━━━━━━━━━━━━━\u001b[0m\u001b[37m\u001b[0m \u001b[1m0s\u001b[0m 4ms/step - bin_output_accuracy: 0.6077 - bin_output_loss: 1.0904 - corridor_output_accuracy: 0.9973 - corridor_output_loss: 0.0245 - loss: 1.1148 \n",
      "Epoch 183/200\n",
      "\u001b[1m11/11\u001b[0m \u001b[32m━━━━━━━━━━━━━━━━━━━━\u001b[0m\u001b[37m\u001b[0m \u001b[1m0s\u001b[0m 4ms/step - bin_output_accuracy: 0.6096 - bin_output_loss: 1.1019 - corridor_output_accuracy: 0.9803 - corridor_output_loss: 0.0501 - loss: 1.1495 \n",
      "Epoch 184/200\n",
      "\u001b[1m11/11\u001b[0m \u001b[32m━━━━━━━━━━━━━━━━━━━━\u001b[0m\u001b[37m\u001b[0m \u001b[1m0s\u001b[0m 4ms/step - bin_output_accuracy: 0.6241 - bin_output_loss: 1.0765 - corridor_output_accuracy: 0.9746 - corridor_output_loss: 0.0460 - loss: 1.1224 \n",
      "Epoch 185/200\n",
      "\u001b[1m11/11\u001b[0m \u001b[32m━━━━━━━━━━━━━━━━━━━━\u001b[0m\u001b[37m\u001b[0m \u001b[1m0s\u001b[0m 4ms/step - bin_output_accuracy: 0.6293 - bin_output_loss: 1.0894 - corridor_output_accuracy: 0.9881 - corridor_output_loss: 0.0394 - loss: 1.1292 \n",
      "Epoch 186/200\n",
      "\u001b[1m11/11\u001b[0m \u001b[32m━━━━━━━━━━━━━━━━━━━━\u001b[0m\u001b[37m\u001b[0m \u001b[1m0s\u001b[0m 4ms/step - bin_output_accuracy: 0.5971 - bin_output_loss: 1.0924 - corridor_output_accuracy: 0.9933 - corridor_output_loss: 0.0323 - loss: 1.1273 \n",
      "Epoch 187/200\n",
      "\u001b[1m11/11\u001b[0m \u001b[32m━━━━━━━━━━━━━━━━━━━━\u001b[0m\u001b[37m\u001b[0m \u001b[1m0s\u001b[0m 4ms/step - bin_output_accuracy: 0.6293 - bin_output_loss: 1.0487 - corridor_output_accuracy: 0.9948 - corridor_output_loss: 0.0215 - loss: 1.0700 \n",
      "Epoch 188/200\n",
      "\u001b[1m11/11\u001b[0m \u001b[32m━━━━━━━━━━━━━━━━━━━━\u001b[0m\u001b[37m\u001b[0m \u001b[1m0s\u001b[0m 4ms/step - bin_output_accuracy: 0.6072 - bin_output_loss: 1.0693 - corridor_output_accuracy: 0.9930 - corridor_output_loss: 0.0263 - loss: 1.0965 \n",
      "Epoch 189/200\n",
      "\u001b[1m11/11\u001b[0m \u001b[32m━━━━━━━━━━━━━━━━━━━━\u001b[0m\u001b[37m\u001b[0m \u001b[1m0s\u001b[0m 4ms/step - bin_output_accuracy: 0.6318 - bin_output_loss: 1.0594 - corridor_output_accuracy: 0.9837 - corridor_output_loss: 0.0387 - loss: 1.0993 \n",
      "Epoch 190/200\n",
      "\u001b[1m11/11\u001b[0m \u001b[32m━━━━━━━━━━━━━━━━━━━━\u001b[0m\u001b[37m\u001b[0m \u001b[1m0s\u001b[0m 4ms/step - bin_output_accuracy: 0.6277 - bin_output_loss: 1.0784 - corridor_output_accuracy: 0.9897 - corridor_output_loss: 0.0285 - loss: 1.1087 \n",
      "Epoch 191/200\n",
      "\u001b[1m11/11\u001b[0m \u001b[32m━━━━━━━━━━━━━━━━━━━━\u001b[0m\u001b[37m\u001b[0m \u001b[1m0s\u001b[0m 3ms/step - bin_output_accuracy: 0.5862 - bin_output_loss: 1.0735 - corridor_output_accuracy: 0.9753 - corridor_output_loss: 0.0553 - loss: 1.1310 \n",
      "Epoch 192/200\n",
      "\u001b[1m11/11\u001b[0m \u001b[32m━━━━━━━━━━━━━━━━━━━━\u001b[0m\u001b[37m\u001b[0m \u001b[1m0s\u001b[0m 3ms/step - bin_output_accuracy: 0.6187 - bin_output_loss: 1.0578 - corridor_output_accuracy: 0.9924 - corridor_output_loss: 0.0302 - loss: 1.0899 \n",
      "Epoch 193/200\n",
      "\u001b[1m11/11\u001b[0m \u001b[32m━━━━━━━━━━━━━━━━━━━━\u001b[0m\u001b[37m\u001b[0m \u001b[1m0s\u001b[0m 3ms/step - bin_output_accuracy: 0.6029 - bin_output_loss: 1.0675 - corridor_output_accuracy: 0.9938 - corridor_output_loss: 0.0213 - loss: 1.0880 \n",
      "Epoch 194/200\n",
      "\u001b[1m11/11\u001b[0m \u001b[32m━━━━━━━━━━━━━━━━━━━━\u001b[0m\u001b[37m\u001b[0m \u001b[1m0s\u001b[0m 4ms/step - bin_output_accuracy: 0.6058 - bin_output_loss: 1.0846 - corridor_output_accuracy: 0.9817 - corridor_output_loss: 0.0414 - loss: 1.1270 \n",
      "Epoch 195/200\n",
      "\u001b[1m11/11\u001b[0m \u001b[32m━━━━━━━━━━━━━━━━━━━━\u001b[0m\u001b[37m\u001b[0m \u001b[1m0s\u001b[0m 3ms/step - bin_output_accuracy: 0.6192 - bin_output_loss: 1.0576 - corridor_output_accuracy: 0.9664 - corridor_output_loss: 0.0584 - loss: 1.1170 \n",
      "Epoch 196/200\n",
      "\u001b[1m11/11\u001b[0m \u001b[32m━━━━━━━━━━━━━━━━━━━━\u001b[0m\u001b[37m\u001b[0m \u001b[1m0s\u001b[0m 4ms/step - bin_output_accuracy: 0.6336 - bin_output_loss: 1.0134 - corridor_output_accuracy: 0.9904 - corridor_output_loss: 0.0279 - loss: 1.0408 \n",
      "Epoch 197/200\n",
      "\u001b[1m11/11\u001b[0m \u001b[32m━━━━━━━━━━━━━━━━━━━━\u001b[0m\u001b[37m\u001b[0m \u001b[1m0s\u001b[0m 4ms/step - bin_output_accuracy: 0.6262 - bin_output_loss: 1.0358 - corridor_output_accuracy: 0.9912 - corridor_output_loss: 0.0252 - loss: 1.0597 \n",
      "Epoch 198/200\n",
      "\u001b[1m11/11\u001b[0m \u001b[32m━━━━━━━━━━━━━━━━━━━━\u001b[0m\u001b[37m\u001b[0m \u001b[1m0s\u001b[0m 3ms/step - bin_output_accuracy: 0.6188 - bin_output_loss: 1.0659 - corridor_output_accuracy: 0.9814 - corridor_output_loss: 0.0422 - loss: 1.1118 \n",
      "Epoch 199/200\n",
      "\u001b[1m11/11\u001b[0m \u001b[32m━━━━━━━━━━━━━━━━━━━━\u001b[0m\u001b[37m\u001b[0m \u001b[1m0s\u001b[0m 3ms/step - bin_output_accuracy: 0.6516 - bin_output_loss: 1.0128 - corridor_output_accuracy: 0.9876 - corridor_output_loss: 0.0336 - loss: 1.0455 \n",
      "Epoch 200/200\n",
      "\u001b[1m11/11\u001b[0m \u001b[32m━━━━━━━━━━━━━━━━━━━━\u001b[0m\u001b[37m\u001b[0m \u001b[1m0s\u001b[0m 4ms/step - bin_output_accuracy: 0.6344 - bin_output_loss: 1.0356 - corridor_output_accuracy: 0.9975 - corridor_output_loss: 0.0200 - loss: 1.0544 \n"
     ]
    },
    {
     "data": {
      "text/plain": [
       "<keras.src.callbacks.history.History at 0x20776c02540>"
      ]
     },
     "execution_count": 5,
     "metadata": {},
     "output_type": "execute_result"
    }
   ],
   "source": [
    "def build_keras_model(input_size, n_bins, n_corridors):\n",
    "    inputs = tf.keras.Input(shape=(input_size,))\n",
    "    \n",
    "    # Shared layers\n",
    "    x = layers.Dense(128, activation=\"relu\")(inputs) # 128\n",
    "    x = layers.Dense(64, activation=\"relu\")(x) # 64\n",
    "    \n",
    "\n",
    "    # Two separate outputs\n",
    "    bin_output = layers.Dense(n_bins, activation=\"softmax\", name=\"bin_output\")(x)\n",
    "    corridor_output = layers.Dense(n_corridors, activation=\"softmax\", name=\"corridor_output\")(x)\n",
    "\n",
    "    model = models.Model(inputs=inputs, outputs=[bin_output, corridor_output])\n",
    "    \n",
    "    model.compile(optimizer=\"adam\",\n",
    "                  loss={\"bin_output\": \"sparse_categorical_crossentropy\",\n",
    "                        \"corridor_output\": \"sparse_categorical_crossentropy\"},\n",
    "                  metrics={\"bin_output\": [\"accuracy\"],\n",
    "                           \"corridor_output\": [\"accuracy\"]})  # Fix: Separate metrics\n",
    "    \n",
    "    return model\n",
    "\n",
    "# Build and train the model\n",
    "keras_model = build_keras_model(input_size=X.shape[1], n_bins=30, n_corridors=2)\n",
    "keras_model.fit(X_train, {\"bin_output\": y_bins_train, \"corridor_output\": y_corridors_train}, epochs=200, batch_size=64)"
   ]
  },
  {
   "cell_type": "code",
   "execution_count": 58,
   "id": "96753844",
   "metadata": {},
   "outputs": [
    {
     "name": "stdout",
     "output_type": "stream",
     "text": [
      "\u001b[1m2/2\u001b[0m \u001b[32m━━━━━━━━━━━━━━━━━━━━\u001b[0m\u001b[37m\u001b[0m \u001b[1m0s\u001b[0m 61ms/step\n"
     ]
    }
   ],
   "source": [
    "# Get model predictions on the test set\n",
    "y_pred_bins, y_pred_corridors = keras_model.predict(X_test)\n",
    "\n",
    "# Convert probabilities to class labels\n",
    "y_pred_bins = np.argmax(y_pred_bins, axis=1)  # Get the highest probability bin\n",
    "y_pred_corridors = np.argmax(y_pred_corridors, axis=1)  # Get highest probability corridor\n"
   ]
  },
  {
   "cell_type": "code",
   "execution_count": 59,
   "id": "ce7ad3be",
   "metadata": {},
   "outputs": [
    {
     "name": "stdout",
     "output_type": "stream",
     "text": [
      "Bin Classification Accuracy: 0.4082\n",
      "Corridor Classification Accuracy: 0.8980\n"
     ]
    }
   ],
   "source": [
    "# Compute accuracy\n",
    "bin_accuracy = accuracy_score(y_bins_test, y_pred_bins)\n",
    "corridor_accuracy = accuracy_score(y_corridors_test, y_pred_corridors)\n",
    "\n",
    "print(f\"Bin Classification Accuracy: {bin_accuracy:.4f}\")\n",
    "print(f\"Corridor Classification Accuracy: {corridor_accuracy:.4f}\")\n"
   ]
  },
  {
   "cell_type": "code",
   "execution_count": 60,
   "id": "85743b57",
   "metadata": {},
   "outputs": [
    {
     "data": {
      "image/png": "[encoded data removed]",
      "text/plain": [
       "<Figure size 800x600 with 2 Axes>"
      ]
     },
     "metadata": {},
     "output_type": "display_data"
    },
    {
     "data": {
      "image/png": "[encoded data removed]",
      "text/plain": [
       "<Figure size 600x500 with 2 Axes>"
      ]
     },
     "metadata": {},
     "output_type": "display_data"
    }
   ],
   "source": [
    "# Bin classification confusion matrix\n",
    "conf_matrix_bins = confusion_matrix(y_bins_test, y_pred_bins)\n",
    "plt.figure(figsize=(8, 6))\n",
    "sns.heatmap(conf_matrix_bins, annot=True, fmt=\"d\", cmap=\"Blues\", xticklabels=np.unique(y_bins_test), yticklabels=np.unique(y_bins_test))\n",
    "plt.xlabel(\"Predicted Bin\")\n",
    "plt.ylabel(\"True Bin\")\n",
    "plt.title(\"Confusion Matrix - Bin Classification\")\n",
    "plt.show()\n",
    "\n",
    "# Corridor classification confusion matrix\n",
    "conf_matrix_corridors = confusion_matrix(y_corridors_test, y_pred_corridors)\n",
    "plt.figure(figsize=(6, 5))\n",
    "sns.heatmap(conf_matrix_corridors, annot=True, fmt=\"d\", cmap=\"Oranges\", xticklabels=[0, 1], yticklabels=[0, 1])\n",
    "plt.xlabel(\"Predicted Corridor\")\n",
    "plt.ylabel(\"True Corridor\")\n",
    "plt.title(\"Confusion Matrix - Corridor Classification\")\n",
    "plt.show()"
   ]
  },
  {
   "cell_type": "code",
   "execution_count": 61,
   "id": "c4e97e03",
   "metadata": {},
   "outputs": [
    {
     "name": "stdout",
     "output_type": "stream",
     "text": [
      "Classification Report - Bin Classification:\n",
      "              precision    recall  f1-score   support\n",
      "\n",
      "           0       0.50      1.00      0.67         4\n",
      "           1       0.00      0.00      0.00         4\n",
      "           2       0.00      0.00      0.00         3\n",
      "           3       0.00      0.00      0.00         3\n",
      "           4       1.00      0.33      0.50         3\n",
      "           5       1.00      1.00      1.00         3\n",
      "           6       0.67      1.00      0.80         2\n",
      "           7       1.00      0.50      0.67         2\n",
      "           8       1.00      0.67      0.80         3\n",
      "           9       0.00      0.00      0.00         2\n",
      "          10       0.25      0.50      0.33         2\n",
      "          11       0.00      0.00      0.00         2\n",
      "          12       0.29      1.00      0.44         2\n",
      "          13       0.00      0.00      0.00         2\n",
      "          14       0.33      0.50      0.40         2\n",
      "          15       0.00      0.00      0.00         2\n",
      "          16       0.50      0.50      0.50         2\n",
      "          17       0.00      0.00      0.00         2\n",
      "          18       0.00      0.00      0.00         2\n",
      "          19       1.00      1.00      1.00         2\n",
      "\n",
      "    accuracy                           0.41        49\n",
      "   macro avg       0.38      0.40      0.36        49\n",
      "weighted avg       0.39      0.41      0.36        49\n",
      "\n",
      "Classification Report - Corridor Classification:\n",
      "              precision    recall  f1-score   support\n",
      "\n",
      "           0       0.87      0.96      0.92        28\n",
      "           1       0.94      0.81      0.87        21\n",
      "\n",
      "    accuracy                           0.90        49\n",
      "   macro avg       0.91      0.89      0.89        49\n",
      "weighted avg       0.90      0.90      0.90        49\n",
      "\n"
     ]
    },
    {
     "name": "stderr",
     "output_type": "stream",
     "text": [
      "C:\\Users\\anneluka\\.conda\\envs\\NeuronVisionVenv\\Lib\\site-packages\\sklearn\\metrics\\_classification.py:1531: UndefinedMetricWarning: Precision is ill-defined and being set to 0.0 in labels with no predicted samples. Use `zero_division` parameter to control this behavior.\n",
      "  _warn_prf(average, modifier, f\"{metric.capitalize()} is\", len(result))\n",
      "C:\\Users\\anneluka\\.conda\\envs\\NeuronVisionVenv\\Lib\\site-packages\\sklearn\\metrics\\_classification.py:1531: UndefinedMetricWarning: Precision is ill-defined and being set to 0.0 in labels with no predicted samples. Use `zero_division` parameter to control this behavior.\n",
      "  _warn_prf(average, modifier, f\"{metric.capitalize()} is\", len(result))\n",
      "C:\\Users\\anneluka\\.conda\\envs\\NeuronVisionVenv\\Lib\\site-packages\\sklearn\\metrics\\_classification.py:1531: UndefinedMetricWarning: Precision is ill-defined and being set to 0.0 in labels with no predicted samples. Use `zero_division` parameter to control this behavior.\n",
      "  _warn_prf(average, modifier, f\"{metric.capitalize()} is\", len(result))\n"
     ]
    }
   ],
   "source": [
    "# Print classification reports\n",
    "print(\"Classification Report - Bin Classification:\")\n",
    "print(classification_report(y_bins_test, y_pred_bins))\n",
    "\n",
    "print(\"Classification Report - Corridor Classification:\")\n",
    "print(classification_report(y_corridors_test, y_pred_corridors))"
   ]
  },
  {
   "cell_type": "code",
   "execution_count": 62,
   "id": "7cdc145f",
   "metadata": {},
   "outputs": [
    {
     "name": "stdout",
     "output_type": "stream",
     "text": [
      "Proximity-Weighted Accuracy: 0.7415\n"
     ]
    }
   ],
   "source": [
    "def proximity_weighted_accuracy(y_true, y_pred, max_distance=2):\n",
    "    \"\"\"\n",
    "    Compute accuracy where predictions closer to the true bin get partial credit.\n",
    "\n",
    "    Parameters:\n",
    "        y_true (array-like): True bin labels.\n",
    "        y_pred (array-like): Predicted bin labels.\n",
    "        max_distance (int): Maximum distance for partial credit.\n",
    "\n",
    "    Returns:\n",
    "        float: Proximity-weighted accuracy score.\n",
    "    \"\"\"\n",
    "    total_score = 0\n",
    "    for true, pred in zip(y_true, y_pred):\n",
    "        distance = abs(true - pred)\n",
    "        if distance <= max_distance:\n",
    "            total_score += 1 - (distance / (max_distance + 1))\n",
    "    \n",
    "    return total_score / len(y_true)\n",
    "\n",
    "# Evaluate proximity-weighted accuracy\n",
    "proximity_acc = proximity_weighted_accuracy(y_bins_test, y_pred_bins)\n",
    "print(f\"Proximity-Weighted Accuracy: {proximity_acc:.4f}\")"
   ]
  },
  {
   "cell_type": "markdown",
   "id": "495ca15e",
   "metadata": {},
   "source": [
    "It would be interesting to deduce how much information individual features (=neurons) contribute in the classification task. To compute these values, I combine bin and corridor in a joint score:"
   ]
  },
  {
   "cell_type": "code",
   "execution_count": 10,
   "id": "a37337dc",
   "metadata": {},
   "outputs": [],
   "source": [
    "y_combined = y_bins + y_corridors * (max(y_bins) + 1)"
   ]
  },
  {
   "cell_type": "code",
   "execution_count": 14,
   "id": "4f3edbcf",
   "metadata": {},
   "outputs": [
    {
     "name": "stdout",
     "output_type": "stream",
     "text": [
      "6\n"
     ]
    },
    {
     "data": {
      "image/png": "[encoded data removed]",
      "text/plain": [
       "<Figure size 500x500 with 1 Axes>"
      ]
     },
     "metadata": {},
     "output_type": "display_data"
    }
   ],
   "source": [
    "from sklearn.feature_selection import mutual_info_regression\n",
    "import numpy as np\n",
    "\n",
    "# Calculate Mutual Information using mutual_info_regression\n",
    "mutual_info = mutual_info_regression(X, y_combined)\n",
    "sns.displot(mutual_info)\n",
    "\n",
    "print(np.argmax(mutual_info))"
   ]
  },
  {
   "cell_type": "code",
   "execution_count": 32,
   "id": "d0d9ef15",
   "metadata": {},
   "outputs": [
    {
     "data": {
      "text/plain": [
       "0.10655737704918032"
      ]
     },
     "execution_count": 32,
     "metadata": {},
     "output_type": "execute_result"
    }
   ],
   "source": [
    "mutual_info[318]\n",
    "\n",
    "np.sum(mutual_info>0.23)/len(mutual_info)"
   ]
  },
  {
   "cell_type": "markdown",
   "id": "b42380ff",
   "metadata": {},
   "source": [
    "Another aspect to look at is the _information gain_ we receive when we include any given feature in the classification task. "
   ]
  },
  {
   "cell_type": "code",
   "execution_count": 22,
   "id": "0458046d",
   "metadata": {},
   "outputs": [
    {
     "data": {
      "text/plain": [
       "<seaborn.axisgrid.FacetGrid at 0x2071e44bec0>"
      ]
     },
     "execution_count": 22,
     "metadata": {},
     "output_type": "execute_result"
    },
    {
     "data": {
      "image/png": "[encoded data removed]",
      "text/plain": [
       "<Figure size 500x500 with 1 Axes>"
      ]
     },
     "metadata": {},
     "output_type": "display_data"
    }
   ],
   "source": [
    "\n",
    "# Calculate Information Gain using mutual_info_classif\n",
    "info_gain = mutual_info_classif(X, y_combined)\n",
    "sns.displot(info_gain)"
   ]
  },
  {
   "cell_type": "code",
   "execution_count": 30,
   "id": "50fcc2f1",
   "metadata": {},
   "outputs": [
    {
     "data": {
      "text/plain": [
       "0.10382513661202186"
      ]
     },
     "execution_count": 30,
     "metadata": {},
     "output_type": "execute_result"
    }
   ],
   "source": [
    "np.sum(info_gain>0.2)/len(info_gain)"
   ]
  },
  {
   "cell_type": "markdown",
   "id": "680dafe6",
   "metadata": {},
   "source": [
    "## Direct Basis Decoder\n",
    "\n",
    "The ANN above is not the gold standard for position decoding in the spatial navigation field. For example, in the [Yang et al. paper from 2024](https://www.nature.com/articles/s41586-024-07867-2), the authors used a direct basis decoder as described below (quoted from their M&M section):\n",
    "\n",
    "\"*The direct basis decoder is a linear decoder with no free parameters that predicts the animal’s position at each individual time point by a linear combination of the spatial activity maps, weighted with the activity of the corresponding place-encoding cell. All decoding and map construction was performed only at those timepoints at which the fish was moving (fish speed greater than $0.1 mm*s^{−1}$). Even though no parameters had to be learned, it is still necessary to compute the spatial activity map of each cell. To avoid circularity between computing the spatial activity map and testing the decoder we used a cross-validation scheme in which the neural data were divided into non-overlapping 1 min chunks. To test the decoder on each 1 min chunk we first computed the spatial activity map without including the test chunk or its two neighbouring chunks. The predictions of all 1 min chunks were concatenated as the prediction of the whole dataset. Decoder error was then computed as the mean distance between the predicted and actual position of the fish across the dataset. Spatial activity maps were constructed as described above using spatial bins (side length 1.2 mm) and boundary-constrained Gaussian smoothing. Apart from the analysis shown in Extended Data Fig. 5c, the activity used in this map construction is time shifted by 2 s relative to the location of the fish, to counteract potential calcium lag dynam-ics. All maps were standardized by mean and standard deviation. To prepare the decoder, a 7.5 s boxcar average filter was applied to the activity and then maps of the most active 30% of cells were weighted by their respective activity and summed to form the decoder map.*\"\n",
    "\n",
    "This method was originally introduced by [Zhang et al., 1998](https://journals.physiology.org/doi/full/10.1152/jn.1998.79.2.1017). \n",
    "\n",
    "According to their description, basis function methods rely on the linear combination of basis functions (or fixed templates), with the coefficients in the linear combination being proportional to the activity of the neuron at the time point in question. \n",
    "\n",
    "$$\n",
    "\\displaystyle\\sum_{i} n_{i} * \\phi_{i}(x)\n",
    "$$\n",
    "is the distribution over physical space, indexed by x. The peak value of this distribution is taken as the reconstructed position \n",
    "$$\n",
    "\\hat{x} = \\arg\\max_{x} \\sum_{i} n_{i} * \\phi_{i}(x)\n",
    "$$\n",
    "\n",
    "To create the fixed templates, the above defined functions will be used:\n",
    "- binning()\n",
    "- avg_activity()\n",
    "\n",
    "\n",
    "Additionally, \n",
    "- add regression\n",
    "- create sliding window function to cross-validate"
   ]
  },
  {
   "cell_type": "code",
   "execution_count": 40,
   "id": "935c9668",
   "metadata": {},
   "outputs": [
    {
     "ename": "ValueError",
     "evalue": "Unable to coerce to DataFrame, shape must be (31, 2): given (2, 31)",
     "output_type": "error",
     "traceback": [
      "\u001b[1;31m---------------------------------------------------------------------------\u001b[0m",
      "\u001b[1;31mValueError\u001b[0m                                Traceback (most recent call last)",
      "\u001b[1;32m~\\AppData\\Local\\Temp\\ipykernel_12636\\2122706144.py\u001b[0m in \u001b[0;36m?\u001b[1;34m()\u001b[0m\n\u001b[0;32m      2\u001b[0m \u001b[0mdff\u001b[0m\u001b[1;33m,\u001b[0m \u001b[0mbh\u001b[0m \u001b[1;33m=\u001b[0m \u001b[0mload_data\u001b[0m\u001b[1;33m(\u001b[0m\u001b[0mPath\u001b[0m\u001b[1;33m(\u001b[0m\u001b[1;34m'W:\\\\scratch\\\\gfriedri\\\\anneluka\\\\Experiments\\\\VirtualReality\\\\data\\\\processed_datasets\\\\20240903_Dc_1\\\\'\u001b[0m\u001b[1;33m)\u001b[0m\u001b[1;33m)\u001b[0m\u001b[1;33m\u001b[0m\u001b[1;33m\u001b[0m\u001b[0m\n\u001b[0;32m      3\u001b[0m \u001b[0mbh\u001b[0m \u001b[1;33m=\u001b[0m \u001b[0mremove_interpolated_values\u001b[0m\u001b[1;33m(\u001b[0m\u001b[0mbh\u001b[0m\u001b[1;33m,\u001b[0m \u001b[0mn_corr\u001b[0m\u001b[1;33m=\u001b[0m\u001b[1;36m2\u001b[0m\u001b[1;33m)\u001b[0m\u001b[1;33m\u001b[0m\u001b[1;33m\u001b[0m\u001b[0m\n\u001b[0;32m      4\u001b[0m \u001b[0mbh\u001b[0m \u001b[1;33m=\u001b[0m \u001b[0madd_trial_column\u001b[0m\u001b[1;33m(\u001b[0m\u001b[0mbh\u001b[0m\u001b[1;33m)\u001b[0m\u001b[1;33m\u001b[0m\u001b[1;33m\u001b[0m\u001b[0m\n\u001b[0;32m      5\u001b[0m \u001b[0mtime_per_bin\u001b[0m\u001b[1;33m,\u001b[0m \u001b[0msummed_traces\u001b[0m\u001b[1;33m,\u001b[0m \u001b[0m_\u001b[0m \u001b[1;33m=\u001b[0m \u001b[0mbinning\u001b[0m\u001b[1;33m(\u001b[0m\u001b[0mdff\u001b[0m\u001b[1;33m,\u001b[0m \u001b[0mbh\u001b[0m\u001b[1;33m,\u001b[0m \u001b[0mn_bins\u001b[0m\u001b[1;33m=\u001b[0m\u001b[1;36m30\u001b[0m\u001b[1;33m)\u001b[0m\u001b[1;33m\u001b[0m\u001b[1;33m\u001b[0m\u001b[0m\n\u001b[1;32m----> 6\u001b[1;33m \u001b[0mavg_act_mtx\u001b[0m \u001b[1;33m=\u001b[0m \u001b[0mavg_activity\u001b[0m\u001b[1;33m(\u001b[0m\u001b[0mtime_per_bin\u001b[0m\u001b[1;33m,\u001b[0m \u001b[0msummed_traces\u001b[0m\u001b[1;33m)\u001b[0m\u001b[1;33m\u001b[0m\u001b[1;33m\u001b[0m\u001b[0m\n\u001b[0m",
      "\u001b[1;32m~\\AppData\\Local\\Temp\\ipykernel_12636\\2686668627.py\u001b[0m in \u001b[0;36m?\u001b[1;34m(time_per_bin, summed_traces)\u001b[0m\n\u001b[0;32m     92\u001b[0m     \u001b[1;32mfor\u001b[0m \u001b[0mneuron\u001b[0m \u001b[1;32min\u001b[0m \u001b[0msummed_traces\u001b[0m\u001b[1;33m.\u001b[0m\u001b[0mcolumns\u001b[0m\u001b[1;33m.\u001b[0m\u001b[0mget_level_values\u001b[0m\u001b[1;33m(\u001b[0m\u001b[1;34m\"Neuron\"\u001b[0m\u001b[1;33m)\u001b[0m\u001b[1;33m.\u001b[0m\u001b[0munique\u001b[0m\u001b[1;33m(\u001b[0m\u001b[1;33m)\u001b[0m\u001b[1;33m:\u001b[0m\u001b[1;33m\u001b[0m\u001b[1;33m\u001b[0m\u001b[0m\n\u001b[0;32m     93\u001b[0m         \u001b[0mtrace\u001b[0m \u001b[1;33m=\u001b[0m \u001b[0msummed_traces\u001b[0m\u001b[1;33m[\u001b[0m\u001b[0mneuron\u001b[0m\u001b[1;33m]\u001b[0m\u001b[1;33m.\u001b[0m\u001b[0mapply\u001b[0m\u001b[1;33m(\u001b[0m\u001b[0mpd\u001b[0m\u001b[1;33m.\u001b[0m\u001b[0mto_numeric\u001b[0m\u001b[1;33m)\u001b[0m\u001b[1;33m\u001b[0m\u001b[1;33m\u001b[0m\u001b[0m\n\u001b[0;32m     94\u001b[0m         \u001b[1;31m# Apply the division by the time occupancy for each neuron and assign to the new DataFrame\u001b[0m\u001b[1;33m\u001b[0m\u001b[1;33m\u001b[0m\u001b[0m\n\u001b[0;32m     95\u001b[0m         avg_activity_mtx[neuron] = (\n\u001b[1;32m---> 96\u001b[1;33m             \u001b[0mtrace\u001b[0m\u001b[1;33m.\u001b[0m\u001b[0mdiv\u001b[0m\u001b[1;33m(\u001b[0m\u001b[0mtime_per_bin\u001b[0m\u001b[1;33m.\u001b[0m\u001b[0mvalues\u001b[0m\u001b[1;33m,\u001b[0m \u001b[0maxis\u001b[0m\u001b[1;33m=\u001b[0m\u001b[1;36m0\u001b[0m\u001b[1;33m)\u001b[0m\u001b[1;33m\u001b[0m\u001b[1;33m\u001b[0m\u001b[0m\n\u001b[0m\u001b[0;32m     97\u001b[0m         \u001b[1;33m)\u001b[0m\u001b[1;33m\u001b[0m\u001b[1;33m\u001b[0m\u001b[0m\n\u001b[0;32m     98\u001b[0m \u001b[1;33m\u001b[0m\u001b[0m\n\u001b[0;32m     99\u001b[0m     \u001b[1;32mreturn\u001b[0m \u001b[0mavg_activity_mtx\u001b[0m\u001b[1;33m\u001b[0m\u001b[1;33m\u001b[0m\u001b[0m\n",
      "\u001b[1;32m~\\.conda\\envs\\NeuronVisionVenv\\Lib\\site-packages\\pandas\\core\\frame.py\u001b[0m in \u001b[0;36m?\u001b[1;34m(self, other, axis, level, fill_value)\u001b[0m\n\u001b[0;32m   8397\u001b[0m     \u001b[1;33m@\u001b[0m\u001b[0mAppender\u001b[0m\u001b[1;33m(\u001b[0m\u001b[0mops\u001b[0m\u001b[1;33m.\u001b[0m\u001b[0mmake_flex_doc\u001b[0m\u001b[1;33m(\u001b[0m\u001b[1;34m\"truediv\"\u001b[0m\u001b[1;33m,\u001b[0m \u001b[1;34m\"dataframe\"\u001b[0m\u001b[1;33m)\u001b[0m\u001b[1;33m)\u001b[0m\u001b[1;33m\u001b[0m\u001b[1;33m\u001b[0m\u001b[0m\n\u001b[0;32m   8398\u001b[0m     def truediv(\n\u001b[0;32m   8399\u001b[0m         \u001b[0mself\u001b[0m\u001b[1;33m,\u001b[0m \u001b[0mother\u001b[0m\u001b[1;33m,\u001b[0m \u001b[0maxis\u001b[0m\u001b[1;33m:\u001b[0m \u001b[0mAxis\u001b[0m \u001b[1;33m=\u001b[0m \u001b[1;34m\"columns\"\u001b[0m\u001b[1;33m,\u001b[0m \u001b[0mlevel\u001b[0m\u001b[1;33m=\u001b[0m\u001b[1;32mNone\u001b[0m\u001b[1;33m,\u001b[0m \u001b[0mfill_value\u001b[0m\u001b[1;33m=\u001b[0m\u001b[1;32mNone\u001b[0m\u001b[1;33m\u001b[0m\u001b[1;33m\u001b[0m\u001b[0m\n\u001b[0;32m   8400\u001b[0m     \u001b[1;33m)\u001b[0m \u001b[1;33m->\u001b[0m \u001b[0mDataFrame\u001b[0m\u001b[1;33m:\u001b[0m\u001b[1;33m\u001b[0m\u001b[1;33m\u001b[0m\u001b[0m\n\u001b[1;32m-> 8401\u001b[1;33m         return self._flex_arith_method(\n\u001b[0m\u001b[0;32m   8402\u001b[0m             \u001b[0mother\u001b[0m\u001b[1;33m,\u001b[0m \u001b[0moperator\u001b[0m\u001b[1;33m.\u001b[0m\u001b[0mtruediv\u001b[0m\u001b[1;33m,\u001b[0m \u001b[0mlevel\u001b[0m\u001b[1;33m=\u001b[0m\u001b[0mlevel\u001b[0m\u001b[1;33m,\u001b[0m \u001b[0mfill_value\u001b[0m\u001b[1;33m=\u001b[0m\u001b[0mfill_value\u001b[0m\u001b[1;33m,\u001b[0m \u001b[0maxis\u001b[0m\u001b[1;33m=\u001b[0m\u001b[0maxis\u001b[0m\u001b[1;33m\u001b[0m\u001b[1;33m\u001b[0m\u001b[0m\n\u001b[0;32m   8403\u001b[0m         \u001b[1;33m)\u001b[0m\u001b[1;33m\u001b[0m\u001b[1;33m\u001b[0m\u001b[0m\n",
      "\u001b[1;32m~\\.conda\\envs\\NeuronVisionVenv\\Lib\\site-packages\\pandas\\core\\frame.py\u001b[0m in \u001b[0;36m?\u001b[1;34m(self, other, op, axis, level, fill_value)\u001b[0m\n\u001b[0;32m   8260\u001b[0m             \u001b[1;31m#  through the DataFrame path\u001b[0m\u001b[1;33m\u001b[0m\u001b[1;33m\u001b[0m\u001b[0m\n\u001b[0;32m   8261\u001b[0m             \u001b[1;32mraise\u001b[0m \u001b[0mNotImplementedError\u001b[0m\u001b[1;33m(\u001b[0m\u001b[1;33mf\"\u001b[0m\u001b[1;33mfill_value \u001b[0m\u001b[1;33m{\u001b[0m\u001b[0mfill_value\u001b[0m\u001b[1;33m}\u001b[0m\u001b[1;33m not supported.\u001b[0m\u001b[1;33m\"\u001b[0m\u001b[1;33m)\u001b[0m\u001b[1;33m\u001b[0m\u001b[1;33m\u001b[0m\u001b[0m\n\u001b[0;32m   8262\u001b[0m \u001b[1;33m\u001b[0m\u001b[0m\n\u001b[0;32m   8263\u001b[0m         \u001b[0mother\u001b[0m \u001b[1;33m=\u001b[0m \u001b[0mops\u001b[0m\u001b[1;33m.\u001b[0m\u001b[0mmaybe_prepare_scalar_for_op\u001b[0m\u001b[1;33m(\u001b[0m\u001b[0mother\u001b[0m\u001b[1;33m,\u001b[0m \u001b[0mself\u001b[0m\u001b[1;33m.\u001b[0m\u001b[0mshape\u001b[0m\u001b[1;33m)\u001b[0m\u001b[1;33m\u001b[0m\u001b[1;33m\u001b[0m\u001b[0m\n\u001b[1;32m-> 8264\u001b[1;33m         \u001b[0mself\u001b[0m\u001b[1;33m,\u001b[0m \u001b[0mother\u001b[0m \u001b[1;33m=\u001b[0m \u001b[0mself\u001b[0m\u001b[1;33m.\u001b[0m\u001b[0m_align_for_op\u001b[0m\u001b[1;33m(\u001b[0m\u001b[0mother\u001b[0m\u001b[1;33m,\u001b[0m \u001b[0maxis\u001b[0m\u001b[1;33m,\u001b[0m \u001b[0mflex\u001b[0m\u001b[1;33m=\u001b[0m\u001b[1;32mTrue\u001b[0m\u001b[1;33m,\u001b[0m \u001b[0mlevel\u001b[0m\u001b[1;33m=\u001b[0m\u001b[0mlevel\u001b[0m\u001b[1;33m)\u001b[0m\u001b[1;33m\u001b[0m\u001b[1;33m\u001b[0m\u001b[0m\n\u001b[0m\u001b[0;32m   8265\u001b[0m \u001b[1;33m\u001b[0m\u001b[0m\n\u001b[0;32m   8266\u001b[0m         \u001b[1;32mwith\u001b[0m \u001b[0mnp\u001b[0m\u001b[1;33m.\u001b[0m\u001b[0merrstate\u001b[0m\u001b[1;33m(\u001b[0m\u001b[0mall\u001b[0m\u001b[1;33m=\u001b[0m\u001b[1;34m\"ignore\"\u001b[0m\u001b[1;33m)\u001b[0m\u001b[1;33m:\u001b[0m\u001b[1;33m\u001b[0m\u001b[1;33m\u001b[0m\u001b[0m\n\u001b[0;32m   8267\u001b[0m             \u001b[1;32mif\u001b[0m \u001b[0misinstance\u001b[0m\u001b[1;33m(\u001b[0m\u001b[0mother\u001b[0m\u001b[1;33m,\u001b[0m \u001b[0mDataFrame\u001b[0m\u001b[1;33m)\u001b[0m\u001b[1;33m:\u001b[0m\u001b[1;33m\u001b[0m\u001b[1;33m\u001b[0m\u001b[0m\n",
      "\u001b[1;32m~\\.conda\\envs\\NeuronVisionVenv\\Lib\\site-packages\\pandas\\core\\frame.py\u001b[0m in \u001b[0;36m?\u001b[1;34m(self, other, axis, flex, level)\u001b[0m\n\u001b[0;32m   8165\u001b[0m                     \u001b[1;31m# Broadcast along rows\u001b[0m\u001b[1;33m\u001b[0m\u001b[1;33m\u001b[0m\u001b[0m\n\u001b[0;32m   8166\u001b[0m                     \u001b[0mright\u001b[0m \u001b[1;33m=\u001b[0m \u001b[0mto_series\u001b[0m\u001b[1;33m(\u001b[0m\u001b[0mright\u001b[0m\u001b[1;33m[\u001b[0m\u001b[1;36m0\u001b[0m\u001b[1;33m,\u001b[0m \u001b[1;33m:\u001b[0m\u001b[1;33m]\u001b[0m\u001b[1;33m)\u001b[0m\u001b[1;33m\u001b[0m\u001b[1;33m\u001b[0m\u001b[0m\n\u001b[0;32m   8167\u001b[0m \u001b[1;33m\u001b[0m\u001b[0m\n\u001b[0;32m   8168\u001b[0m                 \u001b[1;32melse\u001b[0m\u001b[1;33m:\u001b[0m\u001b[1;33m\u001b[0m\u001b[1;33m\u001b[0m\u001b[0m\n\u001b[1;32m-> 8169\u001b[1;33m                     raise ValueError(\n\u001b[0m\u001b[0;32m   8170\u001b[0m                         \u001b[1;34m\"Unable to coerce to DataFrame, shape \"\u001b[0m\u001b[1;33m\u001b[0m\u001b[1;33m\u001b[0m\u001b[0m\n\u001b[0;32m   8171\u001b[0m                         \u001b[1;33mf\"\u001b[0m\u001b[1;33mmust be \u001b[0m\u001b[1;33m{\u001b[0m\u001b[0mleft\u001b[0m\u001b[1;33m.\u001b[0m\u001b[0mshape\u001b[0m\u001b[1;33m}\u001b[0m\u001b[1;33m: given \u001b[0m\u001b[1;33m{\u001b[0m\u001b[0mright\u001b[0m\u001b[1;33m.\u001b[0m\u001b[0mshape\u001b[0m\u001b[1;33m}\u001b[0m\u001b[1;33m\"\u001b[0m\u001b[1;33m\u001b[0m\u001b[1;33m\u001b[0m\u001b[0m\n\u001b[0;32m   8172\u001b[0m                     \u001b[1;33m)\u001b[0m\u001b[1;33m\u001b[0m\u001b[1;33m\u001b[0m\u001b[0m\n",
      "\u001b[1;31mValueError\u001b[0m: Unable to coerce to DataFrame, shape must be (31, 2): given (2, 31)"
     ]
    }
   ],
   "source": [
    "# load data, pre-process, construct activity matrices\n",
    "dff, bh = load_data(Path('W:\\\\scratch\\\\gfriedri\\\\anneluka\\\\Experiments\\\\VirtualReality\\\\data\\\\processed_datasets\\\\20240903_Dc_1\\\\'))\n",
    "bh = remove_interpolated_values(bh, n_corr=2)\n",
    "bh = add_trial_column(bh)\n",
    "time_per_bin, summed_traces, _ = binning(dff, bh, n_bins=30)\n",
    "avg_act_mtx = avg_activity(time_per_bin, summed_traces)"
   ]
  },
  {
   "cell_type": "code",
   "execution_count": 44,
   "id": "ca525db8",
   "metadata": {},
   "outputs": [
    {
     "data": {
      "text/html": [
       "<div>\n",
       "<style scoped>\n",
       "    .dataframe tbody tr th:only-of-type {\n",
       "        vertical-align: middle;\n",
       "    }\n",
       "\n",
       "    .dataframe tbody tr th {\n",
       "        vertical-align: top;\n",
       "    }\n",
       "\n",
       "    .dataframe thead th {\n",
       "        text-align: right;\n",
       "    }\n",
       "</style>\n",
       "<table border=\"1\" class=\"dataframe\">\n",
       "  <thead>\n",
       "    <tr style=\"text-align: right;\">\n",
       "      <th>X</th>\n",
       "      <th>-0.0</th>\n",
       "      <th>50.5</th>\n",
       "    </tr>\n",
       "    <tr>\n",
       "      <th>Y_bin</th>\n",
       "      <th></th>\n",
       "      <th></th>\n",
       "    </tr>\n",
       "  </thead>\n",
       "  <tbody>\n",
       "    <tr>\n",
       "      <th>0</th>\n",
       "      <td>101.133333</td>\n",
       "      <td>246.733333</td>\n",
       "    </tr>\n",
       "    <tr>\n",
       "      <th>1</th>\n",
       "      <td>18.633333</td>\n",
       "      <td>111.233333</td>\n",
       "    </tr>\n",
       "    <tr>\n",
       "      <th>2</th>\n",
       "      <td>17.500000</td>\n",
       "      <td>82.500000</td>\n",
       "    </tr>\n",
       "    <tr>\n",
       "      <th>3</th>\n",
       "      <td>16.000000</td>\n",
       "      <td>76.733333</td>\n",
       "    </tr>\n",
       "    <tr>\n",
       "      <th>4</th>\n",
       "      <td>16.066667</td>\n",
       "      <td>9.333333</td>\n",
       "    </tr>\n",
       "    <tr>\n",
       "      <th>5</th>\n",
       "      <td>9.200000</td>\n",
       "      <td>77.333333</td>\n",
       "    </tr>\n",
       "    <tr>\n",
       "      <th>6</th>\n",
       "      <td>13.600000</td>\n",
       "      <td>123.100000</td>\n",
       "    </tr>\n",
       "    <tr>\n",
       "      <th>7</th>\n",
       "      <td>6.866667</td>\n",
       "      <td>203.033333</td>\n",
       "    </tr>\n",
       "    <tr>\n",
       "      <th>8</th>\n",
       "      <td>9.466667</td>\n",
       "      <td>11.066667</td>\n",
       "    </tr>\n",
       "    <tr>\n",
       "      <th>9</th>\n",
       "      <td>12.900000</td>\n",
       "      <td>12.533333</td>\n",
       "    </tr>\n",
       "    <tr>\n",
       "      <th>10</th>\n",
       "      <td>8.833333</td>\n",
       "      <td>10.033333</td>\n",
       "    </tr>\n",
       "    <tr>\n",
       "      <th>11</th>\n",
       "      <td>8.333333</td>\n",
       "      <td>13.800000</td>\n",
       "    </tr>\n",
       "    <tr>\n",
       "      <th>12</th>\n",
       "      <td>55.666667</td>\n",
       "      <td>10.233333</td>\n",
       "    </tr>\n",
       "    <tr>\n",
       "      <th>13</th>\n",
       "      <td>50.866667</td>\n",
       "      <td>95.133333</td>\n",
       "    </tr>\n",
       "    <tr>\n",
       "      <th>14</th>\n",
       "      <td>9.766667</td>\n",
       "      <td>8.633333</td>\n",
       "    </tr>\n",
       "    <tr>\n",
       "      <th>15</th>\n",
       "      <td>33.466667</td>\n",
       "      <td>7.466667</td>\n",
       "    </tr>\n",
       "    <tr>\n",
       "      <th>16</th>\n",
       "      <td>17.266667</td>\n",
       "      <td>8.133333</td>\n",
       "    </tr>\n",
       "    <tr>\n",
       "      <th>17</th>\n",
       "      <td>46.500000</td>\n",
       "      <td>9.833333</td>\n",
       "    </tr>\n",
       "    <tr>\n",
       "      <th>18</th>\n",
       "      <td>9.566667</td>\n",
       "      <td>8.633333</td>\n",
       "    </tr>\n",
       "    <tr>\n",
       "      <th>19</th>\n",
       "      <td>8.766667</td>\n",
       "      <td>7.033333</td>\n",
       "    </tr>\n",
       "    <tr>\n",
       "      <th>20</th>\n",
       "      <td>11.133333</td>\n",
       "      <td>7.366667</td>\n",
       "    </tr>\n",
       "    <tr>\n",
       "      <th>21</th>\n",
       "      <td>38.433333</td>\n",
       "      <td>8.166667</td>\n",
       "    </tr>\n",
       "    <tr>\n",
       "      <th>22</th>\n",
       "      <td>10.666667</td>\n",
       "      <td>8.100000</td>\n",
       "    </tr>\n",
       "    <tr>\n",
       "      <th>23</th>\n",
       "      <td>5.500000</td>\n",
       "      <td>9.666667</td>\n",
       "    </tr>\n",
       "    <tr>\n",
       "      <th>24</th>\n",
       "      <td>40.800000</td>\n",
       "      <td>8.833333</td>\n",
       "    </tr>\n",
       "    <tr>\n",
       "      <th>25</th>\n",
       "      <td>23.900000</td>\n",
       "      <td>10.866667</td>\n",
       "    </tr>\n",
       "    <tr>\n",
       "      <th>26</th>\n",
       "      <td>8.633333</td>\n",
       "      <td>12.533333</td>\n",
       "    </tr>\n",
       "    <tr>\n",
       "      <th>27</th>\n",
       "      <td>6.800000</td>\n",
       "      <td>8.100000</td>\n",
       "    </tr>\n",
       "    <tr>\n",
       "      <th>28</th>\n",
       "      <td>5.633333</td>\n",
       "      <td>9.033333</td>\n",
       "    </tr>\n",
       "    <tr>\n",
       "      <th>29</th>\n",
       "      <td>11.133333</td>\n",
       "      <td>17.433333</td>\n",
       "    </tr>\n",
       "    <tr>\n",
       "      <th>30</th>\n",
       "      <td>1.000000</td>\n",
       "      <td>0.000000</td>\n",
       "    </tr>\n",
       "  </tbody>\n",
       "</table>\n",
       "</div>"
      ],
      "text/plain": [
       "X           -0.0         50.5\n",
       "Y_bin                        \n",
       "0      101.133333  246.733333\n",
       "1       18.633333  111.233333\n",
       "2       17.500000   82.500000\n",
       "3       16.000000   76.733333\n",
       "4       16.066667    9.333333\n",
       "5        9.200000   77.333333\n",
       "6       13.600000  123.100000\n",
       "7        6.866667  203.033333\n",
       "8        9.466667   11.066667\n",
       "9       12.900000   12.533333\n",
       "10       8.833333   10.033333\n",
       "11       8.333333   13.800000\n",
       "12      55.666667   10.233333\n",
       "13      50.866667   95.133333\n",
       "14       9.766667    8.633333\n",
       "15      33.466667    7.466667\n",
       "16      17.266667    8.133333\n",
       "17      46.500000    9.833333\n",
       "18       9.566667    8.633333\n",
       "19       8.766667    7.033333\n",
       "20      11.133333    7.366667\n",
       "21      38.433333    8.166667\n",
       "22      10.666667    8.100000\n",
       "23       5.500000    9.666667\n",
       "24      40.800000    8.833333\n",
       "25      23.900000   10.866667\n",
       "26       8.633333   12.533333\n",
       "27       6.800000    8.100000\n",
       "28       5.633333    9.033333\n",
       "29      11.133333   17.433333\n",
       "30       1.000000    0.000000"
      ]
     },
     "execution_count": 44,
     "metadata": {},
     "output_type": "execute_result"
    }
   ],
   "source": [
    "time_per_bin.T"
   ]
  },
  {
   "cell_type": "code",
   "execution_count": 48,
   "id": "10874c32",
   "metadata": {},
   "outputs": [],
   "source": [
    "def fixed_template(dff, behavior, n_corridors=2, n_bins=30):\n",
    "    \"\"\"\n",
    "    Implements direct basis decoding with LOOCV using fixed binning.\n",
    "\n",
    "    Parameters:\n",
    "        dff (DataFrame): Calcium imaging traces for all neurons.\n",
    "        behavior (DataFrame): Behavioral data with X (corridor), Y (position).\n",
    "        n_corridors (int): Number of corridors in the setting (default=2).\n",
    "        n_bins (int): Number of spatial bins (default=30).\n",
    "\n",
    "    Returns:\n",
    "        decoded_position (DataFrame): Decoded X and Y positions.\n",
    "    \"\"\"\n",
    "    # Preprocess behavior data\n",
    "    bh = remove_interpolated_values(behavior, n_corr=n_corridors)\n",
    "    if \"trial\" not in bh.columns:\n",
    "        bh = add_trial_column(bh)\n",
    "\n",
    "    # Initialize storage for decoded results\n",
    "    decoded_positions = []\n",
    "\n",
    "    # Perform Leave-One-Out Cross-Validation (LOOCV)\n",
    "    for trial in bh[\"trial\"].unique():\n",
    "        print(f\"Performing LOOCV on trial {trial}.\")\n",
    "\n",
    "        # Split data into training and test sets\n",
    "        dff_test = dff[bh[\"trial\"] == trial]\n",
    "        dff_train = dff[bh[\"trial\"] != trial]\n",
    "        bh_test = bh[bh[\"trial\"] == trial]\n",
    "        bh_train = bh[bh[\"trial\"] != trial]\n",
    "\n",
    "        # Compute binning for training data\n",
    "        time_per_bin, summed_traces, bins = binning(dff_train, bh_train, n_bins=n_bins)\n",
    "\n",
    "        # Compute average activity templates (fixed decoder)\n",
    "        avg_act_mtx = avg_activity(time_per_bin, summed_traces)\n",
    "\n",
    "        # Apply the same binning to test data\n",
    "        time_per_bin, summed_traces, _ = binning(dff_test, bh_test, n_bins=n_bins, bins=bins)\n",
    "        loocv_bins = avg_activity(time_per_bin, summed_traces)\n",
    "        \n",
    "        # Get the single corridor value for this trial\n",
    "        corridor = bh_test[\"X\"].iloc[0]\n",
    "\n",
    "        # Loop through each space bin in the test trial\n",
    "        for space_bin in range(n_bins):\n",
    "            if space_bin not in loocv_bins.index:\n",
    "                continue  # Skip if test data does not contain this bin\n",
    "\n",
    "            # Extract the population vector for this bin\n",
    "            pop_vector = loocv_bins.xs(key=corridor, level=\"Corridor\", axis=1).loc[space_bin]\n",
    "\n",
    "            # Compute weighted activity map\n",
    "            scaled_matrix = avg_act_mtx.xs(key=corridor, level=\"Corridor\", axis=1).mul(pop_vector, axis=1)\n",
    "\n",
    "            # Decode by summing across neurons\n",
    "            decoded_map = scaled_matrix.sum(axis=1)\n",
    "\n",
    "            # Store results\n",
    "            decoded_positions.append({\n",
    "                \"trial\": trial,\n",
    "                \"corridor\": corridor,\n",
    "                \"true_bin\": space_bin,\n",
    "                \"decoded_bin\": decoded_map.idxmax()  # Pick the most active decoded bin\n",
    "            })\n",
    "\n",
    "    return pd.DataFrame(decoded_positions)\n",
    "            \n",
    "        \n",
    "  \n",
    "        \n",
    "\n",
    "        \n",
    "        \n",
    "    "
   ]
  },
  {
   "cell_type": "code",
   "execution_count": 49,
   "id": "eedd3584",
   "metadata": {},
   "outputs": [
    {
     "name": "stdout",
     "output_type": "stream",
     "text": [
      "Performing LOOCV on trial 0.\n"
     ]
    },
    {
     "name": "stderr",
     "output_type": "stream",
     "text": [
      "C:\\Users\\anneluka\\AppData\\Local\\Temp\\ipykernel_12636\\2591708009.py:56: SettingWithCopyWarning: \n",
      "A value is trying to be set on a copy of a slice from a DataFrame.\n",
      "Try using .loc[row_indexer,col_indexer] = value instead\n",
      "\n",
      "See the caveats in the documentation: https://pandas.pydata.org/pandas-docs/stable/user_guide/indexing.html#returning-a-view-versus-a-copy\n",
      "  behavior[\"Y_bin\"] = np.digitize(behavior[\"Y\"], bins=bin_edges, right=False) - 1\n",
      "C:\\Users\\anneluka\\AppData\\Local\\Temp\\ipykernel_12636\\2591708009.py:56: SettingWithCopyWarning: \n",
      "A value is trying to be set on a copy of a slice from a DataFrame.\n",
      "Try using .loc[row_indexer,col_indexer] = value instead\n",
      "\n",
      "See the caveats in the documentation: https://pandas.pydata.org/pandas-docs/stable/user_guide/indexing.html#returning-a-view-versus-a-copy\n",
      "  behavior[\"Y_bin\"] = np.digitize(behavior[\"Y\"], bins=bin_edges, right=False) - 1\n"
     ]
    },
    {
     "name": "stdout",
     "output_type": "stream",
     "text": [
      "Performing LOOCV on trial 1.\n"
     ]
    },
    {
     "name": "stderr",
     "output_type": "stream",
     "text": [
      "C:\\Users\\anneluka\\AppData\\Local\\Temp\\ipykernel_12636\\2591708009.py:56: SettingWithCopyWarning: \n",
      "A value is trying to be set on a copy of a slice from a DataFrame.\n",
      "Try using .loc[row_indexer,col_indexer] = value instead\n",
      "\n",
      "See the caveats in the documentation: https://pandas.pydata.org/pandas-docs/stable/user_guide/indexing.html#returning-a-view-versus-a-copy\n",
      "  behavior[\"Y_bin\"] = np.digitize(behavior[\"Y\"], bins=bin_edges, right=False) - 1\n",
      "C:\\Users\\anneluka\\AppData\\Local\\Temp\\ipykernel_12636\\2591708009.py:56: SettingWithCopyWarning: \n",
      "A value is trying to be set on a copy of a slice from a DataFrame.\n",
      "Try using .loc[row_indexer,col_indexer] = value instead\n",
      "\n",
      "See the caveats in the documentation: https://pandas.pydata.org/pandas-docs/stable/user_guide/indexing.html#returning-a-view-versus-a-copy\n",
      "  behavior[\"Y_bin\"] = np.digitize(behavior[\"Y\"], bins=bin_edges, right=False) - 1\n"
     ]
    },
    {
     "name": "stdout",
     "output_type": "stream",
     "text": [
      "Performing LOOCV on trial 2.\n"
     ]
    },
    {
     "name": "stderr",
     "output_type": "stream",
     "text": [
      "C:\\Users\\anneluka\\AppData\\Local\\Temp\\ipykernel_12636\\2591708009.py:56: SettingWithCopyWarning: \n",
      "A value is trying to be set on a copy of a slice from a DataFrame.\n",
      "Try using .loc[row_indexer,col_indexer] = value instead\n",
      "\n",
      "See the caveats in the documentation: https://pandas.pydata.org/pandas-docs/stable/user_guide/indexing.html#returning-a-view-versus-a-copy\n",
      "  behavior[\"Y_bin\"] = np.digitize(behavior[\"Y\"], bins=bin_edges, right=False) - 1\n",
      "C:\\Users\\anneluka\\AppData\\Local\\Temp\\ipykernel_12636\\2591708009.py:56: SettingWithCopyWarning: \n",
      "A value is trying to be set on a copy of a slice from a DataFrame.\n",
      "Try using .loc[row_indexer,col_indexer] = value instead\n",
      "\n",
      "See the caveats in the documentation: https://pandas.pydata.org/pandas-docs/stable/user_guide/indexing.html#returning-a-view-versus-a-copy\n",
      "  behavior[\"Y_bin\"] = np.digitize(behavior[\"Y\"], bins=bin_edges, right=False) - 1\n"
     ]
    },
    {
     "name": "stdout",
     "output_type": "stream",
     "text": [
      "Performing LOOCV on trial 3.\n"
     ]
    },
    {
     "name": "stderr",
     "output_type": "stream",
     "text": [
      "C:\\Users\\anneluka\\AppData\\Local\\Temp\\ipykernel_12636\\2591708009.py:56: SettingWithCopyWarning: \n",
      "A value is trying to be set on a copy of a slice from a DataFrame.\n",
      "Try using .loc[row_indexer,col_indexer] = value instead\n",
      "\n",
      "See the caveats in the documentation: https://pandas.pydata.org/pandas-docs/stable/user_guide/indexing.html#returning-a-view-versus-a-copy\n",
      "  behavior[\"Y_bin\"] = np.digitize(behavior[\"Y\"], bins=bin_edges, right=False) - 1\n",
      "C:\\Users\\anneluka\\AppData\\Local\\Temp\\ipykernel_12636\\2591708009.py:56: SettingWithCopyWarning: \n",
      "A value is trying to be set on a copy of a slice from a DataFrame.\n",
      "Try using .loc[row_indexer,col_indexer] = value instead\n",
      "\n",
      "See the caveats in the documentation: https://pandas.pydata.org/pandas-docs/stable/user_guide/indexing.html#returning-a-view-versus-a-copy\n",
      "  behavior[\"Y_bin\"] = np.digitize(behavior[\"Y\"], bins=bin_edges, right=False) - 1\n"
     ]
    },
    {
     "name": "stdout",
     "output_type": "stream",
     "text": [
      "Performing LOOCV on trial 4.\n"
     ]
    },
    {
     "name": "stderr",
     "output_type": "stream",
     "text": [
      "C:\\Users\\anneluka\\AppData\\Local\\Temp\\ipykernel_12636\\2591708009.py:56: SettingWithCopyWarning: \n",
      "A value is trying to be set on a copy of a slice from a DataFrame.\n",
      "Try using .loc[row_indexer,col_indexer] = value instead\n",
      "\n",
      "See the caveats in the documentation: https://pandas.pydata.org/pandas-docs/stable/user_guide/indexing.html#returning-a-view-versus-a-copy\n",
      "  behavior[\"Y_bin\"] = np.digitize(behavior[\"Y\"], bins=bin_edges, right=False) - 1\n",
      "C:\\Users\\anneluka\\AppData\\Local\\Temp\\ipykernel_12636\\2591708009.py:56: SettingWithCopyWarning: \n",
      "A value is trying to be set on a copy of a slice from a DataFrame.\n",
      "Try using .loc[row_indexer,col_indexer] = value instead\n",
      "\n",
      "See the caveats in the documentation: https://pandas.pydata.org/pandas-docs/stable/user_guide/indexing.html#returning-a-view-versus-a-copy\n",
      "  behavior[\"Y_bin\"] = np.digitize(behavior[\"Y\"], bins=bin_edges, right=False) - 1\n"
     ]
    },
    {
     "name": "stdout",
     "output_type": "stream",
     "text": [
      "Performing LOOCV on trial 5.\n"
     ]
    },
    {
     "name": "stderr",
     "output_type": "stream",
     "text": [
      "C:\\Users\\anneluka\\AppData\\Local\\Temp\\ipykernel_12636\\2591708009.py:56: SettingWithCopyWarning: \n",
      "A value is trying to be set on a copy of a slice from a DataFrame.\n",
      "Try using .loc[row_indexer,col_indexer] = value instead\n",
      "\n",
      "See the caveats in the documentation: https://pandas.pydata.org/pandas-docs/stable/user_guide/indexing.html#returning-a-view-versus-a-copy\n",
      "  behavior[\"Y_bin\"] = np.digitize(behavior[\"Y\"], bins=bin_edges, right=False) - 1\n",
      "C:\\Users\\anneluka\\AppData\\Local\\Temp\\ipykernel_12636\\2591708009.py:56: SettingWithCopyWarning: \n",
      "A value is trying to be set on a copy of a slice from a DataFrame.\n",
      "Try using .loc[row_indexer,col_indexer] = value instead\n",
      "\n",
      "See the caveats in the documentation: https://pandas.pydata.org/pandas-docs/stable/user_guide/indexing.html#returning-a-view-versus-a-copy\n",
      "  behavior[\"Y_bin\"] = np.digitize(behavior[\"Y\"], bins=bin_edges, right=False) - 1\n"
     ]
    },
    {
     "name": "stdout",
     "output_type": "stream",
     "text": [
      "Performing LOOCV on trial 6.\n"
     ]
    },
    {
     "name": "stderr",
     "output_type": "stream",
     "text": [
      "C:\\Users\\anneluka\\AppData\\Local\\Temp\\ipykernel_12636\\2591708009.py:56: SettingWithCopyWarning: \n",
      "A value is trying to be set on a copy of a slice from a DataFrame.\n",
      "Try using .loc[row_indexer,col_indexer] = value instead\n",
      "\n",
      "See the caveats in the documentation: https://pandas.pydata.org/pandas-docs/stable/user_guide/indexing.html#returning-a-view-versus-a-copy\n",
      "  behavior[\"Y_bin\"] = np.digitize(behavior[\"Y\"], bins=bin_edges, right=False) - 1\n",
      "C:\\Users\\anneluka\\AppData\\Local\\Temp\\ipykernel_12636\\2591708009.py:56: SettingWithCopyWarning: \n",
      "A value is trying to be set on a copy of a slice from a DataFrame.\n",
      "Try using .loc[row_indexer,col_indexer] = value instead\n",
      "\n",
      "See the caveats in the documentation: https://pandas.pydata.org/pandas-docs/stable/user_guide/indexing.html#returning-a-view-versus-a-copy\n",
      "  behavior[\"Y_bin\"] = np.digitize(behavior[\"Y\"], bins=bin_edges, right=False) - 1\n"
     ]
    },
    {
     "name": "stdout",
     "output_type": "stream",
     "text": [
      "Performing LOOCV on trial 7.\n"
     ]
    },
    {
     "name": "stderr",
     "output_type": "stream",
     "text": [
      "C:\\Users\\anneluka\\AppData\\Local\\Temp\\ipykernel_12636\\2591708009.py:56: SettingWithCopyWarning: \n",
      "A value is trying to be set on a copy of a slice from a DataFrame.\n",
      "Try using .loc[row_indexer,col_indexer] = value instead\n",
      "\n",
      "See the caveats in the documentation: https://pandas.pydata.org/pandas-docs/stable/user_guide/indexing.html#returning-a-view-versus-a-copy\n",
      "  behavior[\"Y_bin\"] = np.digitize(behavior[\"Y\"], bins=bin_edges, right=False) - 1\n",
      "C:\\Users\\anneluka\\AppData\\Local\\Temp\\ipykernel_12636\\2591708009.py:56: SettingWithCopyWarning: \n",
      "A value is trying to be set on a copy of a slice from a DataFrame.\n",
      "Try using .loc[row_indexer,col_indexer] = value instead\n",
      "\n",
      "See the caveats in the documentation: https://pandas.pydata.org/pandas-docs/stable/user_guide/indexing.html#returning-a-view-versus-a-copy\n",
      "  behavior[\"Y_bin\"] = np.digitize(behavior[\"Y\"], bins=bin_edges, right=False) - 1\n"
     ]
    },
    {
     "name": "stdout",
     "output_type": "stream",
     "text": [
      "Performing LOOCV on trial 8.\n"
     ]
    },
    {
     "name": "stderr",
     "output_type": "stream",
     "text": [
      "C:\\Users\\anneluka\\AppData\\Local\\Temp\\ipykernel_12636\\2591708009.py:56: SettingWithCopyWarning: \n",
      "A value is trying to be set on a copy of a slice from a DataFrame.\n",
      "Try using .loc[row_indexer,col_indexer] = value instead\n",
      "\n",
      "See the caveats in the documentation: https://pandas.pydata.org/pandas-docs/stable/user_guide/indexing.html#returning-a-view-versus-a-copy\n",
      "  behavior[\"Y_bin\"] = np.digitize(behavior[\"Y\"], bins=bin_edges, right=False) - 1\n",
      "C:\\Users\\anneluka\\AppData\\Local\\Temp\\ipykernel_12636\\2591708009.py:56: SettingWithCopyWarning: \n",
      "A value is trying to be set on a copy of a slice from a DataFrame.\n",
      "Try using .loc[row_indexer,col_indexer] = value instead\n",
      "\n",
      "See the caveats in the documentation: https://pandas.pydata.org/pandas-docs/stable/user_guide/indexing.html#returning-a-view-versus-a-copy\n",
      "  behavior[\"Y_bin\"] = np.digitize(behavior[\"Y\"], bins=bin_edges, right=False) - 1\n"
     ]
    },
    {
     "name": "stdout",
     "output_type": "stream",
     "text": [
      "Performing LOOCV on trial 9.\n"
     ]
    },
    {
     "name": "stderr",
     "output_type": "stream",
     "text": [
      "C:\\Users\\anneluka\\AppData\\Local\\Temp\\ipykernel_12636\\2591708009.py:56: SettingWithCopyWarning: \n",
      "A value is trying to be set on a copy of a slice from a DataFrame.\n",
      "Try using .loc[row_indexer,col_indexer] = value instead\n",
      "\n",
      "See the caveats in the documentation: https://pandas.pydata.org/pandas-docs/stable/user_guide/indexing.html#returning-a-view-versus-a-copy\n",
      "  behavior[\"Y_bin\"] = np.digitize(behavior[\"Y\"], bins=bin_edges, right=False) - 1\n",
      "C:\\Users\\anneluka\\AppData\\Local\\Temp\\ipykernel_12636\\2591708009.py:56: SettingWithCopyWarning: \n",
      "A value is trying to be set on a copy of a slice from a DataFrame.\n",
      "Try using .loc[row_indexer,col_indexer] = value instead\n",
      "\n",
      "See the caveats in the documentation: https://pandas.pydata.org/pandas-docs/stable/user_guide/indexing.html#returning-a-view-versus-a-copy\n",
      "  behavior[\"Y_bin\"] = np.digitize(behavior[\"Y\"], bins=bin_edges, right=False) - 1\n"
     ]
    },
    {
     "name": "stdout",
     "output_type": "stream",
     "text": [
      "Performing LOOCV on trial 10.\n"
     ]
    },
    {
     "name": "stderr",
     "output_type": "stream",
     "text": [
      "C:\\Users\\anneluka\\AppData\\Local\\Temp\\ipykernel_12636\\2591708009.py:56: SettingWithCopyWarning: \n",
      "A value is trying to be set on a copy of a slice from a DataFrame.\n",
      "Try using .loc[row_indexer,col_indexer] = value instead\n",
      "\n",
      "See the caveats in the documentation: https://pandas.pydata.org/pandas-docs/stable/user_guide/indexing.html#returning-a-view-versus-a-copy\n",
      "  behavior[\"Y_bin\"] = np.digitize(behavior[\"Y\"], bins=bin_edges, right=False) - 1\n",
      "C:\\Users\\anneluka\\AppData\\Local\\Temp\\ipykernel_12636\\2591708009.py:56: SettingWithCopyWarning: \n",
      "A value is trying to be set on a copy of a slice from a DataFrame.\n",
      "Try using .loc[row_indexer,col_indexer] = value instead\n",
      "\n",
      "See the caveats in the documentation: https://pandas.pydata.org/pandas-docs/stable/user_guide/indexing.html#returning-a-view-versus-a-copy\n",
      "  behavior[\"Y_bin\"] = np.digitize(behavior[\"Y\"], bins=bin_edges, right=False) - 1\n"
     ]
    },
    {
     "name": "stdout",
     "output_type": "stream",
     "text": [
      "Performing LOOCV on trial 11.\n"
     ]
    },
    {
     "name": "stderr",
     "output_type": "stream",
     "text": [
      "C:\\Users\\anneluka\\AppData\\Local\\Temp\\ipykernel_12636\\2591708009.py:56: SettingWithCopyWarning: \n",
      "A value is trying to be set on a copy of a slice from a DataFrame.\n",
      "Try using .loc[row_indexer,col_indexer] = value instead\n",
      "\n",
      "See the caveats in the documentation: https://pandas.pydata.org/pandas-docs/stable/user_guide/indexing.html#returning-a-view-versus-a-copy\n",
      "  behavior[\"Y_bin\"] = np.digitize(behavior[\"Y\"], bins=bin_edges, right=False) - 1\n",
      "C:\\Users\\anneluka\\AppData\\Local\\Temp\\ipykernel_12636\\2591708009.py:56: SettingWithCopyWarning: \n",
      "A value is trying to be set on a copy of a slice from a DataFrame.\n",
      "Try using .loc[row_indexer,col_indexer] = value instead\n",
      "\n",
      "See the caveats in the documentation: https://pandas.pydata.org/pandas-docs/stable/user_guide/indexing.html#returning-a-view-versus-a-copy\n",
      "  behavior[\"Y_bin\"] = np.digitize(behavior[\"Y\"], bins=bin_edges, right=False) - 1\n"
     ]
    },
    {
     "name": "stdout",
     "output_type": "stream",
     "text": [
      "Performing LOOCV on trial 12.\n"
     ]
    },
    {
     "name": "stderr",
     "output_type": "stream",
     "text": [
      "C:\\Users\\anneluka\\AppData\\Local\\Temp\\ipykernel_12636\\2591708009.py:56: SettingWithCopyWarning: \n",
      "A value is trying to be set on a copy of a slice from a DataFrame.\n",
      "Try using .loc[row_indexer,col_indexer] = value instead\n",
      "\n",
      "See the caveats in the documentation: https://pandas.pydata.org/pandas-docs/stable/user_guide/indexing.html#returning-a-view-versus-a-copy\n",
      "  behavior[\"Y_bin\"] = np.digitize(behavior[\"Y\"], bins=bin_edges, right=False) - 1\n",
      "C:\\Users\\anneluka\\AppData\\Local\\Temp\\ipykernel_12636\\2591708009.py:56: SettingWithCopyWarning: \n",
      "A value is trying to be set on a copy of a slice from a DataFrame.\n",
      "Try using .loc[row_indexer,col_indexer] = value instead\n",
      "\n",
      "See the caveats in the documentation: https://pandas.pydata.org/pandas-docs/stable/user_guide/indexing.html#returning-a-view-versus-a-copy\n",
      "  behavior[\"Y_bin\"] = np.digitize(behavior[\"Y\"], bins=bin_edges, right=False) - 1\n"
     ]
    },
    {
     "name": "stdout",
     "output_type": "stream",
     "text": [
      "Performing LOOCV on trial 13.\n"
     ]
    },
    {
     "name": "stderr",
     "output_type": "stream",
     "text": [
      "C:\\Users\\anneluka\\AppData\\Local\\Temp\\ipykernel_12636\\2591708009.py:56: SettingWithCopyWarning: \n",
      "A value is trying to be set on a copy of a slice from a DataFrame.\n",
      "Try using .loc[row_indexer,col_indexer] = value instead\n",
      "\n",
      "See the caveats in the documentation: https://pandas.pydata.org/pandas-docs/stable/user_guide/indexing.html#returning-a-view-versus-a-copy\n",
      "  behavior[\"Y_bin\"] = np.digitize(behavior[\"Y\"], bins=bin_edges, right=False) - 1\n",
      "C:\\Users\\anneluka\\AppData\\Local\\Temp\\ipykernel_12636\\2591708009.py:56: SettingWithCopyWarning: \n",
      "A value is trying to be set on a copy of a slice from a DataFrame.\n",
      "Try using .loc[row_indexer,col_indexer] = value instead\n",
      "\n",
      "See the caveats in the documentation: https://pandas.pydata.org/pandas-docs/stable/user_guide/indexing.html#returning-a-view-versus-a-copy\n",
      "  behavior[\"Y_bin\"] = np.digitize(behavior[\"Y\"], bins=bin_edges, right=False) - 1\n"
     ]
    },
    {
     "name": "stdout",
     "output_type": "stream",
     "text": [
      "Performing LOOCV on trial 14.\n"
     ]
    },
    {
     "name": "stderr",
     "output_type": "stream",
     "text": [
      "C:\\Users\\anneluka\\AppData\\Local\\Temp\\ipykernel_12636\\2591708009.py:56: SettingWithCopyWarning: \n",
      "A value is trying to be set on a copy of a slice from a DataFrame.\n",
      "Try using .loc[row_indexer,col_indexer] = value instead\n",
      "\n",
      "See the caveats in the documentation: https://pandas.pydata.org/pandas-docs/stable/user_guide/indexing.html#returning-a-view-versus-a-copy\n",
      "  behavior[\"Y_bin\"] = np.digitize(behavior[\"Y\"], bins=bin_edges, right=False) - 1\n",
      "C:\\Users\\anneluka\\AppData\\Local\\Temp\\ipykernel_12636\\2591708009.py:56: SettingWithCopyWarning: \n",
      "A value is trying to be set on a copy of a slice from a DataFrame.\n",
      "Try using .loc[row_indexer,col_indexer] = value instead\n",
      "\n",
      "See the caveats in the documentation: https://pandas.pydata.org/pandas-docs/stable/user_guide/indexing.html#returning-a-view-versus-a-copy\n",
      "  behavior[\"Y_bin\"] = np.digitize(behavior[\"Y\"], bins=bin_edges, right=False) - 1\n"
     ]
    },
    {
     "name": "stdout",
     "output_type": "stream",
     "text": [
      "Performing LOOCV on trial 15.\n"
     ]
    },
    {
     "name": "stderr",
     "output_type": "stream",
     "text": [
      "C:\\Users\\anneluka\\AppData\\Local\\Temp\\ipykernel_12636\\2591708009.py:56: SettingWithCopyWarning: \n",
      "A value is trying to be set on a copy of a slice from a DataFrame.\n",
      "Try using .loc[row_indexer,col_indexer] = value instead\n",
      "\n",
      "See the caveats in the documentation: https://pandas.pydata.org/pandas-docs/stable/user_guide/indexing.html#returning-a-view-versus-a-copy\n",
      "  behavior[\"Y_bin\"] = np.digitize(behavior[\"Y\"], bins=bin_edges, right=False) - 1\n",
      "C:\\Users\\anneluka\\AppData\\Local\\Temp\\ipykernel_12636\\2591708009.py:56: SettingWithCopyWarning: \n",
      "A value is trying to be set on a copy of a slice from a DataFrame.\n",
      "Try using .loc[row_indexer,col_indexer] = value instead\n",
      "\n",
      "See the caveats in the documentation: https://pandas.pydata.org/pandas-docs/stable/user_guide/indexing.html#returning-a-view-versus-a-copy\n",
      "  behavior[\"Y_bin\"] = np.digitize(behavior[\"Y\"], bins=bin_edges, right=False) - 1\n"
     ]
    },
    {
     "name": "stdout",
     "output_type": "stream",
     "text": [
      "Performing LOOCV on trial 16.\n"
     ]
    },
    {
     "name": "stderr",
     "output_type": "stream",
     "text": [
      "C:\\Users\\anneluka\\AppData\\Local\\Temp\\ipykernel_12636\\2591708009.py:56: SettingWithCopyWarning: \n",
      "A value is trying to be set on a copy of a slice from a DataFrame.\n",
      "Try using .loc[row_indexer,col_indexer] = value instead\n",
      "\n",
      "See the caveats in the documentation: https://pandas.pydata.org/pandas-docs/stable/user_guide/indexing.html#returning-a-view-versus-a-copy\n",
      "  behavior[\"Y_bin\"] = np.digitize(behavior[\"Y\"], bins=bin_edges, right=False) - 1\n",
      "C:\\Users\\anneluka\\AppData\\Local\\Temp\\ipykernel_12636\\2591708009.py:56: SettingWithCopyWarning: \n",
      "A value is trying to be set on a copy of a slice from a DataFrame.\n",
      "Try using .loc[row_indexer,col_indexer] = value instead\n",
      "\n",
      "See the caveats in the documentation: https://pandas.pydata.org/pandas-docs/stable/user_guide/indexing.html#returning-a-view-versus-a-copy\n",
      "  behavior[\"Y_bin\"] = np.digitize(behavior[\"Y\"], bins=bin_edges, right=False) - 1\n"
     ]
    },
    {
     "name": "stdout",
     "output_type": "stream",
     "text": [
      "Performing LOOCV on trial 17.\n"
     ]
    },
    {
     "name": "stderr",
     "output_type": "stream",
     "text": [
      "C:\\Users\\anneluka\\AppData\\Local\\Temp\\ipykernel_12636\\2591708009.py:56: SettingWithCopyWarning: \n",
      "A value is trying to be set on a copy of a slice from a DataFrame.\n",
      "Try using .loc[row_indexer,col_indexer] = value instead\n",
      "\n",
      "See the caveats in the documentation: https://pandas.pydata.org/pandas-docs/stable/user_guide/indexing.html#returning-a-view-versus-a-copy\n",
      "  behavior[\"Y_bin\"] = np.digitize(behavior[\"Y\"], bins=bin_edges, right=False) - 1\n",
      "C:\\Users\\anneluka\\AppData\\Local\\Temp\\ipykernel_12636\\2591708009.py:56: SettingWithCopyWarning: \n",
      "A value is trying to be set on a copy of a slice from a DataFrame.\n",
      "Try using .loc[row_indexer,col_indexer] = value instead\n",
      "\n",
      "See the caveats in the documentation: https://pandas.pydata.org/pandas-docs/stable/user_guide/indexing.html#returning-a-view-versus-a-copy\n",
      "  behavior[\"Y_bin\"] = np.digitize(behavior[\"Y\"], bins=bin_edges, right=False) - 1\n"
     ]
    },
    {
     "name": "stdout",
     "output_type": "stream",
     "text": [
      "Performing LOOCV on trial 18.\n"
     ]
    },
    {
     "name": "stderr",
     "output_type": "stream",
     "text": [
      "C:\\Users\\anneluka\\AppData\\Local\\Temp\\ipykernel_12636\\2591708009.py:56: SettingWithCopyWarning: \n",
      "A value is trying to be set on a copy of a slice from a DataFrame.\n",
      "Try using .loc[row_indexer,col_indexer] = value instead\n",
      "\n",
      "See the caveats in the documentation: https://pandas.pydata.org/pandas-docs/stable/user_guide/indexing.html#returning-a-view-versus-a-copy\n",
      "  behavior[\"Y_bin\"] = np.digitize(behavior[\"Y\"], bins=bin_edges, right=False) - 1\n",
      "C:\\Users\\anneluka\\AppData\\Local\\Temp\\ipykernel_12636\\2591708009.py:56: SettingWithCopyWarning: \n",
      "A value is trying to be set on a copy of a slice from a DataFrame.\n",
      "Try using .loc[row_indexer,col_indexer] = value instead\n",
      "\n",
      "See the caveats in the documentation: https://pandas.pydata.org/pandas-docs/stable/user_guide/indexing.html#returning-a-view-versus-a-copy\n",
      "  behavior[\"Y_bin\"] = np.digitize(behavior[\"Y\"], bins=bin_edges, right=False) - 1\n"
     ]
    },
    {
     "name": "stdout",
     "output_type": "stream",
     "text": [
      "Performing LOOCV on trial 19.\n"
     ]
    },
    {
     "name": "stderr",
     "output_type": "stream",
     "text": [
      "C:\\Users\\anneluka\\AppData\\Local\\Temp\\ipykernel_12636\\2591708009.py:56: SettingWithCopyWarning: \n",
      "A value is trying to be set on a copy of a slice from a DataFrame.\n",
      "Try using .loc[row_indexer,col_indexer] = value instead\n",
      "\n",
      "See the caveats in the documentation: https://pandas.pydata.org/pandas-docs/stable/user_guide/indexing.html#returning-a-view-versus-a-copy\n",
      "  behavior[\"Y_bin\"] = np.digitize(behavior[\"Y\"], bins=bin_edges, right=False) - 1\n",
      "C:\\Users\\anneluka\\AppData\\Local\\Temp\\ipykernel_12636\\2591708009.py:56: SettingWithCopyWarning: \n",
      "A value is trying to be set on a copy of a slice from a DataFrame.\n",
      "Try using .loc[row_indexer,col_indexer] = value instead\n",
      "\n",
      "See the caveats in the documentation: https://pandas.pydata.org/pandas-docs/stable/user_guide/indexing.html#returning-a-view-versus-a-copy\n",
      "  behavior[\"Y_bin\"] = np.digitize(behavior[\"Y\"], bins=bin_edges, right=False) - 1\n"
     ]
    },
    {
     "name": "stdout",
     "output_type": "stream",
     "text": [
      "Performing LOOCV on trial 20.\n"
     ]
    },
    {
     "name": "stderr",
     "output_type": "stream",
     "text": [
      "C:\\Users\\anneluka\\AppData\\Local\\Temp\\ipykernel_12636\\2591708009.py:56: SettingWithCopyWarning: \n",
      "A value is trying to be set on a copy of a slice from a DataFrame.\n",
      "Try using .loc[row_indexer,col_indexer] = value instead\n",
      "\n",
      "See the caveats in the documentation: https://pandas.pydata.org/pandas-docs/stable/user_guide/indexing.html#returning-a-view-versus-a-copy\n",
      "  behavior[\"Y_bin\"] = np.digitize(behavior[\"Y\"], bins=bin_edges, right=False) - 1\n",
      "C:\\Users\\anneluka\\AppData\\Local\\Temp\\ipykernel_12636\\2591708009.py:56: SettingWithCopyWarning: \n",
      "A value is trying to be set on a copy of a slice from a DataFrame.\n",
      "Try using .loc[row_indexer,col_indexer] = value instead\n",
      "\n",
      "See the caveats in the documentation: https://pandas.pydata.org/pandas-docs/stable/user_guide/indexing.html#returning-a-view-versus-a-copy\n",
      "  behavior[\"Y_bin\"] = np.digitize(behavior[\"Y\"], bins=bin_edges, right=False) - 1\n"
     ]
    },
    {
     "name": "stdout",
     "output_type": "stream",
     "text": [
      "Performing LOOCV on trial 21.\n"
     ]
    },
    {
     "name": "stderr",
     "output_type": "stream",
     "text": [
      "C:\\Users\\anneluka\\AppData\\Local\\Temp\\ipykernel_12636\\2591708009.py:56: SettingWithCopyWarning: \n",
      "A value is trying to be set on a copy of a slice from a DataFrame.\n",
      "Try using .loc[row_indexer,col_indexer] = value instead\n",
      "\n",
      "See the caveats in the documentation: https://pandas.pydata.org/pandas-docs/stable/user_guide/indexing.html#returning-a-view-versus-a-copy\n",
      "  behavior[\"Y_bin\"] = np.digitize(behavior[\"Y\"], bins=bin_edges, right=False) - 1\n",
      "C:\\Users\\anneluka\\AppData\\Local\\Temp\\ipykernel_12636\\2591708009.py:56: SettingWithCopyWarning: \n",
      "A value is trying to be set on a copy of a slice from a DataFrame.\n",
      "Try using .loc[row_indexer,col_indexer] = value instead\n",
      "\n",
      "See the caveats in the documentation: https://pandas.pydata.org/pandas-docs/stable/user_guide/indexing.html#returning-a-view-versus-a-copy\n",
      "  behavior[\"Y_bin\"] = np.digitize(behavior[\"Y\"], bins=bin_edges, right=False) - 1\n"
     ]
    },
    {
     "name": "stdout",
     "output_type": "stream",
     "text": [
      "Performing LOOCV on trial 22.\n"
     ]
    },
    {
     "name": "stderr",
     "output_type": "stream",
     "text": [
      "C:\\Users\\anneluka\\AppData\\Local\\Temp\\ipykernel_12636\\2591708009.py:56: SettingWithCopyWarning: \n",
      "A value is trying to be set on a copy of a slice from a DataFrame.\n",
      "Try using .loc[row_indexer,col_indexer] = value instead\n",
      "\n",
      "See the caveats in the documentation: https://pandas.pydata.org/pandas-docs/stable/user_guide/indexing.html#returning-a-view-versus-a-copy\n",
      "  behavior[\"Y_bin\"] = np.digitize(behavior[\"Y\"], bins=bin_edges, right=False) - 1\n",
      "C:\\Users\\anneluka\\AppData\\Local\\Temp\\ipykernel_12636\\2591708009.py:56: SettingWithCopyWarning: \n",
      "A value is trying to be set on a copy of a slice from a DataFrame.\n",
      "Try using .loc[row_indexer,col_indexer] = value instead\n",
      "\n",
      "See the caveats in the documentation: https://pandas.pydata.org/pandas-docs/stable/user_guide/indexing.html#returning-a-view-versus-a-copy\n",
      "  behavior[\"Y_bin\"] = np.digitize(behavior[\"Y\"], bins=bin_edges, right=False) - 1\n"
     ]
    },
    {
     "name": "stdout",
     "output_type": "stream",
     "text": [
      "Performing LOOCV on trial 23.\n"
     ]
    },
    {
     "name": "stderr",
     "output_type": "stream",
     "text": [
      "C:\\Users\\anneluka\\AppData\\Local\\Temp\\ipykernel_12636\\2591708009.py:56: SettingWithCopyWarning: \n",
      "A value is trying to be set on a copy of a slice from a DataFrame.\n",
      "Try using .loc[row_indexer,col_indexer] = value instead\n",
      "\n",
      "See the caveats in the documentation: https://pandas.pydata.org/pandas-docs/stable/user_guide/indexing.html#returning-a-view-versus-a-copy\n",
      "  behavior[\"Y_bin\"] = np.digitize(behavior[\"Y\"], bins=bin_edges, right=False) - 1\n",
      "C:\\Users\\anneluka\\AppData\\Local\\Temp\\ipykernel_12636\\2591708009.py:56: SettingWithCopyWarning: \n",
      "A value is trying to be set on a copy of a slice from a DataFrame.\n",
      "Try using .loc[row_indexer,col_indexer] = value instead\n",
      "\n",
      "See the caveats in the documentation: https://pandas.pydata.org/pandas-docs/stable/user_guide/indexing.html#returning-a-view-versus-a-copy\n",
      "  behavior[\"Y_bin\"] = np.digitize(behavior[\"Y\"], bins=bin_edges, right=False) - 1\n"
     ]
    },
    {
     "name": "stdout",
     "output_type": "stream",
     "text": [
      "Performing LOOCV on trial 24.\n"
     ]
    },
    {
     "name": "stderr",
     "output_type": "stream",
     "text": [
      "C:\\Users\\anneluka\\AppData\\Local\\Temp\\ipykernel_12636\\2591708009.py:56: SettingWithCopyWarning: \n",
      "A value is trying to be set on a copy of a slice from a DataFrame.\n",
      "Try using .loc[row_indexer,col_indexer] = value instead\n",
      "\n",
      "See the caveats in the documentation: https://pandas.pydata.org/pandas-docs/stable/user_guide/indexing.html#returning-a-view-versus-a-copy\n",
      "  behavior[\"Y_bin\"] = np.digitize(behavior[\"Y\"], bins=bin_edges, right=False) - 1\n",
      "C:\\Users\\anneluka\\AppData\\Local\\Temp\\ipykernel_12636\\2591708009.py:56: SettingWithCopyWarning: \n",
      "A value is trying to be set on a copy of a slice from a DataFrame.\n",
      "Try using .loc[row_indexer,col_indexer] = value instead\n",
      "\n",
      "See the caveats in the documentation: https://pandas.pydata.org/pandas-docs/stable/user_guide/indexing.html#returning-a-view-versus-a-copy\n",
      "  behavior[\"Y_bin\"] = np.digitize(behavior[\"Y\"], bins=bin_edges, right=False) - 1\n"
     ]
    },
    {
     "name": "stdout",
     "output_type": "stream",
     "text": [
      "Performing LOOCV on trial 25.\n"
     ]
    },
    {
     "name": "stderr",
     "output_type": "stream",
     "text": [
      "C:\\Users\\anneluka\\AppData\\Local\\Temp\\ipykernel_12636\\2591708009.py:56: SettingWithCopyWarning: \n",
      "A value is trying to be set on a copy of a slice from a DataFrame.\n",
      "Try using .loc[row_indexer,col_indexer] = value instead\n",
      "\n",
      "See the caveats in the documentation: https://pandas.pydata.org/pandas-docs/stable/user_guide/indexing.html#returning-a-view-versus-a-copy\n",
      "  behavior[\"Y_bin\"] = np.digitize(behavior[\"Y\"], bins=bin_edges, right=False) - 1\n",
      "C:\\Users\\anneluka\\AppData\\Local\\Temp\\ipykernel_12636\\2591708009.py:56: SettingWithCopyWarning: \n",
      "A value is trying to be set on a copy of a slice from a DataFrame.\n",
      "Try using .loc[row_indexer,col_indexer] = value instead\n",
      "\n",
      "See the caveats in the documentation: https://pandas.pydata.org/pandas-docs/stable/user_guide/indexing.html#returning-a-view-versus-a-copy\n",
      "  behavior[\"Y_bin\"] = np.digitize(behavior[\"Y\"], bins=bin_edges, right=False) - 1\n"
     ]
    },
    {
     "name": "stdout",
     "output_type": "stream",
     "text": [
      "Performing LOOCV on trial 26.\n"
     ]
    },
    {
     "name": "stderr",
     "output_type": "stream",
     "text": [
      "C:\\Users\\anneluka\\AppData\\Local\\Temp\\ipykernel_12636\\2591708009.py:56: SettingWithCopyWarning: \n",
      "A value is trying to be set on a copy of a slice from a DataFrame.\n",
      "Try using .loc[row_indexer,col_indexer] = value instead\n",
      "\n",
      "See the caveats in the documentation: https://pandas.pydata.org/pandas-docs/stable/user_guide/indexing.html#returning-a-view-versus-a-copy\n",
      "  behavior[\"Y_bin\"] = np.digitize(behavior[\"Y\"], bins=bin_edges, right=False) - 1\n",
      "C:\\Users\\anneluka\\AppData\\Local\\Temp\\ipykernel_12636\\2591708009.py:56: SettingWithCopyWarning: \n",
      "A value is trying to be set on a copy of a slice from a DataFrame.\n",
      "Try using .loc[row_indexer,col_indexer] = value instead\n",
      "\n",
      "See the caveats in the documentation: https://pandas.pydata.org/pandas-docs/stable/user_guide/indexing.html#returning-a-view-versus-a-copy\n",
      "  behavior[\"Y_bin\"] = np.digitize(behavior[\"Y\"], bins=bin_edges, right=False) - 1\n"
     ]
    },
    {
     "name": "stdout",
     "output_type": "stream",
     "text": [
      "Performing LOOCV on trial 27.\n"
     ]
    },
    {
     "name": "stderr",
     "output_type": "stream",
     "text": [
      "C:\\Users\\anneluka\\AppData\\Local\\Temp\\ipykernel_12636\\2591708009.py:56: SettingWithCopyWarning: \n",
      "A value is trying to be set on a copy of a slice from a DataFrame.\n",
      "Try using .loc[row_indexer,col_indexer] = value instead\n",
      "\n",
      "See the caveats in the documentation: https://pandas.pydata.org/pandas-docs/stable/user_guide/indexing.html#returning-a-view-versus-a-copy\n",
      "  behavior[\"Y_bin\"] = np.digitize(behavior[\"Y\"], bins=bin_edges, right=False) - 1\n",
      "C:\\Users\\anneluka\\AppData\\Local\\Temp\\ipykernel_12636\\2591708009.py:56: SettingWithCopyWarning: \n",
      "A value is trying to be set on a copy of a slice from a DataFrame.\n",
      "Try using .loc[row_indexer,col_indexer] = value instead\n",
      "\n",
      "See the caveats in the documentation: https://pandas.pydata.org/pandas-docs/stable/user_guide/indexing.html#returning-a-view-versus-a-copy\n",
      "  behavior[\"Y_bin\"] = np.digitize(behavior[\"Y\"], bins=bin_edges, right=False) - 1\n"
     ]
    },
    {
     "name": "stdout",
     "output_type": "stream",
     "text": [
      "Performing LOOCV on trial 28.\n"
     ]
    },
    {
     "name": "stderr",
     "output_type": "stream",
     "text": [
      "C:\\Users\\anneluka\\AppData\\Local\\Temp\\ipykernel_12636\\2591708009.py:56: SettingWithCopyWarning: \n",
      "A value is trying to be set on a copy of a slice from a DataFrame.\n",
      "Try using .loc[row_indexer,col_indexer] = value instead\n",
      "\n",
      "See the caveats in the documentation: https://pandas.pydata.org/pandas-docs/stable/user_guide/indexing.html#returning-a-view-versus-a-copy\n",
      "  behavior[\"Y_bin\"] = np.digitize(behavior[\"Y\"], bins=bin_edges, right=False) - 1\n",
      "C:\\Users\\anneluka\\AppData\\Local\\Temp\\ipykernel_12636\\2591708009.py:56: SettingWithCopyWarning: \n",
      "A value is trying to be set on a copy of a slice from a DataFrame.\n",
      "Try using .loc[row_indexer,col_indexer] = value instead\n",
      "\n",
      "See the caveats in the documentation: https://pandas.pydata.org/pandas-docs/stable/user_guide/indexing.html#returning-a-view-versus-a-copy\n",
      "  behavior[\"Y_bin\"] = np.digitize(behavior[\"Y\"], bins=bin_edges, right=False) - 1\n"
     ]
    },
    {
     "name": "stdout",
     "output_type": "stream",
     "text": [
      "Performing LOOCV on trial 29.\n"
     ]
    },
    {
     "name": "stderr",
     "output_type": "stream",
     "text": [
      "C:\\Users\\anneluka\\AppData\\Local\\Temp\\ipykernel_12636\\2591708009.py:56: SettingWithCopyWarning: \n",
      "A value is trying to be set on a copy of a slice from a DataFrame.\n",
      "Try using .loc[row_indexer,col_indexer] = value instead\n",
      "\n",
      "See the caveats in the documentation: https://pandas.pydata.org/pandas-docs/stable/user_guide/indexing.html#returning-a-view-versus-a-copy\n",
      "  behavior[\"Y_bin\"] = np.digitize(behavior[\"Y\"], bins=bin_edges, right=False) - 1\n",
      "C:\\Users\\anneluka\\AppData\\Local\\Temp\\ipykernel_12636\\2591708009.py:56: SettingWithCopyWarning: \n",
      "A value is trying to be set on a copy of a slice from a DataFrame.\n",
      "Try using .loc[row_indexer,col_indexer] = value instead\n",
      "\n",
      "See the caveats in the documentation: https://pandas.pydata.org/pandas-docs/stable/user_guide/indexing.html#returning-a-view-versus-a-copy\n",
      "  behavior[\"Y_bin\"] = np.digitize(behavior[\"Y\"], bins=bin_edges, right=False) - 1\n"
     ]
    },
    {
     "name": "stdout",
     "output_type": "stream",
     "text": [
      "Performing LOOCV on trial 30.\n"
     ]
    },
    {
     "name": "stderr",
     "output_type": "stream",
     "text": [
      "C:\\Users\\anneluka\\AppData\\Local\\Temp\\ipykernel_12636\\2591708009.py:56: SettingWithCopyWarning: \n",
      "A value is trying to be set on a copy of a slice from a DataFrame.\n",
      "Try using .loc[row_indexer,col_indexer] = value instead\n",
      "\n",
      "See the caveats in the documentation: https://pandas.pydata.org/pandas-docs/stable/user_guide/indexing.html#returning-a-view-versus-a-copy\n",
      "  behavior[\"Y_bin\"] = np.digitize(behavior[\"Y\"], bins=bin_edges, right=False) - 1\n",
      "C:\\Users\\anneluka\\AppData\\Local\\Temp\\ipykernel_12636\\2591708009.py:56: SettingWithCopyWarning: \n",
      "A value is trying to be set on a copy of a slice from a DataFrame.\n",
      "Try using .loc[row_indexer,col_indexer] = value instead\n",
      "\n",
      "See the caveats in the documentation: https://pandas.pydata.org/pandas-docs/stable/user_guide/indexing.html#returning-a-view-versus-a-copy\n",
      "  behavior[\"Y_bin\"] = np.digitize(behavior[\"Y\"], bins=bin_edges, right=False) - 1\n"
     ]
    },
    {
     "name": "stdout",
     "output_type": "stream",
     "text": [
      "Performing LOOCV on trial 31.\n"
     ]
    },
    {
     "name": "stderr",
     "output_type": "stream",
     "text": [
      "C:\\Users\\anneluka\\AppData\\Local\\Temp\\ipykernel_12636\\2591708009.py:56: SettingWithCopyWarning: \n",
      "A value is trying to be set on a copy of a slice from a DataFrame.\n",
      "Try using .loc[row_indexer,col_indexer] = value instead\n",
      "\n",
      "See the caveats in the documentation: https://pandas.pydata.org/pandas-docs/stable/user_guide/indexing.html#returning-a-view-versus-a-copy\n",
      "  behavior[\"Y_bin\"] = np.digitize(behavior[\"Y\"], bins=bin_edges, right=False) - 1\n",
      "C:\\Users\\anneluka\\AppData\\Local\\Temp\\ipykernel_12636\\2591708009.py:56: SettingWithCopyWarning: \n",
      "A value is trying to be set on a copy of a slice from a DataFrame.\n",
      "Try using .loc[row_indexer,col_indexer] = value instead\n",
      "\n",
      "See the caveats in the documentation: https://pandas.pydata.org/pandas-docs/stable/user_guide/indexing.html#returning-a-view-versus-a-copy\n",
      "  behavior[\"Y_bin\"] = np.digitize(behavior[\"Y\"], bins=bin_edges, right=False) - 1\n"
     ]
    },
    {
     "name": "stdout",
     "output_type": "stream",
     "text": [
      "Performing LOOCV on trial 32.\n"
     ]
    },
    {
     "name": "stderr",
     "output_type": "stream",
     "text": [
      "C:\\Users\\anneluka\\AppData\\Local\\Temp\\ipykernel_12636\\2591708009.py:56: SettingWithCopyWarning: \n",
      "A value is trying to be set on a copy of a slice from a DataFrame.\n",
      "Try using .loc[row_indexer,col_indexer] = value instead\n",
      "\n",
      "See the caveats in the documentation: https://pandas.pydata.org/pandas-docs/stable/user_guide/indexing.html#returning-a-view-versus-a-copy\n",
      "  behavior[\"Y_bin\"] = np.digitize(behavior[\"Y\"], bins=bin_edges, right=False) - 1\n",
      "C:\\Users\\anneluka\\AppData\\Local\\Temp\\ipykernel_12636\\2591708009.py:56: SettingWithCopyWarning: \n",
      "A value is trying to be set on a copy of a slice from a DataFrame.\n",
      "Try using .loc[row_indexer,col_indexer] = value instead\n",
      "\n",
      "See the caveats in the documentation: https://pandas.pydata.org/pandas-docs/stable/user_guide/indexing.html#returning-a-view-versus-a-copy\n",
      "  behavior[\"Y_bin\"] = np.digitize(behavior[\"Y\"], bins=bin_edges, right=False) - 1\n"
     ]
    },
    {
     "name": "stdout",
     "output_type": "stream",
     "text": [
      "Performing LOOCV on trial 33.\n"
     ]
    },
    {
     "name": "stderr",
     "output_type": "stream",
     "text": [
      "C:\\Users\\anneluka\\AppData\\Local\\Temp\\ipykernel_12636\\2591708009.py:56: SettingWithCopyWarning: \n",
      "A value is trying to be set on a copy of a slice from a DataFrame.\n",
      "Try using .loc[row_indexer,col_indexer] = value instead\n",
      "\n",
      "See the caveats in the documentation: https://pandas.pydata.org/pandas-docs/stable/user_guide/indexing.html#returning-a-view-versus-a-copy\n",
      "  behavior[\"Y_bin\"] = np.digitize(behavior[\"Y\"], bins=bin_edges, right=False) - 1\n",
      "C:\\Users\\anneluka\\AppData\\Local\\Temp\\ipykernel_12636\\2591708009.py:56: SettingWithCopyWarning: \n",
      "A value is trying to be set on a copy of a slice from a DataFrame.\n",
      "Try using .loc[row_indexer,col_indexer] = value instead\n",
      "\n",
      "See the caveats in the documentation: https://pandas.pydata.org/pandas-docs/stable/user_guide/indexing.html#returning-a-view-versus-a-copy\n",
      "  behavior[\"Y_bin\"] = np.digitize(behavior[\"Y\"], bins=bin_edges, right=False) - 1\n"
     ]
    },
    {
     "name": "stdout",
     "output_type": "stream",
     "text": [
      "Performing LOOCV on trial 34.\n"
     ]
    },
    {
     "name": "stderr",
     "output_type": "stream",
     "text": [
      "C:\\Users\\anneluka\\AppData\\Local\\Temp\\ipykernel_12636\\2591708009.py:56: SettingWithCopyWarning: \n",
      "A value is trying to be set on a copy of a slice from a DataFrame.\n",
      "Try using .loc[row_indexer,col_indexer] = value instead\n",
      "\n",
      "See the caveats in the documentation: https://pandas.pydata.org/pandas-docs/stable/user_guide/indexing.html#returning-a-view-versus-a-copy\n",
      "  behavior[\"Y_bin\"] = np.digitize(behavior[\"Y\"], bins=bin_edges, right=False) - 1\n",
      "C:\\Users\\anneluka\\AppData\\Local\\Temp\\ipykernel_12636\\2591708009.py:56: SettingWithCopyWarning: \n",
      "A value is trying to be set on a copy of a slice from a DataFrame.\n",
      "Try using .loc[row_indexer,col_indexer] = value instead\n",
      "\n",
      "See the caveats in the documentation: https://pandas.pydata.org/pandas-docs/stable/user_guide/indexing.html#returning-a-view-versus-a-copy\n",
      "  behavior[\"Y_bin\"] = np.digitize(behavior[\"Y\"], bins=bin_edges, right=False) - 1\n"
     ]
    },
    {
     "name": "stdout",
     "output_type": "stream",
     "text": [
      "Performing LOOCV on trial 35.\n"
     ]
    },
    {
     "name": "stderr",
     "output_type": "stream",
     "text": [
      "C:\\Users\\anneluka\\AppData\\Local\\Temp\\ipykernel_12636\\2591708009.py:56: SettingWithCopyWarning: \n",
      "A value is trying to be set on a copy of a slice from a DataFrame.\n",
      "Try using .loc[row_indexer,col_indexer] = value instead\n",
      "\n",
      "See the caveats in the documentation: https://pandas.pydata.org/pandas-docs/stable/user_guide/indexing.html#returning-a-view-versus-a-copy\n",
      "  behavior[\"Y_bin\"] = np.digitize(behavior[\"Y\"], bins=bin_edges, right=False) - 1\n",
      "C:\\Users\\anneluka\\AppData\\Local\\Temp\\ipykernel_12636\\2591708009.py:56: SettingWithCopyWarning: \n",
      "A value is trying to be set on a copy of a slice from a DataFrame.\n",
      "Try using .loc[row_indexer,col_indexer] = value instead\n",
      "\n",
      "See the caveats in the documentation: https://pandas.pydata.org/pandas-docs/stable/user_guide/indexing.html#returning-a-view-versus-a-copy\n",
      "  behavior[\"Y_bin\"] = np.digitize(behavior[\"Y\"], bins=bin_edges, right=False) - 1\n"
     ]
    },
    {
     "name": "stdout",
     "output_type": "stream",
     "text": [
      "Performing LOOCV on trial 36.\n"
     ]
    },
    {
     "name": "stderr",
     "output_type": "stream",
     "text": [
      "C:\\Users\\anneluka\\AppData\\Local\\Temp\\ipykernel_12636\\2591708009.py:56: SettingWithCopyWarning: \n",
      "A value is trying to be set on a copy of a slice from a DataFrame.\n",
      "Try using .loc[row_indexer,col_indexer] = value instead\n",
      "\n",
      "See the caveats in the documentation: https://pandas.pydata.org/pandas-docs/stable/user_guide/indexing.html#returning-a-view-versus-a-copy\n",
      "  behavior[\"Y_bin\"] = np.digitize(behavior[\"Y\"], bins=bin_edges, right=False) - 1\n",
      "C:\\Users\\anneluka\\AppData\\Local\\Temp\\ipykernel_12636\\2591708009.py:56: SettingWithCopyWarning: \n",
      "A value is trying to be set on a copy of a slice from a DataFrame.\n",
      "Try using .loc[row_indexer,col_indexer] = value instead\n",
      "\n",
      "See the caveats in the documentation: https://pandas.pydata.org/pandas-docs/stable/user_guide/indexing.html#returning-a-view-versus-a-copy\n",
      "  behavior[\"Y_bin\"] = np.digitize(behavior[\"Y\"], bins=bin_edges, right=False) - 1\n"
     ]
    },
    {
     "name": "stdout",
     "output_type": "stream",
     "text": [
      "Performing LOOCV on trial 37.\n"
     ]
    },
    {
     "name": "stderr",
     "output_type": "stream",
     "text": [
      "C:\\Users\\anneluka\\AppData\\Local\\Temp\\ipykernel_12636\\2591708009.py:56: SettingWithCopyWarning: \n",
      "A value is trying to be set on a copy of a slice from a DataFrame.\n",
      "Try using .loc[row_indexer,col_indexer] = value instead\n",
      "\n",
      "See the caveats in the documentation: https://pandas.pydata.org/pandas-docs/stable/user_guide/indexing.html#returning-a-view-versus-a-copy\n",
      "  behavior[\"Y_bin\"] = np.digitize(behavior[\"Y\"], bins=bin_edges, right=False) - 1\n",
      "C:\\Users\\anneluka\\AppData\\Local\\Temp\\ipykernel_12636\\2591708009.py:56: SettingWithCopyWarning: \n",
      "A value is trying to be set on a copy of a slice from a DataFrame.\n",
      "Try using .loc[row_indexer,col_indexer] = value instead\n",
      "\n",
      "See the caveats in the documentation: https://pandas.pydata.org/pandas-docs/stable/user_guide/indexing.html#returning-a-view-versus-a-copy\n",
      "  behavior[\"Y_bin\"] = np.digitize(behavior[\"Y\"], bins=bin_edges, right=False) - 1\n"
     ]
    },
    {
     "name": "stdout",
     "output_type": "stream",
     "text": [
      "Performing LOOCV on trial 38.\n"
     ]
    },
    {
     "name": "stderr",
     "output_type": "stream",
     "text": [
      "C:\\Users\\anneluka\\AppData\\Local\\Temp\\ipykernel_12636\\2591708009.py:56: SettingWithCopyWarning: \n",
      "A value is trying to be set on a copy of a slice from a DataFrame.\n",
      "Try using .loc[row_indexer,col_indexer] = value instead\n",
      "\n",
      "See the caveats in the documentation: https://pandas.pydata.org/pandas-docs/stable/user_guide/indexing.html#returning-a-view-versus-a-copy\n",
      "  behavior[\"Y_bin\"] = np.digitize(behavior[\"Y\"], bins=bin_edges, right=False) - 1\n",
      "C:\\Users\\anneluka\\AppData\\Local\\Temp\\ipykernel_12636\\2591708009.py:56: SettingWithCopyWarning: \n",
      "A value is trying to be set on a copy of a slice from a DataFrame.\n",
      "Try using .loc[row_indexer,col_indexer] = value instead\n",
      "\n",
      "See the caveats in the documentation: https://pandas.pydata.org/pandas-docs/stable/user_guide/indexing.html#returning-a-view-versus-a-copy\n",
      "  behavior[\"Y_bin\"] = np.digitize(behavior[\"Y\"], bins=bin_edges, right=False) - 1\n"
     ]
    },
    {
     "name": "stdout",
     "output_type": "stream",
     "text": [
      "Performing LOOCV on trial 39.\n"
     ]
    },
    {
     "name": "stderr",
     "output_type": "stream",
     "text": [
      "C:\\Users\\anneluka\\AppData\\Local\\Temp\\ipykernel_12636\\2591708009.py:56: SettingWithCopyWarning: \n",
      "A value is trying to be set on a copy of a slice from a DataFrame.\n",
      "Try using .loc[row_indexer,col_indexer] = value instead\n",
      "\n",
      "See the caveats in the documentation: https://pandas.pydata.org/pandas-docs/stable/user_guide/indexing.html#returning-a-view-versus-a-copy\n",
      "  behavior[\"Y_bin\"] = np.digitize(behavior[\"Y\"], bins=bin_edges, right=False) - 1\n",
      "C:\\Users\\anneluka\\AppData\\Local\\Temp\\ipykernel_12636\\2591708009.py:56: SettingWithCopyWarning: \n",
      "A value is trying to be set on a copy of a slice from a DataFrame.\n",
      "Try using .loc[row_indexer,col_indexer] = value instead\n",
      "\n",
      "See the caveats in the documentation: https://pandas.pydata.org/pandas-docs/stable/user_guide/indexing.html#returning-a-view-versus-a-copy\n",
      "  behavior[\"Y_bin\"] = np.digitize(behavior[\"Y\"], bins=bin_edges, right=False) - 1\n"
     ]
    },
    {
     "name": "stdout",
     "output_type": "stream",
     "text": [
      "Performing LOOCV on trial 40.\n"
     ]
    },
    {
     "name": "stderr",
     "output_type": "stream",
     "text": [
      "C:\\Users\\anneluka\\AppData\\Local\\Temp\\ipykernel_12636\\2591708009.py:56: SettingWithCopyWarning: \n",
      "A value is trying to be set on a copy of a slice from a DataFrame.\n",
      "Try using .loc[row_indexer,col_indexer] = value instead\n",
      "\n",
      "See the caveats in the documentation: https://pandas.pydata.org/pandas-docs/stable/user_guide/indexing.html#returning-a-view-versus-a-copy\n",
      "  behavior[\"Y_bin\"] = np.digitize(behavior[\"Y\"], bins=bin_edges, right=False) - 1\n",
      "C:\\Users\\anneluka\\AppData\\Local\\Temp\\ipykernel_12636\\2591708009.py:56: SettingWithCopyWarning: \n",
      "A value is trying to be set on a copy of a slice from a DataFrame.\n",
      "Try using .loc[row_indexer,col_indexer] = value instead\n",
      "\n",
      "See the caveats in the documentation: https://pandas.pydata.org/pandas-docs/stable/user_guide/indexing.html#returning-a-view-versus-a-copy\n",
      "  behavior[\"Y_bin\"] = np.digitize(behavior[\"Y\"], bins=bin_edges, right=False) - 1\n"
     ]
    },
    {
     "name": "stdout",
     "output_type": "stream",
     "text": [
      "Performing LOOCV on trial 41.\n"
     ]
    },
    {
     "name": "stderr",
     "output_type": "stream",
     "text": [
      "C:\\Users\\anneluka\\AppData\\Local\\Temp\\ipykernel_12636\\2591708009.py:56: SettingWithCopyWarning: \n",
      "A value is trying to be set on a copy of a slice from a DataFrame.\n",
      "Try using .loc[row_indexer,col_indexer] = value instead\n",
      "\n",
      "See the caveats in the documentation: https://pandas.pydata.org/pandas-docs/stable/user_guide/indexing.html#returning-a-view-versus-a-copy\n",
      "  behavior[\"Y_bin\"] = np.digitize(behavior[\"Y\"], bins=bin_edges, right=False) - 1\n",
      "C:\\Users\\anneluka\\AppData\\Local\\Temp\\ipykernel_12636\\2591708009.py:56: SettingWithCopyWarning: \n",
      "A value is trying to be set on a copy of a slice from a DataFrame.\n",
      "Try using .loc[row_indexer,col_indexer] = value instead\n",
      "\n",
      "See the caveats in the documentation: https://pandas.pydata.org/pandas-docs/stable/user_guide/indexing.html#returning-a-view-versus-a-copy\n",
      "  behavior[\"Y_bin\"] = np.digitize(behavior[\"Y\"], bins=bin_edges, right=False) - 1\n"
     ]
    },
    {
     "name": "stdout",
     "output_type": "stream",
     "text": [
      "Performing LOOCV on trial 42.\n"
     ]
    },
    {
     "name": "stderr",
     "output_type": "stream",
     "text": [
      "C:\\Users\\anneluka\\AppData\\Local\\Temp\\ipykernel_12636\\2591708009.py:56: SettingWithCopyWarning: \n",
      "A value is trying to be set on a copy of a slice from a DataFrame.\n",
      "Try using .loc[row_indexer,col_indexer] = value instead\n",
      "\n",
      "See the caveats in the documentation: https://pandas.pydata.org/pandas-docs/stable/user_guide/indexing.html#returning-a-view-versus-a-copy\n",
      "  behavior[\"Y_bin\"] = np.digitize(behavior[\"Y\"], bins=bin_edges, right=False) - 1\n",
      "C:\\Users\\anneluka\\AppData\\Local\\Temp\\ipykernel_12636\\2591708009.py:56: SettingWithCopyWarning: \n",
      "A value is trying to be set on a copy of a slice from a DataFrame.\n",
      "Try using .loc[row_indexer,col_indexer] = value instead\n",
      "\n",
      "See the caveats in the documentation: https://pandas.pydata.org/pandas-docs/stable/user_guide/indexing.html#returning-a-view-versus-a-copy\n",
      "  behavior[\"Y_bin\"] = np.digitize(behavior[\"Y\"], bins=bin_edges, right=False) - 1\n"
     ]
    },
    {
     "name": "stdout",
     "output_type": "stream",
     "text": [
      "Performing LOOCV on trial 43.\n"
     ]
    },
    {
     "name": "stderr",
     "output_type": "stream",
     "text": [
      "C:\\Users\\anneluka\\AppData\\Local\\Temp\\ipykernel_12636\\2591708009.py:56: SettingWithCopyWarning: \n",
      "A value is trying to be set on a copy of a slice from a DataFrame.\n",
      "Try using .loc[row_indexer,col_indexer] = value instead\n",
      "\n",
      "See the caveats in the documentation: https://pandas.pydata.org/pandas-docs/stable/user_guide/indexing.html#returning-a-view-versus-a-copy\n",
      "  behavior[\"Y_bin\"] = np.digitize(behavior[\"Y\"], bins=bin_edges, right=False) - 1\n",
      "C:\\Users\\anneluka\\AppData\\Local\\Temp\\ipykernel_12636\\2591708009.py:56: SettingWithCopyWarning: \n",
      "A value is trying to be set on a copy of a slice from a DataFrame.\n",
      "Try using .loc[row_indexer,col_indexer] = value instead\n",
      "\n",
      "See the caveats in the documentation: https://pandas.pydata.org/pandas-docs/stable/user_guide/indexing.html#returning-a-view-versus-a-copy\n",
      "  behavior[\"Y_bin\"] = np.digitize(behavior[\"Y\"], bins=bin_edges, right=False) - 1\n"
     ]
    },
    {
     "name": "stdout",
     "output_type": "stream",
     "text": [
      "Performing LOOCV on trial 44.\n"
     ]
    },
    {
     "name": "stderr",
     "output_type": "stream",
     "text": [
      "C:\\Users\\anneluka\\AppData\\Local\\Temp\\ipykernel_12636\\2591708009.py:56: SettingWithCopyWarning: \n",
      "A value is trying to be set on a copy of a slice from a DataFrame.\n",
      "Try using .loc[row_indexer,col_indexer] = value instead\n",
      "\n",
      "See the caveats in the documentation: https://pandas.pydata.org/pandas-docs/stable/user_guide/indexing.html#returning-a-view-versus-a-copy\n",
      "  behavior[\"Y_bin\"] = np.digitize(behavior[\"Y\"], bins=bin_edges, right=False) - 1\n",
      "C:\\Users\\anneluka\\AppData\\Local\\Temp\\ipykernel_12636\\2591708009.py:56: SettingWithCopyWarning: \n",
      "A value is trying to be set on a copy of a slice from a DataFrame.\n",
      "Try using .loc[row_indexer,col_indexer] = value instead\n",
      "\n",
      "See the caveats in the documentation: https://pandas.pydata.org/pandas-docs/stable/user_guide/indexing.html#returning-a-view-versus-a-copy\n",
      "  behavior[\"Y_bin\"] = np.digitize(behavior[\"Y\"], bins=bin_edges, right=False) - 1\n"
     ]
    },
    {
     "name": "stdout",
     "output_type": "stream",
     "text": [
      "Performing LOOCV on trial 45.\n"
     ]
    },
    {
     "name": "stderr",
     "output_type": "stream",
     "text": [
      "C:\\Users\\anneluka\\AppData\\Local\\Temp\\ipykernel_12636\\2591708009.py:56: SettingWithCopyWarning: \n",
      "A value is trying to be set on a copy of a slice from a DataFrame.\n",
      "Try using .loc[row_indexer,col_indexer] = value instead\n",
      "\n",
      "See the caveats in the documentation: https://pandas.pydata.org/pandas-docs/stable/user_guide/indexing.html#returning-a-view-versus-a-copy\n",
      "  behavior[\"Y_bin\"] = np.digitize(behavior[\"Y\"], bins=bin_edges, right=False) - 1\n",
      "C:\\Users\\anneluka\\AppData\\Local\\Temp\\ipykernel_12636\\2591708009.py:56: SettingWithCopyWarning: \n",
      "A value is trying to be set on a copy of a slice from a DataFrame.\n",
      "Try using .loc[row_indexer,col_indexer] = value instead\n",
      "\n",
      "See the caveats in the documentation: https://pandas.pydata.org/pandas-docs/stable/user_guide/indexing.html#returning-a-view-versus-a-copy\n",
      "  behavior[\"Y_bin\"] = np.digitize(behavior[\"Y\"], bins=bin_edges, right=False) - 1\n"
     ]
    },
    {
     "name": "stdout",
     "output_type": "stream",
     "text": [
      "Performing LOOCV on trial 46.\n"
     ]
    },
    {
     "name": "stderr",
     "output_type": "stream",
     "text": [
      "C:\\Users\\anneluka\\AppData\\Local\\Temp\\ipykernel_12636\\2591708009.py:56: SettingWithCopyWarning: \n",
      "A value is trying to be set on a copy of a slice from a DataFrame.\n",
      "Try using .loc[row_indexer,col_indexer] = value instead\n",
      "\n",
      "See the caveats in the documentation: https://pandas.pydata.org/pandas-docs/stable/user_guide/indexing.html#returning-a-view-versus-a-copy\n",
      "  behavior[\"Y_bin\"] = np.digitize(behavior[\"Y\"], bins=bin_edges, right=False) - 1\n",
      "C:\\Users\\anneluka\\AppData\\Local\\Temp\\ipykernel_12636\\2591708009.py:56: SettingWithCopyWarning: \n",
      "A value is trying to be set on a copy of a slice from a DataFrame.\n",
      "Try using .loc[row_indexer,col_indexer] = value instead\n",
      "\n",
      "See the caveats in the documentation: https://pandas.pydata.org/pandas-docs/stable/user_guide/indexing.html#returning-a-view-versus-a-copy\n",
      "  behavior[\"Y_bin\"] = np.digitize(behavior[\"Y\"], bins=bin_edges, right=False) - 1\n"
     ]
    },
    {
     "name": "stdout",
     "output_type": "stream",
     "text": [
      "Performing LOOCV on trial 47.\n"
     ]
    },
    {
     "name": "stderr",
     "output_type": "stream",
     "text": [
      "C:\\Users\\anneluka\\AppData\\Local\\Temp\\ipykernel_12636\\2591708009.py:56: SettingWithCopyWarning: \n",
      "A value is trying to be set on a copy of a slice from a DataFrame.\n",
      "Try using .loc[row_indexer,col_indexer] = value instead\n",
      "\n",
      "See the caveats in the documentation: https://pandas.pydata.org/pandas-docs/stable/user_guide/indexing.html#returning-a-view-versus-a-copy\n",
      "  behavior[\"Y_bin\"] = np.digitize(behavior[\"Y\"], bins=bin_edges, right=False) - 1\n",
      "C:\\Users\\anneluka\\AppData\\Local\\Temp\\ipykernel_12636\\2591708009.py:56: SettingWithCopyWarning: \n",
      "A value is trying to be set on a copy of a slice from a DataFrame.\n",
      "Try using .loc[row_indexer,col_indexer] = value instead\n",
      "\n",
      "See the caveats in the documentation: https://pandas.pydata.org/pandas-docs/stable/user_guide/indexing.html#returning-a-view-versus-a-copy\n",
      "  behavior[\"Y_bin\"] = np.digitize(behavior[\"Y\"], bins=bin_edges, right=False) - 1\n"
     ]
    },
    {
     "name": "stdout",
     "output_type": "stream",
     "text": [
      "Performing LOOCV on trial 48.\n"
     ]
    },
    {
     "name": "stderr",
     "output_type": "stream",
     "text": [
      "C:\\Users\\anneluka\\AppData\\Local\\Temp\\ipykernel_12636\\2591708009.py:56: SettingWithCopyWarning: \n",
      "A value is trying to be set on a copy of a slice from a DataFrame.\n",
      "Try using .loc[row_indexer,col_indexer] = value instead\n",
      "\n",
      "See the caveats in the documentation: https://pandas.pydata.org/pandas-docs/stable/user_guide/indexing.html#returning-a-view-versus-a-copy\n",
      "  behavior[\"Y_bin\"] = np.digitize(behavior[\"Y\"], bins=bin_edges, right=False) - 1\n",
      "C:\\Users\\anneluka\\AppData\\Local\\Temp\\ipykernel_12636\\2591708009.py:56: SettingWithCopyWarning: \n",
      "A value is trying to be set on a copy of a slice from a DataFrame.\n",
      "Try using .loc[row_indexer,col_indexer] = value instead\n",
      "\n",
      "See the caveats in the documentation: https://pandas.pydata.org/pandas-docs/stable/user_guide/indexing.html#returning-a-view-versus-a-copy\n",
      "  behavior[\"Y_bin\"] = np.digitize(behavior[\"Y\"], bins=bin_edges, right=False) - 1\n"
     ]
    },
    {
     "name": "stdout",
     "output_type": "stream",
     "text": [
      "Performing LOOCV on trial 49.\n"
     ]
    },
    {
     "name": "stderr",
     "output_type": "stream",
     "text": [
      "C:\\Users\\anneluka\\AppData\\Local\\Temp\\ipykernel_12636\\2591708009.py:56: SettingWithCopyWarning: \n",
      "A value is trying to be set on a copy of a slice from a DataFrame.\n",
      "Try using .loc[row_indexer,col_indexer] = value instead\n",
      "\n",
      "See the caveats in the documentation: https://pandas.pydata.org/pandas-docs/stable/user_guide/indexing.html#returning-a-view-versus-a-copy\n",
      "  behavior[\"Y_bin\"] = np.digitize(behavior[\"Y\"], bins=bin_edges, right=False) - 1\n",
      "C:\\Users\\anneluka\\AppData\\Local\\Temp\\ipykernel_12636\\2591708009.py:56: SettingWithCopyWarning: \n",
      "A value is trying to be set on a copy of a slice from a DataFrame.\n",
      "Try using .loc[row_indexer,col_indexer] = value instead\n",
      "\n",
      "See the caveats in the documentation: https://pandas.pydata.org/pandas-docs/stable/user_guide/indexing.html#returning-a-view-versus-a-copy\n",
      "  behavior[\"Y_bin\"] = np.digitize(behavior[\"Y\"], bins=bin_edges, right=False) - 1\n"
     ]
    },
    {
     "name": "stdout",
     "output_type": "stream",
     "text": [
      "Performing LOOCV on trial 50.\n"
     ]
    },
    {
     "name": "stderr",
     "output_type": "stream",
     "text": [
      "C:\\Users\\anneluka\\AppData\\Local\\Temp\\ipykernel_12636\\2591708009.py:56: SettingWithCopyWarning: \n",
      "A value is trying to be set on a copy of a slice from a DataFrame.\n",
      "Try using .loc[row_indexer,col_indexer] = value instead\n",
      "\n",
      "See the caveats in the documentation: https://pandas.pydata.org/pandas-docs/stable/user_guide/indexing.html#returning-a-view-versus-a-copy\n",
      "  behavior[\"Y_bin\"] = np.digitize(behavior[\"Y\"], bins=bin_edges, right=False) - 1\n",
      "C:\\Users\\anneluka\\AppData\\Local\\Temp\\ipykernel_12636\\2591708009.py:56: SettingWithCopyWarning: \n",
      "A value is trying to be set on a copy of a slice from a DataFrame.\n",
      "Try using .loc[row_indexer,col_indexer] = value instead\n",
      "\n",
      "See the caveats in the documentation: https://pandas.pydata.org/pandas-docs/stable/user_guide/indexing.html#returning-a-view-versus-a-copy\n",
      "  behavior[\"Y_bin\"] = np.digitize(behavior[\"Y\"], bins=bin_edges, right=False) - 1\n"
     ]
    },
    {
     "name": "stdout",
     "output_type": "stream",
     "text": [
      "Performing LOOCV on trial 51.\n"
     ]
    },
    {
     "name": "stderr",
     "output_type": "stream",
     "text": [
      "C:\\Users\\anneluka\\AppData\\Local\\Temp\\ipykernel_12636\\2591708009.py:56: SettingWithCopyWarning: \n",
      "A value is trying to be set on a copy of a slice from a DataFrame.\n",
      "Try using .loc[row_indexer,col_indexer] = value instead\n",
      "\n",
      "See the caveats in the documentation: https://pandas.pydata.org/pandas-docs/stable/user_guide/indexing.html#returning-a-view-versus-a-copy\n",
      "  behavior[\"Y_bin\"] = np.digitize(behavior[\"Y\"], bins=bin_edges, right=False) - 1\n",
      "C:\\Users\\anneluka\\AppData\\Local\\Temp\\ipykernel_12636\\2591708009.py:56: SettingWithCopyWarning: \n",
      "A value is trying to be set on a copy of a slice from a DataFrame.\n",
      "Try using .loc[row_indexer,col_indexer] = value instead\n",
      "\n",
      "See the caveats in the documentation: https://pandas.pydata.org/pandas-docs/stable/user_guide/indexing.html#returning-a-view-versus-a-copy\n",
      "  behavior[\"Y_bin\"] = np.digitize(behavior[\"Y\"], bins=bin_edges, right=False) - 1\n"
     ]
    },
    {
     "name": "stdout",
     "output_type": "stream",
     "text": [
      "Performing LOOCV on trial 52.\n"
     ]
    },
    {
     "name": "stderr",
     "output_type": "stream",
     "text": [
      "C:\\Users\\anneluka\\AppData\\Local\\Temp\\ipykernel_12636\\2591708009.py:56: SettingWithCopyWarning: \n",
      "A value is trying to be set on a copy of a slice from a DataFrame.\n",
      "Try using .loc[row_indexer,col_indexer] = value instead\n",
      "\n",
      "See the caveats in the documentation: https://pandas.pydata.org/pandas-docs/stable/user_guide/indexing.html#returning-a-view-versus-a-copy\n",
      "  behavior[\"Y_bin\"] = np.digitize(behavior[\"Y\"], bins=bin_edges, right=False) - 1\n",
      "C:\\Users\\anneluka\\AppData\\Local\\Temp\\ipykernel_12636\\2591708009.py:56: SettingWithCopyWarning: \n",
      "A value is trying to be set on a copy of a slice from a DataFrame.\n",
      "Try using .loc[row_indexer,col_indexer] = value instead\n",
      "\n",
      "See the caveats in the documentation: https://pandas.pydata.org/pandas-docs/stable/user_guide/indexing.html#returning-a-view-versus-a-copy\n",
      "  behavior[\"Y_bin\"] = np.digitize(behavior[\"Y\"], bins=bin_edges, right=False) - 1\n"
     ]
    },
    {
     "name": "stdout",
     "output_type": "stream",
     "text": [
      "Performing LOOCV on trial 53.\n"
     ]
    },
    {
     "name": "stderr",
     "output_type": "stream",
     "text": [
      "C:\\Users\\anneluka\\AppData\\Local\\Temp\\ipykernel_12636\\2591708009.py:56: SettingWithCopyWarning: \n",
      "A value is trying to be set on a copy of a slice from a DataFrame.\n",
      "Try using .loc[row_indexer,col_indexer] = value instead\n",
      "\n",
      "See the caveats in the documentation: https://pandas.pydata.org/pandas-docs/stable/user_guide/indexing.html#returning-a-view-versus-a-copy\n",
      "  behavior[\"Y_bin\"] = np.digitize(behavior[\"Y\"], bins=bin_edges, right=False) - 1\n",
      "C:\\Users\\anneluka\\AppData\\Local\\Temp\\ipykernel_12636\\2591708009.py:56: SettingWithCopyWarning: \n",
      "A value is trying to be set on a copy of a slice from a DataFrame.\n",
      "Try using .loc[row_indexer,col_indexer] = value instead\n",
      "\n",
      "See the caveats in the documentation: https://pandas.pydata.org/pandas-docs/stable/user_guide/indexing.html#returning-a-view-versus-a-copy\n",
      "  behavior[\"Y_bin\"] = np.digitize(behavior[\"Y\"], bins=bin_edges, right=False) - 1\n"
     ]
    },
    {
     "name": "stdout",
     "output_type": "stream",
     "text": [
      "Performing LOOCV on trial 54.\n"
     ]
    },
    {
     "name": "stderr",
     "output_type": "stream",
     "text": [
      "C:\\Users\\anneluka\\AppData\\Local\\Temp\\ipykernel_12636\\2591708009.py:56: SettingWithCopyWarning: \n",
      "A value is trying to be set on a copy of a slice from a DataFrame.\n",
      "Try using .loc[row_indexer,col_indexer] = value instead\n",
      "\n",
      "See the caveats in the documentation: https://pandas.pydata.org/pandas-docs/stable/user_guide/indexing.html#returning-a-view-versus-a-copy\n",
      "  behavior[\"Y_bin\"] = np.digitize(behavior[\"Y\"], bins=bin_edges, right=False) - 1\n",
      "C:\\Users\\anneluka\\AppData\\Local\\Temp\\ipykernel_12636\\2591708009.py:56: SettingWithCopyWarning: \n",
      "A value is trying to be set on a copy of a slice from a DataFrame.\n",
      "Try using .loc[row_indexer,col_indexer] = value instead\n",
      "\n",
      "See the caveats in the documentation: https://pandas.pydata.org/pandas-docs/stable/user_guide/indexing.html#returning-a-view-versus-a-copy\n",
      "  behavior[\"Y_bin\"] = np.digitize(behavior[\"Y\"], bins=bin_edges, right=False) - 1\n"
     ]
    },
    {
     "name": "stdout",
     "output_type": "stream",
     "text": [
      "Performing LOOCV on trial 55.\n"
     ]
    },
    {
     "name": "stderr",
     "output_type": "stream",
     "text": [
      "C:\\Users\\anneluka\\AppData\\Local\\Temp\\ipykernel_12636\\2591708009.py:56: SettingWithCopyWarning: \n",
      "A value is trying to be set on a copy of a slice from a DataFrame.\n",
      "Try using .loc[row_indexer,col_indexer] = value instead\n",
      "\n",
      "See the caveats in the documentation: https://pandas.pydata.org/pandas-docs/stable/user_guide/indexing.html#returning-a-view-versus-a-copy\n",
      "  behavior[\"Y_bin\"] = np.digitize(behavior[\"Y\"], bins=bin_edges, right=False) - 1\n",
      "C:\\Users\\anneluka\\AppData\\Local\\Temp\\ipykernel_12636\\2591708009.py:56: SettingWithCopyWarning: \n",
      "A value is trying to be set on a copy of a slice from a DataFrame.\n",
      "Try using .loc[row_indexer,col_indexer] = value instead\n",
      "\n",
      "See the caveats in the documentation: https://pandas.pydata.org/pandas-docs/stable/user_guide/indexing.html#returning-a-view-versus-a-copy\n",
      "  behavior[\"Y_bin\"] = np.digitize(behavior[\"Y\"], bins=bin_edges, right=False) - 1\n"
     ]
    },
    {
     "name": "stdout",
     "output_type": "stream",
     "text": [
      "Performing LOOCV on trial 56.\n"
     ]
    },
    {
     "name": "stderr",
     "output_type": "stream",
     "text": [
      "C:\\Users\\anneluka\\AppData\\Local\\Temp\\ipykernel_12636\\2591708009.py:56: SettingWithCopyWarning: \n",
      "A value is trying to be set on a copy of a slice from a DataFrame.\n",
      "Try using .loc[row_indexer,col_indexer] = value instead\n",
      "\n",
      "See the caveats in the documentation: https://pandas.pydata.org/pandas-docs/stable/user_guide/indexing.html#returning-a-view-versus-a-copy\n",
      "  behavior[\"Y_bin\"] = np.digitize(behavior[\"Y\"], bins=bin_edges, right=False) - 1\n",
      "C:\\Users\\anneluka\\AppData\\Local\\Temp\\ipykernel_12636\\2591708009.py:56: SettingWithCopyWarning: \n",
      "A value is trying to be set on a copy of a slice from a DataFrame.\n",
      "Try using .loc[row_indexer,col_indexer] = value instead\n",
      "\n",
      "See the caveats in the documentation: https://pandas.pydata.org/pandas-docs/stable/user_guide/indexing.html#returning-a-view-versus-a-copy\n",
      "  behavior[\"Y_bin\"] = np.digitize(behavior[\"Y\"], bins=bin_edges, right=False) - 1\n"
     ]
    },
    {
     "name": "stdout",
     "output_type": "stream",
     "text": [
      "Performing LOOCV on trial 57.\n"
     ]
    },
    {
     "name": "stderr",
     "output_type": "stream",
     "text": [
      "C:\\Users\\anneluka\\AppData\\Local\\Temp\\ipykernel_12636\\2591708009.py:56: SettingWithCopyWarning: \n",
      "A value is trying to be set on a copy of a slice from a DataFrame.\n",
      "Try using .loc[row_indexer,col_indexer] = value instead\n",
      "\n",
      "See the caveats in the documentation: https://pandas.pydata.org/pandas-docs/stable/user_guide/indexing.html#returning-a-view-versus-a-copy\n",
      "  behavior[\"Y_bin\"] = np.digitize(behavior[\"Y\"], bins=bin_edges, right=False) - 1\n",
      "C:\\Users\\anneluka\\AppData\\Local\\Temp\\ipykernel_12636\\2591708009.py:56: SettingWithCopyWarning: \n",
      "A value is trying to be set on a copy of a slice from a DataFrame.\n",
      "Try using .loc[row_indexer,col_indexer] = value instead\n",
      "\n",
      "See the caveats in the documentation: https://pandas.pydata.org/pandas-docs/stable/user_guide/indexing.html#returning-a-view-versus-a-copy\n",
      "  behavior[\"Y_bin\"] = np.digitize(behavior[\"Y\"], bins=bin_edges, right=False) - 1\n"
     ]
    },
    {
     "name": "stdout",
     "output_type": "stream",
     "text": [
      "Performing LOOCV on trial 58.\n"
     ]
    },
    {
     "name": "stderr",
     "output_type": "stream",
     "text": [
      "C:\\Users\\anneluka\\AppData\\Local\\Temp\\ipykernel_12636\\2591708009.py:56: SettingWithCopyWarning: \n",
      "A value is trying to be set on a copy of a slice from a DataFrame.\n",
      "Try using .loc[row_indexer,col_indexer] = value instead\n",
      "\n",
      "See the caveats in the documentation: https://pandas.pydata.org/pandas-docs/stable/user_guide/indexing.html#returning-a-view-versus-a-copy\n",
      "  behavior[\"Y_bin\"] = np.digitize(behavior[\"Y\"], bins=bin_edges, right=False) - 1\n",
      "C:\\Users\\anneluka\\AppData\\Local\\Temp\\ipykernel_12636\\2591708009.py:56: SettingWithCopyWarning: \n",
      "A value is trying to be set on a copy of a slice from a DataFrame.\n",
      "Try using .loc[row_indexer,col_indexer] = value instead\n",
      "\n",
      "See the caveats in the documentation: https://pandas.pydata.org/pandas-docs/stable/user_guide/indexing.html#returning-a-view-versus-a-copy\n",
      "  behavior[\"Y_bin\"] = np.digitize(behavior[\"Y\"], bins=bin_edges, right=False) - 1\n"
     ]
    },
    {
     "name": "stdout",
     "output_type": "stream",
     "text": [
      "Performing LOOCV on trial 59.\n"
     ]
    },
    {
     "name": "stderr",
     "output_type": "stream",
     "text": [
      "C:\\Users\\anneluka\\AppData\\Local\\Temp\\ipykernel_12636\\2591708009.py:56: SettingWithCopyWarning: \n",
      "A value is trying to be set on a copy of a slice from a DataFrame.\n",
      "Try using .loc[row_indexer,col_indexer] = value instead\n",
      "\n",
      "See the caveats in the documentation: https://pandas.pydata.org/pandas-docs/stable/user_guide/indexing.html#returning-a-view-versus-a-copy\n",
      "  behavior[\"Y_bin\"] = np.digitize(behavior[\"Y\"], bins=bin_edges, right=False) - 1\n",
      "C:\\Users\\anneluka\\AppData\\Local\\Temp\\ipykernel_12636\\2591708009.py:56: SettingWithCopyWarning: \n",
      "A value is trying to be set on a copy of a slice from a DataFrame.\n",
      "Try using .loc[row_indexer,col_indexer] = value instead\n",
      "\n",
      "See the caveats in the documentation: https://pandas.pydata.org/pandas-docs/stable/user_guide/indexing.html#returning-a-view-versus-a-copy\n",
      "  behavior[\"Y_bin\"] = np.digitize(behavior[\"Y\"], bins=bin_edges, right=False) - 1\n"
     ]
    },
    {
     "name": "stdout",
     "output_type": "stream",
     "text": [
      "Performing LOOCV on trial 60.\n"
     ]
    },
    {
     "name": "stderr",
     "output_type": "stream",
     "text": [
      "C:\\Users\\anneluka\\AppData\\Local\\Temp\\ipykernel_12636\\2591708009.py:56: SettingWithCopyWarning: \n",
      "A value is trying to be set on a copy of a slice from a DataFrame.\n",
      "Try using .loc[row_indexer,col_indexer] = value instead\n",
      "\n",
      "See the caveats in the documentation: https://pandas.pydata.org/pandas-docs/stable/user_guide/indexing.html#returning-a-view-versus-a-copy\n",
      "  behavior[\"Y_bin\"] = np.digitize(behavior[\"Y\"], bins=bin_edges, right=False) - 1\n",
      "C:\\Users\\anneluka\\AppData\\Local\\Temp\\ipykernel_12636\\2591708009.py:56: SettingWithCopyWarning: \n",
      "A value is trying to be set on a copy of a slice from a DataFrame.\n",
      "Try using .loc[row_indexer,col_indexer] = value instead\n",
      "\n",
      "See the caveats in the documentation: https://pandas.pydata.org/pandas-docs/stable/user_guide/indexing.html#returning-a-view-versus-a-copy\n",
      "  behavior[\"Y_bin\"] = np.digitize(behavior[\"Y\"], bins=bin_edges, right=False) - 1\n"
     ]
    },
    {
     "name": "stdout",
     "output_type": "stream",
     "text": [
      "Performing LOOCV on trial 61.\n"
     ]
    },
    {
     "name": "stderr",
     "output_type": "stream",
     "text": [
      "C:\\Users\\anneluka\\AppData\\Local\\Temp\\ipykernel_12636\\2591708009.py:56: SettingWithCopyWarning: \n",
      "A value is trying to be set on a copy of a slice from a DataFrame.\n",
      "Try using .loc[row_indexer,col_indexer] = value instead\n",
      "\n",
      "See the caveats in the documentation: https://pandas.pydata.org/pandas-docs/stable/user_guide/indexing.html#returning-a-view-versus-a-copy\n",
      "  behavior[\"Y_bin\"] = np.digitize(behavior[\"Y\"], bins=bin_edges, right=False) - 1\n",
      "C:\\Users\\anneluka\\AppData\\Local\\Temp\\ipykernel_12636\\2591708009.py:56: SettingWithCopyWarning: \n",
      "A value is trying to be set on a copy of a slice from a DataFrame.\n",
      "Try using .loc[row_indexer,col_indexer] = value instead\n",
      "\n",
      "See the caveats in the documentation: https://pandas.pydata.org/pandas-docs/stable/user_guide/indexing.html#returning-a-view-versus-a-copy\n",
      "  behavior[\"Y_bin\"] = np.digitize(behavior[\"Y\"], bins=bin_edges, right=False) - 1\n"
     ]
    },
    {
     "name": "stdout",
     "output_type": "stream",
     "text": [
      "Performing LOOCV on trial 62.\n"
     ]
    },
    {
     "name": "stderr",
     "output_type": "stream",
     "text": [
      "C:\\Users\\anneluka\\AppData\\Local\\Temp\\ipykernel_12636\\2591708009.py:56: SettingWithCopyWarning: \n",
      "A value is trying to be set on a copy of a slice from a DataFrame.\n",
      "Try using .loc[row_indexer,col_indexer] = value instead\n",
      "\n",
      "See the caveats in the documentation: https://pandas.pydata.org/pandas-docs/stable/user_guide/indexing.html#returning-a-view-versus-a-copy\n",
      "  behavior[\"Y_bin\"] = np.digitize(behavior[\"Y\"], bins=bin_edges, right=False) - 1\n",
      "C:\\Users\\anneluka\\AppData\\Local\\Temp\\ipykernel_12636\\2591708009.py:56: SettingWithCopyWarning: \n",
      "A value is trying to be set on a copy of a slice from a DataFrame.\n",
      "Try using .loc[row_indexer,col_indexer] = value instead\n",
      "\n",
      "See the caveats in the documentation: https://pandas.pydata.org/pandas-docs/stable/user_guide/indexing.html#returning-a-view-versus-a-copy\n",
      "  behavior[\"Y_bin\"] = np.digitize(behavior[\"Y\"], bins=bin_edges, right=False) - 1\n"
     ]
    },
    {
     "name": "stdout",
     "output_type": "stream",
     "text": [
      "Performing LOOCV on trial 63.\n"
     ]
    },
    {
     "name": "stderr",
     "output_type": "stream",
     "text": [
      "C:\\Users\\anneluka\\AppData\\Local\\Temp\\ipykernel_12636\\2591708009.py:56: SettingWithCopyWarning: \n",
      "A value is trying to be set on a copy of a slice from a DataFrame.\n",
      "Try using .loc[row_indexer,col_indexer] = value instead\n",
      "\n",
      "See the caveats in the documentation: https://pandas.pydata.org/pandas-docs/stable/user_guide/indexing.html#returning-a-view-versus-a-copy\n",
      "  behavior[\"Y_bin\"] = np.digitize(behavior[\"Y\"], bins=bin_edges, right=False) - 1\n",
      "C:\\Users\\anneluka\\AppData\\Local\\Temp\\ipykernel_12636\\2591708009.py:56: SettingWithCopyWarning: \n",
      "A value is trying to be set on a copy of a slice from a DataFrame.\n",
      "Try using .loc[row_indexer,col_indexer] = value instead\n",
      "\n",
      "See the caveats in the documentation: https://pandas.pydata.org/pandas-docs/stable/user_guide/indexing.html#returning-a-view-versus-a-copy\n",
      "  behavior[\"Y_bin\"] = np.digitize(behavior[\"Y\"], bins=bin_edges, right=False) - 1\n"
     ]
    },
    {
     "name": "stdout",
     "output_type": "stream",
     "text": [
      "Performing LOOCV on trial 64.\n"
     ]
    },
    {
     "name": "stderr",
     "output_type": "stream",
     "text": [
      "C:\\Users\\anneluka\\AppData\\Local\\Temp\\ipykernel_12636\\2591708009.py:56: SettingWithCopyWarning: \n",
      "A value is trying to be set on a copy of a slice from a DataFrame.\n",
      "Try using .loc[row_indexer,col_indexer] = value instead\n",
      "\n",
      "See the caveats in the documentation: https://pandas.pydata.org/pandas-docs/stable/user_guide/indexing.html#returning-a-view-versus-a-copy\n",
      "  behavior[\"Y_bin\"] = np.digitize(behavior[\"Y\"], bins=bin_edges, right=False) - 1\n",
      "C:\\Users\\anneluka\\AppData\\Local\\Temp\\ipykernel_12636\\2591708009.py:56: SettingWithCopyWarning: \n",
      "A value is trying to be set on a copy of a slice from a DataFrame.\n",
      "Try using .loc[row_indexer,col_indexer] = value instead\n",
      "\n",
      "See the caveats in the documentation: https://pandas.pydata.org/pandas-docs/stable/user_guide/indexing.html#returning-a-view-versus-a-copy\n",
      "  behavior[\"Y_bin\"] = np.digitize(behavior[\"Y\"], bins=bin_edges, right=False) - 1\n"
     ]
    },
    {
     "name": "stdout",
     "output_type": "stream",
     "text": [
      "Performing LOOCV on trial 65.\n"
     ]
    },
    {
     "name": "stderr",
     "output_type": "stream",
     "text": [
      "C:\\Users\\anneluka\\AppData\\Local\\Temp\\ipykernel_12636\\2591708009.py:56: SettingWithCopyWarning: \n",
      "A value is trying to be set on a copy of a slice from a DataFrame.\n",
      "Try using .loc[row_indexer,col_indexer] = value instead\n",
      "\n",
      "See the caveats in the documentation: https://pandas.pydata.org/pandas-docs/stable/user_guide/indexing.html#returning-a-view-versus-a-copy\n",
      "  behavior[\"Y_bin\"] = np.digitize(behavior[\"Y\"], bins=bin_edges, right=False) - 1\n",
      "C:\\Users\\anneluka\\AppData\\Local\\Temp\\ipykernel_12636\\2591708009.py:56: SettingWithCopyWarning: \n",
      "A value is trying to be set on a copy of a slice from a DataFrame.\n",
      "Try using .loc[row_indexer,col_indexer] = value instead\n",
      "\n",
      "See the caveats in the documentation: https://pandas.pydata.org/pandas-docs/stable/user_guide/indexing.html#returning-a-view-versus-a-copy\n",
      "  behavior[\"Y_bin\"] = np.digitize(behavior[\"Y\"], bins=bin_edges, right=False) - 1\n"
     ]
    },
    {
     "name": "stdout",
     "output_type": "stream",
     "text": [
      "Performing LOOCV on trial 66.\n"
     ]
    },
    {
     "name": "stderr",
     "output_type": "stream",
     "text": [
      "C:\\Users\\anneluka\\AppData\\Local\\Temp\\ipykernel_12636\\2591708009.py:56: SettingWithCopyWarning: \n",
      "A value is trying to be set on a copy of a slice from a DataFrame.\n",
      "Try using .loc[row_indexer,col_indexer] = value instead\n",
      "\n",
      "See the caveats in the documentation: https://pandas.pydata.org/pandas-docs/stable/user_guide/indexing.html#returning-a-view-versus-a-copy\n",
      "  behavior[\"Y_bin\"] = np.digitize(behavior[\"Y\"], bins=bin_edges, right=False) - 1\n",
      "C:\\Users\\anneluka\\AppData\\Local\\Temp\\ipykernel_12636\\2591708009.py:56: SettingWithCopyWarning: \n",
      "A value is trying to be set on a copy of a slice from a DataFrame.\n",
      "Try using .loc[row_indexer,col_indexer] = value instead\n",
      "\n",
      "See the caveats in the documentation: https://pandas.pydata.org/pandas-docs/stable/user_guide/indexing.html#returning-a-view-versus-a-copy\n",
      "  behavior[\"Y_bin\"] = np.digitize(behavior[\"Y\"], bins=bin_edges, right=False) - 1\n"
     ]
    },
    {
     "name": "stdout",
     "output_type": "stream",
     "text": [
      "Performing LOOCV on trial 67.\n"
     ]
    },
    {
     "name": "stderr",
     "output_type": "stream",
     "text": [
      "C:\\Users\\anneluka\\AppData\\Local\\Temp\\ipykernel_12636\\2591708009.py:56: SettingWithCopyWarning: \n",
      "A value is trying to be set on a copy of a slice from a DataFrame.\n",
      "Try using .loc[row_indexer,col_indexer] = value instead\n",
      "\n",
      "See the caveats in the documentation: https://pandas.pydata.org/pandas-docs/stable/user_guide/indexing.html#returning-a-view-versus-a-copy\n",
      "  behavior[\"Y_bin\"] = np.digitize(behavior[\"Y\"], bins=bin_edges, right=False) - 1\n",
      "C:\\Users\\anneluka\\AppData\\Local\\Temp\\ipykernel_12636\\2591708009.py:56: SettingWithCopyWarning: \n",
      "A value is trying to be set on a copy of a slice from a DataFrame.\n",
      "Try using .loc[row_indexer,col_indexer] = value instead\n",
      "\n",
      "See the caveats in the documentation: https://pandas.pydata.org/pandas-docs/stable/user_guide/indexing.html#returning-a-view-versus-a-copy\n",
      "  behavior[\"Y_bin\"] = np.digitize(behavior[\"Y\"], bins=bin_edges, right=False) - 1\n"
     ]
    },
    {
     "data": {
      "text/html": [
       "<div>\n",
       "<style scoped>\n",
       "    .dataframe tbody tr th:only-of-type {\n",
       "        vertical-align: middle;\n",
       "    }\n",
       "\n",
       "    .dataframe tbody tr th {\n",
       "        vertical-align: top;\n",
       "    }\n",
       "\n",
       "    .dataframe thead th {\n",
       "        text-align: right;\n",
       "    }\n",
       "</style>\n",
       "<table border=\"1\" class=\"dataframe\">\n",
       "  <thead>\n",
       "    <tr style=\"text-align: right;\">\n",
       "      <th></th>\n",
       "      <th>trial</th>\n",
       "      <th>corridor</th>\n",
       "      <th>true_bin</th>\n",
       "      <th>decoded_bin</th>\n",
       "    </tr>\n",
       "  </thead>\n",
       "  <tbody>\n",
       "    <tr>\n",
       "      <th>0</th>\n",
       "      <td>0</td>\n",
       "      <td>-0.0</td>\n",
       "      <td>12</td>\n",
       "      <td>11</td>\n",
       "    </tr>\n",
       "    <tr>\n",
       "      <th>1</th>\n",
       "      <td>0</td>\n",
       "      <td>-0.0</td>\n",
       "      <td>13</td>\n",
       "      <td>4</td>\n",
       "    </tr>\n",
       "    <tr>\n",
       "      <th>2</th>\n",
       "      <td>0</td>\n",
       "      <td>-0.0</td>\n",
       "      <td>14</td>\n",
       "      <td>4</td>\n",
       "    </tr>\n",
       "    <tr>\n",
       "      <th>3</th>\n",
       "      <td>0</td>\n",
       "      <td>-0.0</td>\n",
       "      <td>15</td>\n",
       "      <td>4</td>\n",
       "    </tr>\n",
       "    <tr>\n",
       "      <th>4</th>\n",
       "      <td>0</td>\n",
       "      <td>-0.0</td>\n",
       "      <td>16</td>\n",
       "      <td>4</td>\n",
       "    </tr>\n",
       "    <tr>\n",
       "      <th>...</th>\n",
       "      <td>...</td>\n",
       "      <td>...</td>\n",
       "      <td>...</td>\n",
       "      <td>...</td>\n",
       "    </tr>\n",
       "    <tr>\n",
       "      <th>903</th>\n",
       "      <td>67</td>\n",
       "      <td>0.0</td>\n",
       "      <td>20</td>\n",
       "      <td>7</td>\n",
       "    </tr>\n",
       "    <tr>\n",
       "      <th>904</th>\n",
       "      <td>67</td>\n",
       "      <td>0.0</td>\n",
       "      <td>21</td>\n",
       "      <td>7</td>\n",
       "    </tr>\n",
       "    <tr>\n",
       "      <th>905</th>\n",
       "      <td>67</td>\n",
       "      <td>0.0</td>\n",
       "      <td>22</td>\n",
       "      <td>7</td>\n",
       "    </tr>\n",
       "    <tr>\n",
       "      <th>906</th>\n",
       "      <td>67</td>\n",
       "      <td>0.0</td>\n",
       "      <td>23</td>\n",
       "      <td>7</td>\n",
       "    </tr>\n",
       "    <tr>\n",
       "      <th>907</th>\n",
       "      <td>67</td>\n",
       "      <td>0.0</td>\n",
       "      <td>24</td>\n",
       "      <td>7</td>\n",
       "    </tr>\n",
       "  </tbody>\n",
       "</table>\n",
       "<p>908 rows × 4 columns</p>\n",
       "</div>"
      ],
      "text/plain": [
       "     trial  corridor  true_bin  decoded_bin\n",
       "0        0      -0.0        12           11\n",
       "1        0      -0.0        13            4\n",
       "2        0      -0.0        14            4\n",
       "3        0      -0.0        15            4\n",
       "4        0      -0.0        16            4\n",
       "..     ...       ...       ...          ...\n",
       "903     67       0.0        20            7\n",
       "904     67       0.0        21            7\n",
       "905     67       0.0        22            7\n",
       "906     67       0.0        23            7\n",
       "907     67       0.0        24            7\n",
       "\n",
       "[908 rows x 4 columns]"
      ]
     },
     "execution_count": 49,
     "metadata": {},
     "output_type": "execute_result"
    }
   ],
   "source": [
    "fixed_template(dff, bh)"
   ]
  },
  {
   "cell_type": "code",
   "execution_count": 33,
   "id": "d4c656cd",
   "metadata": {},
   "outputs": [
    {
     "name": "stdout",
     "output_type": "stream",
     "text": [
      "Performing LOOCV on trial 0.\n"
     ]
    }
   ],
   "source": [
    "print(f\"Performing LOOCV on trial {trial}.\")\n",
    "\n",
    "# Split data into training and test sets\n",
    "dff_test = dff[bh[\"trial\"] == trial]\n",
    "dff_train = dff[bh[\"trial\"] != trial]\n",
    "bh_test = bh[bh[\"trial\"] == trial]\n",
    "bh_train = bh[bh[\"trial\"] != trial]"
   ]
  },
  {
   "cell_type": "code",
   "execution_count": 37,
   "id": "1d7b4dc3",
   "metadata": {},
   "outputs": [
    {
     "data": {
      "text/html": [
       "<div>\n",
       "<style scoped>\n",
       "    .dataframe tbody tr th:only-of-type {\n",
       "        vertical-align: middle;\n",
       "    }\n",
       "\n",
       "    .dataframe tbody tr th {\n",
       "        vertical-align: top;\n",
       "    }\n",
       "\n",
       "    .dataframe thead th {\n",
       "        text-align: right;\n",
       "    }\n",
       "</style>\n",
       "<table border=\"1\" class=\"dataframe\">\n",
       "  <thead>\n",
       "    <tr style=\"text-align: right;\">\n",
       "      <th></th>\n",
       "      <th>X</th>\n",
       "      <th>Y</th>\n",
       "      <th>frdIn</th>\n",
       "      <th>trial</th>\n",
       "      <th>Y_bin</th>\n",
       "      <th>X_bin</th>\n",
       "    </tr>\n",
       "  </thead>\n",
       "  <tbody>\n",
       "    <tr>\n",
       "      <th>0</th>\n",
       "      <td>-0.0</td>\n",
       "      <td>63.543000</td>\n",
       "      <td>0.029000</td>\n",
       "      <td>0</td>\n",
       "      <td>12</td>\n",
       "      <td>(-0.0505, 25.25]</td>\n",
       "    </tr>\n",
       "    <tr>\n",
       "      <th>1</th>\n",
       "      <td>0.0</td>\n",
       "      <td>63.569000</td>\n",
       "      <td>0.026000</td>\n",
       "      <td>0</td>\n",
       "      <td>12</td>\n",
       "      <td>(-0.0505, 25.25]</td>\n",
       "    </tr>\n",
       "    <tr>\n",
       "      <th>2</th>\n",
       "      <td>0.0</td>\n",
       "      <td>63.580500</td>\n",
       "      <td>0.024500</td>\n",
       "      <td>0</td>\n",
       "      <td>12</td>\n",
       "      <td>(-0.0505, 25.25]</td>\n",
       "    </tr>\n",
       "    <tr>\n",
       "      <th>3</th>\n",
       "      <td>0.0</td>\n",
       "      <td>63.632001</td>\n",
       "      <td>0.019000</td>\n",
       "      <td>0</td>\n",
       "      <td>12</td>\n",
       "      <td>(-0.0505, 25.25]</td>\n",
       "    </tr>\n",
       "    <tr>\n",
       "      <th>4</th>\n",
       "      <td>0.0</td>\n",
       "      <td>63.664009</td>\n",
       "      <td>0.015008</td>\n",
       "      <td>0</td>\n",
       "      <td>12</td>\n",
       "      <td>(-0.0505, 25.25]</td>\n",
       "    </tr>\n",
       "    <tr>\n",
       "      <th>...</th>\n",
       "      <td>...</td>\n",
       "      <td>...</td>\n",
       "      <td>...</td>\n",
       "      <td>...</td>\n",
       "      <td>...</td>\n",
       "      <td>...</td>\n",
       "    </tr>\n",
       "    <tr>\n",
       "      <th>348</th>\n",
       "      <td>0.0</td>\n",
       "      <td>150.102000</td>\n",
       "      <td>0.309807</td>\n",
       "      <td>0</td>\n",
       "      <td>29</td>\n",
       "      <td>(-0.0505, 25.25]</td>\n",
       "    </tr>\n",
       "    <tr>\n",
       "      <th>349</th>\n",
       "      <td>0.0</td>\n",
       "      <td>150.102000</td>\n",
       "      <td>0.250844</td>\n",
       "      <td>0</td>\n",
       "      <td>29</td>\n",
       "      <td>(-0.0505, 25.25]</td>\n",
       "    </tr>\n",
       "    <tr>\n",
       "      <th>350</th>\n",
       "      <td>0.0</td>\n",
       "      <td>150.102000</td>\n",
       "      <td>0.202875</td>\n",
       "      <td>0</td>\n",
       "      <td>29</td>\n",
       "      <td>(-0.0505, 25.25]</td>\n",
       "    </tr>\n",
       "    <tr>\n",
       "      <th>351</th>\n",
       "      <td>0.0</td>\n",
       "      <td>150.102000</td>\n",
       "      <td>0.182881</td>\n",
       "      <td>0</td>\n",
       "      <td>29</td>\n",
       "      <td>(-0.0505, 25.25]</td>\n",
       "    </tr>\n",
       "    <tr>\n",
       "      <th>352</th>\n",
       "      <td>0.0</td>\n",
       "      <td>150.102000</td>\n",
       "      <td>0.132918</td>\n",
       "      <td>0</td>\n",
       "      <td>29</td>\n",
       "      <td>(-0.0505, 25.25]</td>\n",
       "    </tr>\n",
       "  </tbody>\n",
       "</table>\n",
       "<p>353 rows × 6 columns</p>\n",
       "</div>"
      ],
      "text/plain": [
       "       X           Y     frdIn  trial  Y_bin             X_bin\n",
       "0   -0.0   63.543000  0.029000      0     12  (-0.0505, 25.25]\n",
       "1    0.0   63.569000  0.026000      0     12  (-0.0505, 25.25]\n",
       "2    0.0   63.580500  0.024500      0     12  (-0.0505, 25.25]\n",
       "3    0.0   63.632001  0.019000      0     12  (-0.0505, 25.25]\n",
       "4    0.0   63.664009  0.015008      0     12  (-0.0505, 25.25]\n",
       "..   ...         ...       ...    ...    ...               ...\n",
       "348  0.0  150.102000  0.309807      0     29  (-0.0505, 25.25]\n",
       "349  0.0  150.102000  0.250844      0     29  (-0.0505, 25.25]\n",
       "350  0.0  150.102000  0.202875      0     29  (-0.0505, 25.25]\n",
       "351  0.0  150.102000  0.182881      0     29  (-0.0505, 25.25]\n",
       "352  0.0  150.102000  0.132918      0     29  (-0.0505, 25.25]\n",
       "\n",
       "[353 rows x 6 columns]"
      ]
     },
     "execution_count": 37,
     "metadata": {},
     "output_type": "execute_result"
    }
   ],
   "source": [
    "bh_test"
   ]
  },
  {
   "cell_type": "code",
   "execution_count": 25,
   "id": "58aeaac9",
   "metadata": {},
   "outputs": [
    {
     "data": {
      "image/png": "[encoded data removed]",
      "text/plain": [
       "<Figure size 1200x600 with 1 Axes>"
      ]
     },
     "metadata": {},
     "output_type": "display_data"
    }
   ],
   "source": [
    "def plot_trials(behavior):\n",
    "    \"\"\"\n",
    "    Plots the Y position over time, color-coded by trial.\n",
    "\n",
    "    Parameters:\n",
    "        behavior (DataFrame): Must contain 'Y' (position in corridor) and 'trial' columns.\n",
    "    \"\"\"\n",
    "    plt.figure(figsize=(12, 6))\n",
    "\n",
    "    # Get unique trials and generate a color map\n",
    "    unique_trials = behavior[\"trial\"].unique()\n",
    "    colors = plt.cm.viridis(np.linspace(0, 1, len(unique_trials)))\n",
    "\n",
    "    # Plot Y positions, color-coded by trial\n",
    "    for trial, color in zip(unique_trials, colors):\n",
    "        trial_mask = behavior[\"trial\"] == trial\n",
    "        plt.plot(behavior.index[trial_mask], behavior[\"Y\"][trial_mask], color=color, label=f\"Trial {trial}\")\n",
    "\n",
    "    plt.xlabel(\"Time (frames)\")\n",
    "    plt.ylabel(\"Y Position\")\n",
    "    plt.title(\"Y Position Over Time (Color-coded by Trial)\")\n",
    "    #plt.legend(loc=\"upper right\", bbox_to_anchor=(1.15, 1))\n",
    "    plt.show()\n",
    "    \n",
    "plot_trials(bh)"
   ]
  },
  {
   "cell_type": "code",
   "execution_count": 95,
   "id": "c1bd1cf1",
   "metadata": {},
   "outputs": [
    {
     "name": "stderr",
     "output_type": "stream",
     "text": [
      "C:\\Users\\anneluka\\AppData\\Local\\Temp\\ipykernel_5412\\4161924360.py:50: SettingWithCopyWarning: \n",
      "A value is trying to be set on a copy of a slice from a DataFrame.\n",
      "Try using .loc[row_indexer,col_indexer] = value instead\n",
      "\n",
      "See the caveats in the documentation: https://pandas.pydata.org/pandas-docs/stable/user_guide/indexing.html#returning-a-view-versus-a-copy\n",
      "  behavior['Y_bin'] = pd.cut(behavior['Y'], bins=n_bins, labels=False)\n",
      "C:\\Users\\anneluka\\AppData\\Local\\Temp\\ipykernel_5412\\4161924360.py:51: SettingWithCopyWarning: \n",
      "A value is trying to be set on a copy of a slice from a DataFrame.\n",
      "Try using .loc[row_indexer,col_indexer] = value instead\n",
      "\n",
      "See the caveats in the documentation: https://pandas.pydata.org/pandas-docs/stable/user_guide/indexing.html#returning-a-view-versus-a-copy\n",
      "  behavior['X_bin'] = pd.cut(behavior['X'], bins = len(behavior.X.unique()))\n"
     ]
    }
   ],
   "source": [
    "time_per_bin, summed_traces = binning(dff_test, bh_test, n_bins=30) # overwrite with test data\n",
    "loocv_bins = avg_activity(time_per_bin, summed_traces) # test data to be decode"
   ]
  },
  {
   "cell_type": "code",
   "execution_count": 100,
   "id": "de725e0e",
   "metadata": {},
   "outputs": [
    {
     "data": {
      "text/html": [
       "<div>\n",
       "<style scoped>\n",
       "    .dataframe tbody tr th:only-of-type {\n",
       "        vertical-align: middle;\n",
       "    }\n",
       "\n",
       "    .dataframe tbody tr th {\n",
       "        vertical-align: top;\n",
       "    }\n",
       "\n",
       "    .dataframe thead th {\n",
       "        text-align: right;\n",
       "    }\n",
       "</style>\n",
       "<table border=\"1\" class=\"dataframe\">\n",
       "  <thead>\n",
       "    <tr style=\"text-align: right;\">\n",
       "      <th></th>\n",
       "      <th>X</th>\n",
       "      <th>Y</th>\n",
       "      <th>frdIn</th>\n",
       "      <th>trial</th>\n",
       "      <th>Y_bin</th>\n",
       "      <th>X_bin</th>\n",
       "    </tr>\n",
       "  </thead>\n",
       "  <tbody>\n",
       "    <tr>\n",
       "      <th>0</th>\n",
       "      <td>-0.0</td>\n",
       "      <td>63.543000</td>\n",
       "      <td>0.029000</td>\n",
       "      <td>0</td>\n",
       "      <td>0</td>\n",
       "      <td>(-0.001, 0.001]</td>\n",
       "    </tr>\n",
       "    <tr>\n",
       "      <th>1</th>\n",
       "      <td>0.0</td>\n",
       "      <td>63.569000</td>\n",
       "      <td>0.026000</td>\n",
       "      <td>0</td>\n",
       "      <td>0</td>\n",
       "      <td>(-0.001, 0.001]</td>\n",
       "    </tr>\n",
       "    <tr>\n",
       "      <th>2</th>\n",
       "      <td>0.0</td>\n",
       "      <td>63.580500</td>\n",
       "      <td>0.024500</td>\n",
       "      <td>0</td>\n",
       "      <td>0</td>\n",
       "      <td>(-0.001, 0.001]</td>\n",
       "    </tr>\n",
       "    <tr>\n",
       "      <th>3</th>\n",
       "      <td>0.0</td>\n",
       "      <td>63.632001</td>\n",
       "      <td>0.019000</td>\n",
       "      <td>0</td>\n",
       "      <td>0</td>\n",
       "      <td>(-0.001, 0.001]</td>\n",
       "    </tr>\n",
       "    <tr>\n",
       "      <th>4</th>\n",
       "      <td>0.0</td>\n",
       "      <td>63.664009</td>\n",
       "      <td>0.015008</td>\n",
       "      <td>0</td>\n",
       "      <td>0</td>\n",
       "      <td>(-0.001, 0.001]</td>\n",
       "    </tr>\n",
       "    <tr>\n",
       "      <th>...</th>\n",
       "      <td>...</td>\n",
       "      <td>...</td>\n",
       "      <td>...</td>\n",
       "      <td>...</td>\n",
       "      <td>...</td>\n",
       "      <td>...</td>\n",
       "    </tr>\n",
       "    <tr>\n",
       "      <th>349</th>\n",
       "      <td>0.0</td>\n",
       "      <td>150.102000</td>\n",
       "      <td>0.250844</td>\n",
       "      <td>0</td>\n",
       "      <td>29</td>\n",
       "      <td>(-0.001, 0.001]</td>\n",
       "    </tr>\n",
       "    <tr>\n",
       "      <th>350</th>\n",
       "      <td>0.0</td>\n",
       "      <td>150.102000</td>\n",
       "      <td>0.202875</td>\n",
       "      <td>0</td>\n",
       "      <td>29</td>\n",
       "      <td>(-0.001, 0.001]</td>\n",
       "    </tr>\n",
       "    <tr>\n",
       "      <th>351</th>\n",
       "      <td>0.0</td>\n",
       "      <td>150.102000</td>\n",
       "      <td>0.182881</td>\n",
       "      <td>0</td>\n",
       "      <td>29</td>\n",
       "      <td>(-0.001, 0.001]</td>\n",
       "    </tr>\n",
       "    <tr>\n",
       "      <th>352</th>\n",
       "      <td>0.0</td>\n",
       "      <td>150.102000</td>\n",
       "      <td>0.132918</td>\n",
       "      <td>0</td>\n",
       "      <td>29</td>\n",
       "      <td>(-0.001, 0.001]</td>\n",
       "    </tr>\n",
       "    <tr>\n",
       "      <th>353</th>\n",
       "      <td>0.0</td>\n",
       "      <td>149.155804</td>\n",
       "      <td>0.119924</td>\n",
       "      <td>0</td>\n",
       "      <td>29</td>\n",
       "      <td>(-0.001, 0.001]</td>\n",
       "    </tr>\n",
       "  </tbody>\n",
       "</table>\n",
       "<p>354 rows × 6 columns</p>\n",
       "</div>"
      ],
      "text/plain": [
       "       X           Y     frdIn  trial  Y_bin            X_bin\n",
       "0   -0.0   63.543000  0.029000      0      0  (-0.001, 0.001]\n",
       "1    0.0   63.569000  0.026000      0      0  (-0.001, 0.001]\n",
       "2    0.0   63.580500  0.024500      0      0  (-0.001, 0.001]\n",
       "3    0.0   63.632001  0.019000      0      0  (-0.001, 0.001]\n",
       "4    0.0   63.664009  0.015008      0      0  (-0.001, 0.001]\n",
       "..   ...         ...       ...    ...    ...              ...\n",
       "349  0.0  150.102000  0.250844      0     29  (-0.001, 0.001]\n",
       "350  0.0  150.102000  0.202875      0     29  (-0.001, 0.001]\n",
       "351  0.0  150.102000  0.182881      0     29  (-0.001, 0.001]\n",
       "352  0.0  150.102000  0.132918      0     29  (-0.001, 0.001]\n",
       "353  0.0  149.155804  0.119924      0     29  (-0.001, 0.001]\n",
       "\n",
       "[354 rows x 6 columns]"
      ]
     },
     "execution_count": 100,
     "metadata": {},
     "output_type": "execute_result"
    }
   ],
   "source": [
    "bh_test"
   ]
  },
  {
   "cell_type": "code",
   "execution_count": 79,
   "id": "42e7785d",
   "metadata": {},
   "outputs": [
    {
     "data": {
      "text/plain": [
       "Neuron\n",
       "0      1.022877\n",
       "1      3.329449\n",
       "2      1.328215\n",
       "3      1.238314\n",
       "4      0.879347\n",
       "         ...   \n",
       "361    0.755248\n",
       "362    0.911923\n",
       "363    1.115957\n",
       "364    1.692393\n",
       "365    1.224998\n",
       "Name: 5, Length: 366, dtype: float64"
      ]
     },
     "execution_count": 79,
     "metadata": {},
     "output_type": "execute_result"
    }
   ],
   "source": [
    "avg_act_mtx.xs(key=-0.0, level=\"Corridor\", axis=1).loc[5]"
   ]
  },
  {
   "cell_type": "code",
   "execution_count": 13,
   "id": "c5521031",
   "metadata": {},
   "outputs": [],
   "source": [
    "import pandas as pd\n",
    "import numpy as np\n",
    "df = pd.DataFrame({\"X\": np.linspace(0,150,100),\n",
    "                  \"Y\": np.linspace(0,150,100)})\n",
    "out, bins = pd.cut(df.X, bins=30, retbins=True)"
   ]
  },
  {
   "cell_type": "code",
   "execution_count": 16,
   "id": "c22c74dd",
   "metadata": {},
   "outputs": [
    {
     "data": {
      "text/plain": [
       "0       (-0.15, 5.0]\n",
       "1       (-0.15, 5.0]\n",
       "2       (-0.15, 5.0]\n",
       "3       (-0.15, 5.0]\n",
       "4        (5.0, 10.0]\n",
       "           ...      \n",
       "95    (140.0, 145.0]\n",
       "96    (145.0, 150.0]\n",
       "97    (145.0, 150.0]\n",
       "98    (145.0, 150.0]\n",
       "99    (145.0, 150.0]\n",
       "Name: Z, Length: 100, dtype: category\n",
       "Categories (30, interval[float64, right]): [(-0.15, 5.0] < (5.0, 10.0] < (10.0, 15.0] < (15.0, 20.0] ... (130.0, 135.0] < (135.0, 140.0] < (140.0, 145.0] < (145.0, 150.0]]"
      ]
     },
     "execution_count": 16,
     "metadata": {},
     "output_type": "execute_result"
    }
   ],
   "source": [
    "df2 = pd.DataFrame({\"Z\": np.linspace(0,150,100)})\n",
    "pd.cut(df2.Z, bins)"
   ]
  }
 ],
 "metadata": {
  "kernelspec": {
   "display_name": "SpatialInformation",
   "language": "python",
   "name": "python3"
  },
  "language_info": {
   "codemirror_mode": {
    "name": "ipython",
    "version": 3
   },
   "file_extension": ".py",
   "mimetype": "text/x-python",
   "name": "python",
   "nbconvert_exporter": "python",
   "pygments_lexer": "ipython3",
   "version": "3.12.3"
  }
 },
 "nbformat": 4,
 "nbformat_minor": 5
}
