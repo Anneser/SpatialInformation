{
 "cells": [
  {
   "cell_type": "code",
   "execution_count": 1,
   "metadata": {},
   "outputs": [],
   "source": [
    "%load_ext autoreload\n",
    "%autoreload 2\n",
    "\n",
    "import pandas as pd\n",
    "import numpy as np\n",
    "import matplotlib.pyplot as plt\n",
    "from pathlib import Path\n",
    "import seaborn as sns\n",
    "import time\n",
    "import skdim\n",
    "import tensorflow as tf\n",
    "from tensorflow.keras import layers, models\n",
    "from keras_tuner import HyperModel, RandomSearch\n",
    "from spatialinfo import spatial_information as si\n",
    "from spatialinfo import dimensionality_utils as du"
   ]
  },
  {
   "cell_type": "markdown",
   "metadata": {},
   "source": [
    "## LOAD DATA"
   ]
  },
  {
   "cell_type": "code",
   "execution_count": 2,
   "metadata": {},
   "outputs": [],
   "source": [
    "dff, bh = si.load_data(Path('..\\\\data\\\\processed_datasets\\\\20240903_Dc_1\\\\'))\n",
    "bh = si.remove_interpolated_values(bh, n_corr=2)\n",
    "bh = si.add_trial_column(bh)\n",
    "activity_data, spatial_data = si.temporal_binning(dff, bh)"
   ]
  },
  {
   "cell_type": "code",
   "execution_count": 4,
   "metadata": {},
   "outputs": [
    {
     "data": {
      "text/plain": [
       "(1828, 366)"
      ]
     },
     "execution_count": 4,
     "metadata": {},
     "output_type": "execute_result"
    }
   ],
   "source": [
    "np.shape(activity_data)"
   ]
  },
  {
   "cell_type": "markdown",
   "metadata": {},
   "source": [
    "## COMPUTE DIMENSIONALITY"
   ]
  },
  {
   "cell_type": "code",
   "execution_count": 3,
   "metadata": {},
   "outputs": [
    {
     "name": "stderr",
     "output_type": "stream",
     "text": [
      "                                                                    "
     ]
    },
    {
     "name": "stdout",
     "output_type": "stream",
     "text": [
      "ABID: 3.25"
     ]
    },
    {
     "name": "stderr",
     "output_type": "stream",
     "text": [
      "Exception in thread Thread-5 (_readerthread):\n",
      "Traceback (most recent call last):\n",
      "  File \"c:\\Users\\anneluka\\.conda\\envs\\SpatialInformation\\Lib\\threading.py\", line 1073, in _bootstrap_inner\n",
      "    self.run()\n",
      "  File \"c:\\Users\\anneluka\\.conda\\envs\\SpatialInformation\\Lib\\site-packages\\ipykernel\\ipkernel.py\", line 766, in run_closure\n",
      "    _threading_Thread_run(self)\n",
      "  File \"c:\\Users\\anneluka\\.conda\\envs\\SpatialInformation\\Lib\\threading.py\", line 1010, in run\n",
      "    self._target(*self._args, **self._kwargs)\n",
      "  File \"c:\\Users\\anneluka\\.conda\\envs\\SpatialInformation\\Lib\\subprocess.py\", line 1599, in _readerthread\n",
      "    buffer.append(fh.read())\n",
      "                  ^^^^^^^^^\n",
      "  File \"<frozen codecs>\", line 322, in decode\n",
      "UnicodeDecodeError: 'utf-8' codec can't decode byte 0x81 in position 3: invalid start byte\n",
      "  File \"c:\\Users\\anneluka\\.conda\\envs\\SpatialInformation\\Lib\\site-packages\\joblib\\externals\\loky\\backend\\context.py\", line 282, in _count_physical_cores\n",
      "    raise ValueError(f\"found {cpu_count_physical} physical cores < 1\")\n"
     ]
    },
    {
     "name": "stdout",
     "output_type": "stream",
     "text": [
      " | MOM: 10.53 | TLE: 8.65\n"
     ]
    }
   ],
   "source": [
    "\n",
    "abid_dim = np.nanmean(du.compute_abids(activity_data))\n",
    "print(f\"ABID: {abid_dim:.2f}\", end='', flush=True)\n",
    "time.sleep(.2)\n",
    "    \n",
    "mom_dim = skdim.id.MOM().fit_transform(activity_data,n_neighbors = 30)\n",
    "print(f\" | MOM: {mom_dim:.2f}\", end='', flush=True)\n",
    "time.sleep(.2)\n",
    "\n",
    "tle_dim = skdim.id.TLE().fit_transform(activity_data,n_neighbors = 30)\n",
    "print(f\" | TLE: {tle_dim:.2f}\", flush=True)\n",
    "time.sleep(.2)"
   ]
  }
 ],
 "metadata": {
  "kernelspec": {
   "display_name": "SpatialInformation",
   "language": "python",
   "name": "python3"
  },
  "language_info": {
   "codemirror_mode": {
    "name": "ipython",
    "version": 3
   },
   "file_extension": ".py",
   "mimetype": "text/x-python",
   "name": "python",
   "nbconvert_exporter": "python",
   "pygments_lexer": "ipython3",
   "version": "3.12.3"
  }
 },
 "nbformat": 4,
 "nbformat_minor": 2
}
